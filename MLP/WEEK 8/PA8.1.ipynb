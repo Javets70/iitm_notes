{
 "cells": [
  {
   "cell_type": "code",
   "execution_count": 20,
   "id": "b0d0516f-000c-44e0-9c12-e52cff3ad305",
   "metadata": {},
   "outputs": [],
   "source": [
    "import pandas as pd \n",
    "import numpy as np"
   ]
  },
  {
   "cell_type": "code",
   "execution_count": 3,
   "id": "5d775fa0-f6ab-4e4f-8206-27ee3d47fb00",
   "metadata": {},
   "outputs": [],
   "source": [
    "text_data=['A metaverse is a network of 3D virtual worlds focused on social connection.',\n",
    "           'In futurism and science fiction, the term is often described as a hypothetical iteration of the Internet as a single', \n",
    "           'universal virtual world that is facilitated by the use of virtual and augmented reality headsets.',\n",
    "           'The term \"metaverse\" has its origins  the 1992 science fiction novel Snow Crash as a portmanteau of \"meta\" and \"universe.\"',\n",
    "           'Various metaverses have been developed for popular use such as virtual world platforms like Second Life.',\n",
    "           'Some metaverse iterations involve integration between virtual and physical spaces and virtual economies',\n",
    "           'often including a significant interest in advancing virtual reality technology.', \n",
    "           'The term has seen considerable use as a buzzword for public relations purposes to exaggerate development progress for various related technologies and projects.[10] Information privacy and user addiction are concerns within metaverses',\n",
    "           'stemming from challenges facing the social media and video game industries as a whole.']"
   ]
  },
  {
   "cell_type": "markdown",
   "id": "7d66d315-9971-44d9-b5f7-75df54a3cccc",
   "metadata": {},
   "source": [
    "### 1) Vectorize the given text data using countvectorizer() object. What is the shape of text_data after vectorization?"
   ]
  },
  {
   "cell_type": "code",
   "execution_count": 8,
   "id": "ab3d43ef-d966-4e97-b8e3-f272f69191e1",
   "metadata": {},
   "outputs": [
    {
     "data": {
      "text/plain": [
       "(9, 99)"
      ]
     },
     "execution_count": 8,
     "metadata": {},
     "output_type": "execute_result"
    }
   ],
   "source": [
    "from sklearn.feature_extraction.text import CountVectorizer\n",
    "\n",
    "vectorizer = CountVectorizer()\n",
    "transformed_data = vectorizer.fit_transform(text_data)\n",
    "\n",
    "transformed_data.shape"
   ]
  },
  {
   "cell_type": "markdown",
   "id": "f763ca37-117d-40fe-aa1a-1645c3ff0492",
   "metadata": {},
   "source": [
    "### 2) What is the token associated with word \"metaverse\"?"
   ]
  },
  {
   "cell_type": "code",
   "execution_count": 14,
   "id": "7f9ef027-1486-4f97-8400-7b86eb862e43",
   "metadata": {},
   "outputs": [
    {
     "data": {
      "text/plain": [
       "51"
      ]
     },
     "execution_count": 14,
     "metadata": {},
     "output_type": "execute_result"
    }
   ],
   "source": [
    "vectorizer.vocabulary_[\"metaverse\"]"
   ]
  },
  {
   "cell_type": "markdown",
   "id": "75aaca94-4a50-45fb-a8ed-b6607a34562d",
   "metadata": {},
   "source": [
    "### 3) What is the shape of text_data after vectorization after the term that appeared in less than 2 documents are ignored?"
   ]
  },
  {
   "cell_type": "code",
   "execution_count": 15,
   "id": "bb1d8fa1-e954-47a0-843c-53f53852e5a6",
   "metadata": {},
   "outputs": [
    {
     "data": {
      "text/plain": [
       "(9, 20)"
      ]
     },
     "execution_count": 15,
     "metadata": {},
     "output_type": "execute_result"
    }
   ],
   "source": [
    "vectorizer2 = CountVectorizer(min_df=2)\n",
    "\n",
    "transformed_data2 = vectorizer2.fit_transform(text_data)\n",
    "\n",
    "transformed_data2.shape"
   ]
  },
  {
   "cell_type": "code",
   "execution_count": 17,
   "id": "7c757426-bafb-4e52-bc04-8b65803a427c",
   "metadata": {},
   "outputs": [],
   "source": [
    "Docs = ['This is the first question.', 'This document is the second document.', 'And this is the third one' ]"
   ]
  },
  {
   "cell_type": "markdown",
   "id": "ec18eb69-d4f7-4627-a4e0-11b1b617f46a",
   "metadata": {},
   "source": [
    "### 4)  Write a code to convert the above text into an array after tokenizing it using countvectorizer with 10 features. What will be the output?"
   ]
  },
  {
   "cell_type": "code",
   "execution_count": 18,
   "id": "9fe1ba6b-f253-46c0-9e02-165b207d58e6",
   "metadata": {},
   "outputs": [
    {
     "data": {
      "text/plain": [
       "array([[0, 0, 1, 1, 0, 1, 0, 1, 0, 1],\n",
       "       [0, 2, 0, 1, 0, 0, 1, 1, 0, 1],\n",
       "       [1, 0, 0, 1, 1, 0, 0, 1, 1, 1]])"
      ]
     },
     "execution_count": 18,
     "metadata": {},
     "output_type": "execute_result"
    }
   ],
   "source": [
    "vectorizer3 = CountVectorizer(max_df = 10)\n",
    "\n",
    "vectorizer3.fit_transform(Docs).toarray()"
   ]
  },
  {
   "attachments": {
    "a01e484f-f9a6-422a-b1e8-50d7dfba2498.png": {
     "image/png": "[encoded data removed]"
    }
   },
   "cell_type": "markdown",
   "id": "78cc0aed-f530-4580-8745-11c9c3ce7472",
   "metadata": {},
   "source": [
    "### 5) Define a function called k_closest in python with the following signature:\n",
    "\n",
    "![image.png](attachment:a01e484f-f9a6-422a-b1e8-50d7dfba2498.png)\n",
    "\n",
    " Which returns closest vectors in X which are closest to the vector p. Use the appropriate sklearn methods.\n",
    "\n",
    "Consider, X = np.asarray([[72, 69 ,82], [ 9 ,79, 99], [20 ,47, 88], [80 ,64, 49]]) p= np.asarray([[0,0,0]]) and k=1 For these values, what is the output of the function?"
   ]
  },
  {
   "cell_type": "code",
   "execution_count": 21,
   "id": "bf748874-93b7-4150-80bd-f63d5a91c8f0",
   "metadata": {},
   "outputs": [],
   "source": [
    "from sklearn.neighbors import KNeighborsClassifier\n",
    "\n",
    "def k_closest(X: \"set of vectors as np.ndarray\" , p:\"test vector as np.array\" , k:\"integer. Default 1\") -> np.ndarray:\n",
    "    knn = KNeighborsClassifier()\n",
    "    knn.fit(X)\n",
    "    distances , indices = knn.kneighbors(p, n_neighbors=k)\n",
    "    return indices"
   ]
  },
  {
   "cell_type": "code",
   "execution_count": 22,
   "id": "06943f32-8f87-49f4-b17d-7bb6193b7055",
   "metadata": {},
   "outputs": [
    {
     "ename": "TypeError",
     "evalue": "KNeighborsClassifier.fit() missing 1 required positional argument: 'y'",
     "output_type": "error",
     "traceback": [
      "\u001b[0;31m---------------------------------------------------------------------------\u001b[0m",
      "\u001b[0;31mTypeError\u001b[0m                                 Traceback (most recent call last)",
      "Cell \u001b[0;32mIn[22], line 1\u001b[0m\n\u001b[0;32m----> 1\u001b[0m \u001b[43mk_closest\u001b[49m\u001b[43m(\u001b[49m\u001b[43mX\u001b[49m\u001b[43m \u001b[49m\u001b[38;5;241;43m=\u001b[39;49m\u001b[43m \u001b[49m\u001b[43mnp\u001b[49m\u001b[38;5;241;43m.\u001b[39;49m\u001b[43masarray\u001b[49m\u001b[43m(\u001b[49m\u001b[43m[\u001b[49m\u001b[43m[\u001b[49m\u001b[38;5;241;43m72\u001b[39;49m\u001b[43m,\u001b[49m\u001b[43m \u001b[49m\u001b[38;5;241;43m69\u001b[39;49m\u001b[43m \u001b[49m\u001b[43m,\u001b[49m\u001b[38;5;241;43m82\u001b[39;49m\u001b[43m]\u001b[49m\u001b[43m,\u001b[49m\u001b[43m \u001b[49m\u001b[43m[\u001b[49m\u001b[43m \u001b[49m\u001b[38;5;241;43m9\u001b[39;49m\u001b[43m \u001b[49m\u001b[43m,\u001b[49m\u001b[38;5;241;43m79\u001b[39;49m\u001b[43m,\u001b[49m\u001b[43m \u001b[49m\u001b[38;5;241;43m99\u001b[39;49m\u001b[43m]\u001b[49m\u001b[43m,\u001b[49m\u001b[43m \u001b[49m\u001b[43m[\u001b[49m\u001b[38;5;241;43m20\u001b[39;49m\u001b[43m \u001b[49m\u001b[43m,\u001b[49m\u001b[38;5;241;43m47\u001b[39;49m\u001b[43m,\u001b[49m\u001b[43m \u001b[49m\u001b[38;5;241;43m88\u001b[39;49m\u001b[43m]\u001b[49m\u001b[43m,\u001b[49m\u001b[43m \u001b[49m\u001b[43m[\u001b[49m\u001b[38;5;241;43m80\u001b[39;49m\u001b[43m \u001b[49m\u001b[43m,\u001b[49m\u001b[38;5;241;43m64\u001b[39;49m\u001b[43m,\u001b[49m\u001b[43m \u001b[49m\u001b[38;5;241;43m49\u001b[39;49m\u001b[43m]\u001b[49m\u001b[43m]\u001b[49m\u001b[43m)\u001b[49m\u001b[43m \u001b[49m\u001b[43m,\u001b[49m\u001b[43m  \u001b[49m\u001b[43mp\u001b[49m\u001b[38;5;241;43m=\u001b[39;49m\u001b[43m \u001b[49m\u001b[43mnp\u001b[49m\u001b[38;5;241;43m.\u001b[39;49m\u001b[43masarray\u001b[49m\u001b[43m(\u001b[49m\u001b[43m[\u001b[49m\u001b[43m[\u001b[49m\u001b[38;5;241;43m0\u001b[39;49m\u001b[43m,\u001b[49m\u001b[38;5;241;43m0\u001b[39;49m\u001b[43m,\u001b[49m\u001b[38;5;241;43m0\u001b[39;49m\u001b[43m]\u001b[49m\u001b[43m]\u001b[49m\u001b[43m)\u001b[49m\u001b[43m \u001b[49m\u001b[43m,\u001b[49m\u001b[43m \u001b[49m\u001b[43mk\u001b[49m\u001b[38;5;241;43m=\u001b[39;49m\u001b[38;5;241;43m1\u001b[39;49m\u001b[43m)\u001b[49m\n",
      "Cell \u001b[0;32mIn[21], line 5\u001b[0m, in \u001b[0;36mk_closest\u001b[0;34m(X, p, k)\u001b[0m\n\u001b[1;32m      3\u001b[0m \u001b[38;5;28;01mdef\u001b[39;00m \u001b[38;5;21mk_closest\u001b[39m(X: \u001b[38;5;124m\"\u001b[39m\u001b[38;5;124mset of vectors as np.ndarray\u001b[39m\u001b[38;5;124m\"\u001b[39m , p:\u001b[38;5;124m\"\u001b[39m\u001b[38;5;124mtest vector as np.array\u001b[39m\u001b[38;5;124m\"\u001b[39m , k:\u001b[38;5;124m\"\u001b[39m\u001b[38;5;124minteger. Default 1\u001b[39m\u001b[38;5;124m\"\u001b[39m) \u001b[38;5;241m-\u001b[39m\u001b[38;5;241m>\u001b[39m np\u001b[38;5;241m.\u001b[39mndarray:\n\u001b[1;32m      4\u001b[0m     knn \u001b[38;5;241m=\u001b[39m KNeighborsClassifier()\n\u001b[0;32m----> 5\u001b[0m     \u001b[43mknn\u001b[49m\u001b[38;5;241;43m.\u001b[39;49m\u001b[43mfit\u001b[49m\u001b[43m(\u001b[49m\u001b[43mX\u001b[49m\u001b[43m)\u001b[49m\n\u001b[1;32m      6\u001b[0m     distances , indices \u001b[38;5;241m=\u001b[39m knn\u001b[38;5;241m.\u001b[39mkneighbors(p, n_neighbors\u001b[38;5;241m=\u001b[39mk)\n\u001b[1;32m      7\u001b[0m     \u001b[38;5;28;01mreturn\u001b[39;00m indices\n",
      "File \u001b[0;32m~/.local/lib/python3.10/site-packages/sklearn/base.py:1351\u001b[0m, in \u001b[0;36m_fit_context.<locals>.decorator.<locals>.wrapper\u001b[0;34m(estimator, *args, **kwargs)\u001b[0m\n\u001b[1;32m   1344\u001b[0m     estimator\u001b[38;5;241m.\u001b[39m_validate_params()\n\u001b[1;32m   1346\u001b[0m \u001b[38;5;28;01mwith\u001b[39;00m config_context(\n\u001b[1;32m   1347\u001b[0m     skip_parameter_validation\u001b[38;5;241m=\u001b[39m(\n\u001b[1;32m   1348\u001b[0m         prefer_skip_nested_validation \u001b[38;5;129;01mor\u001b[39;00m global_skip_validation\n\u001b[1;32m   1349\u001b[0m     )\n\u001b[1;32m   1350\u001b[0m ):\n\u001b[0;32m-> 1351\u001b[0m     \u001b[38;5;28;01mreturn\u001b[39;00m \u001b[43mfit_method\u001b[49m\u001b[43m(\u001b[49m\u001b[43mestimator\u001b[49m\u001b[43m,\u001b[49m\u001b[43m \u001b[49m\u001b[38;5;241;43m*\u001b[39;49m\u001b[43margs\u001b[49m\u001b[43m,\u001b[49m\u001b[43m \u001b[49m\u001b[38;5;241;43m*\u001b[39;49m\u001b[38;5;241;43m*\u001b[39;49m\u001b[43mkwargs\u001b[49m\u001b[43m)\u001b[49m\n",
      "\u001b[0;31mTypeError\u001b[0m: KNeighborsClassifier.fit() missing 1 required positional argument: 'y'"
     ]
    }
   ],
   "source": [
    "k_closest(X = np.asarray([[72, 69 ,82], [ 9 ,79, 99], [20 ,47, 88], [80 ,64, 49]]) ,  p= np.asarray([[0,0,0]]) , k=1)"
   ]
  },
  {
   "attachments": {
    "4b469211-bfae-4e4c-b5ed-2d1783f95ae2.png": {
     "image/png": "[encoded data removed]"
    }
   },
   "cell_type": "markdown",
   "id": "4d5c1341-6e7d-4c11-8ab1-c6b917eaa79a",
   "metadata": {},
   "source": [
    "### 6) Define a function called distance in python with the following signature: \n",
    "\n",
    "`def distance( x0 : \"A vector as np.array\", X: \"A list of vectors as np.ndarray\", p : \"p value for Minkowsky distance. Default 2, for Eucledian\"):`\n",
    "\n",
    "which returns a list of calculated Minkowsky distances between the point x0 and all points in X. Recall that the p-Minkowsky distance between\n",
    "![image.png](attachment:4b469211-bfae-4e4c-b5ed-2d1783f95ae2.png)\n",
    "\n",
    "Do not use any predefined function to calculate the same. \n",
    "      Consider, X0 = np.array([1,0,0,0]), X= np.asarray([[1, 0, 0,0], [0, 1, 1,1],[1,2,0,0]]), p= 2 then, what is the output of the function distance(X0,X,p) ?"
   ]
  },
  {
   "cell_type": "code",
   "execution_count": 39,
   "id": "e9acb164-ab02-4d2c-a097-f1aab30b8766",
   "metadata": {},
   "outputs": [],
   "source": [
    "from sklearn.metrics.pairwise import pairwise_distances\n",
    "\n",
    "def distance(X0 : \"A vector as np.array\", \n",
    "             X: \"A list of vectors as np.ndarray\", \n",
    "             p : \"p value for Minkowsky distance. Default 2, for Eucledian\" = 2):\n",
    "    distances = []\n",
    "    for point in X:\n",
    "        distances += [\n",
    "            sum( (abs(point - X0))**p  )\n",
    "        ]\n",
    "    return distances"
   ]
  },
  {
   "cell_type": "code",
   "execution_count": 40,
   "id": "52754439-b850-4f51-8d13-6e652b37bc5d",
   "metadata": {},
   "outputs": [
    {
     "data": {
      "text/plain": [
       "[0, 4, 4]"
      ]
     },
     "execution_count": 40,
     "metadata": {},
     "output_type": "execute_result"
    }
   ],
   "source": [
    "distance(X0 = np.array([1,0,0,0]), X= np.asarray([[1, 0, 0,0], [0, 1, 1,1],[1,2,0,0]]), p= 2)"
   ]
  },
  {
   "cell_type": "markdown",
   "id": "5d4a6175-ddc9-4cd0-aef7-933378daf1cb",
   "metadata": {},
   "source": [
    "**Load digit dataset on Colab (datasets.load_digits()) and use softmax regression to build the model Using following steps.**  \n",
    " **Step 1: Load the dataset and split it using train_test_split by keeping: test_size= 0.2 random_state=10**  \n",
    " **Step 2: Use standard scaler as a scaling function to scale the training as well as test data.**  \n",
    " **Step 3: Use Logisticregression() as an estimator and set parameter (multi_class='multinomial', solver='sag') to predict the output.**  "
   ]
  },
  {
   "cell_type": "code",
   "execution_count": 41,
   "id": "5146df36-2181-4e8a-bdb4-2bfced7bcdba",
   "metadata": {},
   "outputs": [],
   "source": [
    "from sklearn.datasets import load_digits\n",
    "\n",
    "X,y = load_digits(return_X_y=True , as_frame=True)"
   ]
  },
  {
   "cell_type": "code",
   "execution_count": 42,
   "id": "bf74e774-db3e-432e-94fe-852097b2c332",
   "metadata": {},
   "outputs": [],
   "source": [
    "from sklearn.model_selection import train_test_split\n",
    "\n",
    "X_train , X_test , y_train , y_test = train_test_split(X,y , test_size=0.2 , random_state=10)"
   ]
  },
  {
   "cell_type": "code",
   "execution_count": 43,
   "id": "44ce040d-ff01-4938-bbcc-976eca44c9be",
   "metadata": {},
   "outputs": [],
   "source": [
    "from sklearn.preprocessing import StandardScaler\n",
    "\n",
    "scaler = StandardScaler()\n",
    "X_train = scaler.fit_transform(X_train)\n",
    "X_test = scaler.transform(X_test)"
   ]
  },
  {
   "cell_type": "code",
   "execution_count": 44,
   "id": "5c2e6bed-9c02-4ae0-a0ea-2ccac80bbb91",
   "metadata": {},
   "outputs": [],
   "source": [
    "from sklearn.linear_model import LogisticRegression\n",
    "\n",
    "clf = LogisticRegression(multi_class='multinomial' , solver='sag')"
   ]
  },
  {
   "cell_type": "markdown",
   "id": "dcb91802-2a4c-4205-827d-3b0230364ebc",
   "metadata": {},
   "source": [
    "### 7) What is the shape of features data you got in digits dataset ?"
   ]
  },
  {
   "cell_type": "code",
   "execution_count": 45,
   "id": "c247b032-da2c-4d7d-9cb4-3ed23f891b9f",
   "metadata": {},
   "outputs": [
    {
     "data": {
      "text/plain": [
       "(1797, 64)"
      ]
     },
     "execution_count": 45,
     "metadata": {},
     "output_type": "execute_result"
    }
   ],
   "source": [
    "X.shape"
   ]
  },
  {
   "cell_type": "markdown",
   "id": "ae26d7d2-ca23-4cc2-bb00-82e228f788c4",
   "metadata": {},
   "source": [
    "### 8) How many labels are there in the dataset?"
   ]
  },
  {
   "cell_type": "code",
   "execution_count": 46,
   "id": "82b7bfb5-db86-437b-a661-a8eb2ed71dd2",
   "metadata": {},
   "outputs": [
    {
     "data": {
      "text/plain": [
       "10"
      ]
     },
     "execution_count": 46,
     "metadata": {},
     "output_type": "execute_result"
    }
   ],
   "source": [
    "y.nunique()"
   ]
  },
  {
   "cell_type": "markdown",
   "id": "789294e8-4980-4702-8ebd-e0860d4c6ee3",
   "metadata": {},
   "source": [
    "### 9) How many times label '7' is there in the dataset?"
   ]
  },
  {
   "cell_type": "code",
   "execution_count": 50,
   "id": "64549c9b-befc-4844-a7ef-da08b257c736",
   "metadata": {},
   "outputs": [
    {
     "data": {
      "text/plain": [
       "179"
      ]
     },
     "execution_count": 50,
     "metadata": {},
     "output_type": "execute_result"
    }
   ],
   "source": [
    "y.value_counts()[7]"
   ]
  },
  {
   "cell_type": "markdown",
   "id": "b224b9aa-da5e-4976-9050-a389d7c1d7d0",
   "metadata": {},
   "source": [
    "### 10) What is the accuracy of the trained model on test data?"
   ]
  },
  {
   "cell_type": "code",
   "execution_count": 51,
   "id": "a56b6e43-6791-4dce-b34a-ec324cfc8293",
   "metadata": {},
   "outputs": [
    {
     "name": "stderr",
     "output_type": "stream",
     "text": [
      "/home/tejasvmaheshwari/.local/lib/python3.10/site-packages/sklearn/linear_model/_sag.py:350: ConvergenceWarning: The max_iter was reached which means the coef_ did not converge\n",
      "  warnings.warn(\n"
     ]
    },
    {
     "data": {
      "text/plain": [
       "0.9666666666666667"
      ]
     },
     "execution_count": 51,
     "metadata": {},
     "output_type": "execute_result"
    }
   ],
   "source": [
    "clf.fit(X_train , y_train)\n",
    "\n",
    "clf.score(X_test , y_test)"
   ]
  },
  {
   "cell_type": "markdown",
   "id": "f1a74594-1f86-4f65-a252-1f10911544f9",
   "metadata": {},
   "source": [
    "### 11) Write the f1_score value you got .(Keep parameter average='weighted')"
   ]
  },
  {
   "cell_type": "code",
   "execution_count": 53,
   "id": "c7c7f87a-fcf5-44ba-8ecb-c642118ae840",
   "metadata": {},
   "outputs": [
    {
     "data": {
      "text/plain": [
       "0.966907732026411"
      ]
     },
     "execution_count": 53,
     "metadata": {},
     "output_type": "execute_result"
    }
   ],
   "source": [
    "from sklearn.metrics import f1_score \n",
    "\n",
    "f1_score(y_test , clf.predict(X_test) , average='weighted')"
   ]
  },
  {
   "cell_type": "code",
   "execution_count": null,
   "id": "c2f4049c-664c-4c56-b38b-f52dbc84239d",
   "metadata": {},
   "outputs": [],
   "source": []
  }
 ],
 "metadata": {
  "kernelspec": {
   "display_name": "Python 3 (ipykernel)",
   "language": "python",
   "name": "python3"
  },
  "language_info": {
   "codemirror_mode": {
    "name": "ipython",
    "version": 3
   },
   "file_extension": ".py",
   "mimetype": "text/x-python",
   "name": "python",
   "nbconvert_exporter": "python",
   "pygments_lexer": "ipython3",
   "version": "3.10.12"
  }
 },
 "nbformat": 4,
 "nbformat_minor": 5
}
