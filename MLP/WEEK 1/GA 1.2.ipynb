{
 "cells": [
  {
   "cell_type": "code",
   "execution_count": 1,
   "id": "526d6e94-d297-46b5-ad7e-d0a4252f657b",
   "metadata": {},
   "outputs": [
    {
     "name": "stderr",
     "output_type": "stream",
     "text": [
      "/tmp/ipykernel_159242/4080736814.py:1: DeprecationWarning: \n",
      "Pyarrow will become a required dependency of pandas in the next major release of pandas (pandas 3.0),\n",
      "(to allow more performant data types, such as the Arrow string type, and better interoperability with other libraries)\n",
      "but was not found to be installed on your system.\n",
      "If this would cause problems for you,\n",
      "please provide us feedback at https://github.com/pandas-dev/pandas/issues/54466\n",
      "        \n",
      "  import pandas as pd\n"
     ]
    }
   ],
   "source": [
    "import pandas as pd"
   ]
  },
  {
   "cell_type": "code",
   "execution_count": 2,
   "id": "89eb8129-c085-4d5c-929f-a61b8294aa82",
   "metadata": {},
   "outputs": [],
   "source": [
    "url = \"https://drive.google.com/file/d/16D9FztGYzHiOXHzz5FiojqVbyOyV6zM2/view\"\n",
    "fileId = url.split(\"/\")[-2]\n",
    "urlNew = \"https://drive.google.com/uc?id=\" + fileId\n",
    "df = pd.read_csv(urlNew)"
   ]
  },
  {
   "cell_type": "code",
   "execution_count": 34,
   "id": "1e7ba084-ad89-46b2-b2be-9098826aefef",
   "metadata": {},
   "outputs": [
    {
     "data": {
      "text/html": [
       "<div>\n",
       "<style scoped>\n",
       "    .dataframe tbody tr th:only-of-type {\n",
       "        vertical-align: middle;\n",
       "    }\n",
       "\n",
       "    .dataframe tbody tr th {\n",
       "        vertical-align: top;\n",
       "    }\n",
       "\n",
       "    .dataframe thead th {\n",
       "        text-align: right;\n",
       "    }\n",
       "</style>\n",
       "<table border=\"1\" class=\"dataframe\">\n",
       "  <thead>\n",
       "    <tr style=\"text-align: right;\">\n",
       "      <th></th>\n",
       "      <th>Date</th>\n",
       "      <th>Year</th>\n",
       "      <th>Locality</th>\n",
       "      <th>Estimated Value</th>\n",
       "      <th>Sale Price</th>\n",
       "      <th>Property</th>\n",
       "      <th>Residential</th>\n",
       "      <th>num_rooms</th>\n",
       "      <th>num_bathrooms</th>\n",
       "      <th>carpet_area</th>\n",
       "      <th>property_tax_rate</th>\n",
       "      <th>Face</th>\n",
       "    </tr>\n",
       "  </thead>\n",
       "  <tbody>\n",
       "    <tr>\n",
       "      <th>0</th>\n",
       "      <td>2009-01-02</td>\n",
       "      <td>2009</td>\n",
       "      <td>Waterbury</td>\n",
       "      <td>111440.0</td>\n",
       "      <td>185000.0</td>\n",
       "      <td>Single Family</td>\n",
       "      <td>Detached House</td>\n",
       "      <td>3</td>\n",
       "      <td>3</td>\n",
       "      <td>996.0</td>\n",
       "      <td>1.025953</td>\n",
       "      <td>South</td>\n",
       "    </tr>\n",
       "    <tr>\n",
       "      <th>1</th>\n",
       "      <td>2009-01-02</td>\n",
       "      <td>2009</td>\n",
       "      <td>Bridgeport</td>\n",
       "      <td>124670.0</td>\n",
       "      <td>150000.0</td>\n",
       "      <td>Two Family</td>\n",
       "      <td>Duplex</td>\n",
       "      <td>4</td>\n",
       "      <td>3</td>\n",
       "      <td>1241.0</td>\n",
       "      <td>1.025953</td>\n",
       "      <td>South</td>\n",
       "    </tr>\n",
       "    <tr>\n",
       "      <th>2</th>\n",
       "      <td>2009-01-02</td>\n",
       "      <td>2009</td>\n",
       "      <td>Waterbury</td>\n",
       "      <td>55720.0</td>\n",
       "      <td>140000.0</td>\n",
       "      <td>Single Family</td>\n",
       "      <td>Detached House</td>\n",
       "      <td>3</td>\n",
       "      <td>2</td>\n",
       "      <td>910.0</td>\n",
       "      <td>1.025953</td>\n",
       "      <td>South</td>\n",
       "    </tr>\n",
       "    <tr>\n",
       "      <th>3</th>\n",
       "      <td>2009-01-02</td>\n",
       "      <td>2009</td>\n",
       "      <td>Bridgeport</td>\n",
       "      <td>4775276.0</td>\n",
       "      <td>272900.0</td>\n",
       "      <td>Single Family</td>\n",
       "      <td>Detached House</td>\n",
       "      <td>3</td>\n",
       "      <td>1</td>\n",
       "      <td>971.0</td>\n",
       "      <td>1.025953</td>\n",
       "      <td>East</td>\n",
       "    </tr>\n",
       "    <tr>\n",
       "      <th>4</th>\n",
       "      <td>2009-01-02</td>\n",
       "      <td>2009</td>\n",
       "      <td>Bridgeport</td>\n",
       "      <td>112351.0</td>\n",
       "      <td>210000.0</td>\n",
       "      <td>?</td>\n",
       "      <td>Detached House</td>\n",
       "      <td>3</td>\n",
       "      <td>2</td>\n",
       "      <td>1092.0</td>\n",
       "      <td>1.025953</td>\n",
       "      <td>East</td>\n",
       "    </tr>\n",
       "  </tbody>\n",
       "</table>\n",
       "</div>"
      ],
      "text/plain": [
       "         Date  Year    Locality  Estimated Value  Sale Price       Property  \\\n",
       "0  2009-01-02  2009   Waterbury         111440.0    185000.0  Single Family   \n",
       "1  2009-01-02  2009  Bridgeport         124670.0    150000.0     Two Family   \n",
       "2  2009-01-02  2009   Waterbury          55720.0    140000.0  Single Family   \n",
       "3  2009-01-02  2009  Bridgeport        4775276.0    272900.0  Single Family   \n",
       "4  2009-01-02  2009  Bridgeport         112351.0    210000.0              ?   \n",
       "\n",
       "      Residential  num_rooms  num_bathrooms  carpet_area  property_tax_rate  \\\n",
       "0  Detached House          3              3        996.0           1.025953   \n",
       "1          Duplex          4              3       1241.0           1.025953   \n",
       "2  Detached House          3              2        910.0           1.025953   \n",
       "3  Detached House          3              1        971.0           1.025953   \n",
       "4  Detached House          3              2       1092.0           1.025953   \n",
       "\n",
       "    Face  \n",
       "0  South  \n",
       "1  South  \n",
       "2  South  \n",
       "3   East  \n",
       "4   East  "
      ]
     },
     "execution_count": 34,
     "metadata": {},
     "output_type": "execute_result"
    }
   ],
   "source": [
    "df.head()"
   ]
  },
  {
   "cell_type": "markdown",
   "id": "b1472950-424a-4af1-8233-54edecddd848",
   "metadata": {},
   "source": [
    "#### Q1) Select all the even indexed rows from the given dataset. What is the value in the 3rd indexed column of the 0th indexed row in the selected dataframe. (row/ column indexed from zero(0) in python/pandas)"
   ]
  },
  {
   "cell_type": "code",
   "execution_count": 35,
   "id": "2111fa40-8542-485e-a611-54de3b974903",
   "metadata": {},
   "outputs": [
    {
     "data": {
      "text/plain": [
       "111440.0"
      ]
     },
     "execution_count": 35,
     "metadata": {},
     "output_type": "execute_result"
    }
   ],
   "source": [
    "df[::2].iloc[0,3]"
   ]
  },
  {
   "cell_type": "markdown",
   "id": "64082095-ac96-4c62-a718-238e274dc74a",
   "metadata": {},
   "source": [
    "#### Q2) Select all the even indexed rows from the given dataset. What is the value in the 3rd indexed column of the 332th indexed row in the selected dataframe. (row/ column indexed from zero(0))"
   ]
  },
  {
   "cell_type": "code",
   "execution_count": 36,
   "id": "a57b4d9d-bad0-4a91-8583-db8c5a1a285e",
   "metadata": {},
   "outputs": [
    {
     "data": {
      "text/plain": [
       "256200.0"
      ]
     },
     "execution_count": 36,
     "metadata": {},
     "output_type": "execute_result"
    }
   ],
   "source": [
    "df[::2].iloc[332,3]"
   ]
  },
  {
   "cell_type": "markdown",
   "id": "11c9766b-0cb4-45a9-b3f5-2082ad740acb",
   "metadata": {},
   "source": [
    "#### Q3) Select all the odd indexed rows from the given dataset. What is the value in the 3rd indexed column of the 332th indexed row in the selected dataframe. (row/ column indexed from zero(0))\n",
    " Please consider case sensitivity while giving your solution capital letter ≠ small letter   \n",
    "  If it is a string don't write quotes in the solution.   "
   ]
  },
  {
   "cell_type": "code",
   "execution_count": 37,
   "id": "23f46e29-4bbd-4d54-9eaf-275d090d9ca0",
   "metadata": {},
   "outputs": [
    {
     "data": {
      "text/plain": [
       "352940.0"
      ]
     },
     "execution_count": 37,
     "metadata": {},
     "output_type": "execute_result"
    }
   ],
   "source": [
    "df[1::2].iloc[332,3]"
   ]
  },
  {
   "cell_type": "markdown",
   "id": "c7f356a0-1e2b-4302-be5c-7dfe83a37228",
   "metadata": {},
   "source": [
    "#### Q4) Select all the odd indexed columns from the given dataset. What is the value in the 5th indexed column of the 100th indexed row in the selected dataframe. (row/ column indexed from zero(0))\n",
    "Please consider case sensitivity while giving your solution capital letter ≠ small letter  \n",
    "If it is a string don't write quotes in the solution.  \n",
    "\n"
   ]
  },
  {
   "cell_type": "code",
   "execution_count": 38,
   "id": "514f324b-08f4-46fd-a33f-40e199634240",
   "metadata": {},
   "outputs": [
    {
     "data": {
      "text/plain": [
       "'West'"
      ]
     },
     "execution_count": 38,
     "metadata": {},
     "output_type": "execute_result"
    }
   ],
   "source": [
    "df.iloc[:,1::2].iloc[100,5]"
   ]
  },
  {
   "cell_type": "markdown",
   "id": "47d46797-762d-4ae1-ba0f-968a08539fc8",
   "metadata": {},
   "source": [
    "#### Q5) Select all the even indexed columns and even indexed rows from the given dataset. What is the value in the 3th indexed column of the 255th indexed row in the selected dataframe. (row/ column indexed/starts from zero(0))\n",
    "Please consider case sensitivity while giving your solution capital letter ≠ small letter  \n",
    "If it is a string don't write quotes in the solution."
   ]
  },
  {
   "cell_type": "code",
   "execution_count": 39,
   "id": "5c688e36-14e9-40e7-803c-ec4a4dbb34a6",
   "metadata": {},
   "outputs": [
    {
     "data": {
      "text/plain": [
       "'Detached House'"
      ]
     },
     "execution_count": 39,
     "metadata": {},
     "output_type": "execute_result"
    }
   ],
   "source": [
    "df.iloc[::2 , ::2].iloc[255,3]"
   ]
  },
  {
   "cell_type": "markdown",
   "id": "56ababb5-772d-4773-a447-d119bdb508c1",
   "metadata": {},
   "source": [
    "#### Q6) Determine the number of samples (rows) in the dataset that belong to the six most recent years, based on the provided data."
   ]
  },
  {
   "cell_type": "code",
   "execution_count": 40,
   "id": "13bca6ec-d8a8-4d8a-8543-34c8eb16293a",
   "metadata": {},
   "outputs": [
    {
     "data": {
      "text/plain": [
       "4749"
      ]
     },
     "execution_count": 40,
     "metadata": {},
     "output_type": "execute_result"
    }
   ],
   "source": [
    "maxYear = df['Year'].max()\n",
    "df[df['Year'].isin(range(maxYear - 6 + 1 , maxYear+1))].shape[0]"
   ]
  },
  {
   "cell_type": "markdown",
   "id": "4ff4aa10-0eab-4c7b-a447-50490051b0c8",
   "metadata": {},
   "source": [
    "#### Q7) Determine the number of samples (rows) in the dataset which has num_rooms = 3 or num_bathrooms = 3"
   ]
  },
  {
   "cell_type": "code",
   "execution_count": 3,
   "id": "f362e32d-8ab5-4dcd-b8bd-d1aa55f1d69d",
   "metadata": {},
   "outputs": [
    {
     "data": {
      "text/plain": [
       "2730"
      ]
     },
     "execution_count": 3,
     "metadata": {},
     "output_type": "execute_result"
    }
   ],
   "source": [
    "df[ (df[\"num_rooms\"]==3) & (df[\"num_bathrooms\"] == 3) ].shape[0]"
   ]
  },
  {
   "cell_type": "markdown",
   "id": "1c52688c-45ff-4f4b-99a5-39dac9b23820",
   "metadata": {},
   "source": [
    "#### Q8) Determine the number of samples (rows) in the dataset which has num_rooms = 3 or num_bathrooms = 3"
   ]
  },
  {
   "cell_type": "code",
   "execution_count": 4,
   "id": "f5549da8-f91f-47da-a675-7b699418fe43",
   "metadata": {},
   "outputs": [
    {
     "data": {
      "text/plain": [
       "8591"
      ]
     },
     "execution_count": 4,
     "metadata": {},
     "output_type": "execute_result"
    }
   ],
   "source": [
    "df[ (df[\"num_rooms\"]==3) | (df[\"num_bathrooms\"] == 3) ].shape[0]"
   ]
  },
  {
   "cell_type": "markdown",
   "id": "aa60ee75-99ae-4bdb-af03-8ac3d5534716",
   "metadata": {},
   "source": [
    "#### Q9) In the Year 2022, how many houses (rows) located in the Greenwich Locality have exactly num_room == 3, and facing towards either the North or East?"
   ]
  },
  {
   "cell_type": "code",
   "execution_count": 46,
   "id": "d389b768-971b-4694-b42e-9fd662169051",
   "metadata": {},
   "outputs": [
    {
     "data": {
      "text/plain": [
       "42"
      ]
     },
     "execution_count": 46,
     "metadata": {},
     "output_type": "execute_result"
    }
   ],
   "source": [
    "df[ (df[\"Year\"] == 2022) & (df[\"Locality\"] == \"Greenwich\") & (df[\"num_rooms\"] == 3) & ((df[\"Face\"] == \"North\") | (df[\"Face\"] == \"East\"))].shape[0]"
   ]
  },
  {
   "cell_type": "markdown",
   "id": "a8468f01-0ed7-47c9-9629-8369850e57e9",
   "metadata": {},
   "source": [
    "#### Q10) Calculate the number of samples(rows) that correspond to the month of August across all the years.?"
   ]
  },
  {
   "cell_type": "code",
   "execution_count": 43,
   "id": "4e584c02-c223-477f-a246-a8a59fbd8492",
   "metadata": {},
   "outputs": [
    {
     "data": {
      "text/plain": [
       "1050"
      ]
     },
     "execution_count": 43,
     "metadata": {},
     "output_type": "execute_result"
    }
   ],
   "source": [
    "df[\"Date\"].apply(lambda date : date.split(\"-\")[1] == \"08\").sum()"
   ]
  },
  {
   "cell_type": "markdown",
   "id": "886c6f0e-7d7e-45a2-8785-5d190d33e8d5",
   "metadata": {},
   "source": [
    "#### Q11) According to the data which Locality have highest average Sale Price?\n"
   ]
  },
  {
   "cell_type": "code",
   "execution_count": 44,
   "id": "cac6851c-71f4-4c3e-81ee-93969375d414",
   "metadata": {},
   "outputs": [
    {
     "data": {
      "text/plain": [
       "'Greenwich'"
      ]
     },
     "execution_count": 44,
     "metadata": {},
     "output_type": "execute_result"
    }
   ],
   "source": [
    "df.groupby(\"Locality\")[\"Sale Price\"].mean().idxmax()"
   ]
  },
  {
   "cell_type": "code",
   "execution_count": null,
   "id": "fe78755c-c8f2-4ab1-b131-36b70a4915fc",
   "metadata": {},
   "outputs": [],
   "source": []
  }
 ],
 "metadata": {
  "kernelspec": {
   "display_name": "Python 3 (ipykernel)",
   "language": "python",
   "name": "python3"
  },
  "language_info": {
   "codemirror_mode": {
    "name": "ipython",
    "version": 3
   },
   "file_extension": ".py",
   "mimetype": "text/x-python",
   "name": "python",
   "nbconvert_exporter": "python",
   "pygments_lexer": "ipython3",
   "version": "3.10.12"
  }
 },
 "nbformat": 4,
 "nbformat_minor": 5
}
