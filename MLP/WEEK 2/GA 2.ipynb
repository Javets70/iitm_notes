{
 "cells": [
  {
   "cell_type": "markdown",
   "id": "a10d74b9-247e-49aa-be7f-9b6f9ebda7f8",
   "metadata": {},
   "source": [
    "# WEEK 2 GRADED ASSIGNMENT"
   ]
  },
  {
   "cell_type": "markdown",
   "id": "495c5055-b7b1-475f-9c01-02fb811fd6f4",
   "metadata": {},
   "source": [
    "**Note: For numerical answer type questions, always enter your answers as fractions and not as percentage. E.g. if you calculate the answer of a numerical question as 24.5%, enter your answer as 0.245.\n",
    "It is mandatory to use `sklearn.__version__ = 1.2.2` for solving all the questions**"
   ]
  },
  {
   "cell_type": "code",
   "execution_count": 8,
   "id": "e67c6c7e-e636-4346-af42-ac5f3a655cb5",
   "metadata": {},
   "outputs": [],
   "source": [
    "import pkg_resources\n",
    "pkg_resources.require(\"scikit-learn==1.2.2\")\n",
    "import pandas as pd"
   ]
  },
  {
   "cell_type": "markdown",
   "id": "fe761efc-c098-467a-8afe-06c493202eda",
   "metadata": {},
   "source": [
    "#### Q1) Find shape of the Wisconsin breast cancer data's feature matrix (accessed from sklearn.datasets)"
   ]
  },
  {
   "cell_type": "code",
   "execution_count": 15,
   "id": "9507c255-76fd-4a38-9fa3-6764d83cd34e",
   "metadata": {},
   "outputs": [
    {
     "data": {
      "text/plain": [
       "(569, 30)"
      ]
     },
     "execution_count": 15,
     "metadata": {},
     "output_type": "execute_result"
    }
   ],
   "source": [
    "from sklearn.datasets import load_breast_cancer\n",
    "\n",
    "breast_cancer_data = load_breast_cancer(as_frame=True)\n",
    "feature_df = pd.DataFrame(data=breast_cancer_data.data , columns = breast_cancer_data.feature_names)\n",
    "feature_df.shape"
   ]
  },
  {
   "cell_type": "markdown",
   "id": "ecec407b-fd62-43f3-9234-5daf760f5529",
   "metadata": {},
   "source": [
    "#### Q2) How many benign ( B ) tumour cases are present in the Wisconsin breast cancer dataset ?\n"
   ]
  },
  {
   "cell_type": "markdown",
   "id": "bea064dd-d56a-4a92-abe4-822ba244c954",
   "metadata": {},
   "source": [
    "#### Q3) How many malignant ( M ) tumour cases are present in the Wisconsin breast cancer dataset."
   ]
  },
  {
   "cell_type": "code",
   "execution_count": 19,
   "id": "7a52e310-5a8c-4236-b8c0-b1e4579fe6a2",
   "metadata": {},
   "outputs": [
    {
     "data": {
      "text/plain": [
       "array(['malignant', 'benign'], dtype='<U9')"
      ]
     },
     "execution_count": 19,
     "metadata": {},
     "output_type": "execute_result"
    }
   ],
   "source": [
    "target_df = pd.DataFrame(breast_cancer_data.target)\n",
    "breast_cancer_data.target_names"
   ]
  },
  {
   "cell_type": "code",
   "execution_count": 20,
   "id": "d994e7bb-485b-495c-a224-e3b78cc850c5",
   "metadata": {},
   "outputs": [
    {
     "data": {
      "text/plain": [
       "target\n",
       "1         357\n",
       "0         212\n",
       "Name: count, dtype: int64"
      ]
     },
     "execution_count": 20,
     "metadata": {},
     "output_type": "execute_result"
    }
   ],
   "source": [
    "target_df.value_counts()"
   ]
  },
  {
   "cell_type": "markdown",
   "id": "098a78d4-f686-46d2-865a-79333f41b49c",
   "metadata": {},
   "source": [
    "#### Q4) Find out the shape of the feature matrix in california housing dataset."
   ]
  },
  {
   "cell_type": "code",
   "execution_count": 24,
   "id": "32cb1470-d89c-48bf-9ee9-6bd8636147a4",
   "metadata": {},
   "outputs": [
    {
     "data": {
      "text/plain": [
       "(20640, 8)"
      ]
     },
     "execution_count": 24,
     "metadata": {},
     "output_type": "execute_result"
    }
   ],
   "source": [
    "from sklearn.datasets import fetch_california_housing\n",
    "housing_data = fetch_california_housing()\n",
    "housing_data.data.shape"
   ]
  },
  {
   "cell_type": "markdown",
   "id": "1e80582a-61d0-4494-8376-4d8869bc805c",
   "metadata": {},
   "source": [
    "#### Q5) Find out the labels of the first five attributes in california housing dataset. Note, the labels are real-valued."
   ]
  },
  {
   "cell_type": "code",
   "execution_count": 26,
   "id": "73552dc5-1e79-47e3-b550-b0fbdf3051a7",
   "metadata": {},
   "outputs": [
    {
     "data": {
      "text/plain": [
       "array([4.526, 3.585, 3.521, 3.413, 3.422])"
      ]
     },
     "execution_count": 26,
     "metadata": {},
     "output_type": "execute_result"
    }
   ],
   "source": [
    "housing_data.target[:5]"
   ]
  },
  {
   "cell_type": "markdown",
   "id": "16982041-f853-4a7c-a572-b523507c16b3",
   "metadata": {},
   "source": [
    "#### Q6) Find out the name of the class label in california housing dataset(target matrix)?"
   ]
  },
  {
   "cell_type": "code",
   "execution_count": 27,
   "id": "6712dfe4-1271-4132-bab1-33a543da50a3",
   "metadata": {},
   "outputs": [
    {
     "data": {
      "text/plain": [
       "['MedHouseVal']"
      ]
     },
     "execution_count": 27,
     "metadata": {},
     "output_type": "execute_result"
    }
   ],
   "source": [
    "housing_data.target_names"
   ]
  },
  {
   "cell_type": "code",
   "execution_count": null,
   "id": "4446af19-53e9-4a17-95c9-62749ed569cc",
   "metadata": {},
   "outputs": [],
   "source": []
  }
 ],
 "metadata": {
  "kernelspec": {
   "display_name": "Python 3 (ipykernel)",
   "language": "python",
   "name": "python3"
  },
  "language_info": {
   "codemirror_mode": {
    "name": "ipython",
    "version": 3
   },
   "file_extension": ".py",
   "mimetype": "text/x-python",
   "name": "python",
   "nbconvert_exporter": "python",
   "pygments_lexer": "ipython3",
   "version": "3.10.12"
  }
 },
 "nbformat": 4,
 "nbformat_minor": 5
}
