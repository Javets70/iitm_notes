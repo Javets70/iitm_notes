{
 "cells": [
  {
   "cell_type": "code",
   "execution_count": 53,
   "id": "1624fe78-13cd-45dd-9482-cd3817e334ee",
   "metadata": {},
   "outputs": [],
   "source": [
    "import pandas as pd"
   ]
  },
  {
   "cell_type": "code",
   "execution_count": 54,
   "id": "3301a254-18ae-4c85-8469-5bb20b36bf8e",
   "metadata": {},
   "outputs": [],
   "source": [
    "df = pd.read_csv(\"Preprocessing1.csv\")"
   ]
  },
  {
   "cell_type": "code",
   "execution_count": 55,
   "id": "3ed3e5d5-476d-4781-a53c-55a12ede63f1",
   "metadata": {},
   "outputs": [
    {
     "data": {
      "text/html": [
       "<div>\n",
       "<style scoped>\n",
       "    .dataframe tbody tr th:only-of-type {\n",
       "        vertical-align: middle;\n",
       "    }\n",
       "\n",
       "    .dataframe tbody tr th {\n",
       "        vertical-align: top;\n",
       "    }\n",
       "\n",
       "    .dataframe thead th {\n",
       "        text-align: right;\n",
       "    }\n",
       "</style>\n",
       "<table border=\"1\" class=\"dataframe\">\n",
       "  <thead>\n",
       "    <tr style=\"text-align: right;\">\n",
       "      <th></th>\n",
       "      <th>Airline</th>\n",
       "      <th>Source</th>\n",
       "      <th>Destination</th>\n",
       "      <th>Route</th>\n",
       "      <th>Dep_Time</th>\n",
       "      <th>Arrival_Time</th>\n",
       "      <th>Duration</th>\n",
       "      <th>Total_Stops</th>\n",
       "      <th>Additional_Info</th>\n",
       "      <th>Price</th>\n",
       "      <th>Month</th>\n",
       "      <th>WeekDay</th>\n",
       "      <th>Day</th>\n",
       "    </tr>\n",
       "  </thead>\n",
       "  <tbody>\n",
       "    <tr>\n",
       "      <th>0</th>\n",
       "      <td>Jet Airways</td>\n",
       "      <td>Delhi</td>\n",
       "      <td>Banglore</td>\n",
       "      <td>DEL → BOM → COK</td>\n",
       "      <td>20:00</td>\n",
       "      <td>04:25 10 Jun</td>\n",
       "      <td>26h 35m</td>\n",
       "      <td>1 stop</td>\n",
       "      <td>In-flight meal not included</td>\n",
       "      <td>14924</td>\n",
       "      <td>6</td>\n",
       "      <td>Thursday</td>\n",
       "      <td>6.0</td>\n",
       "    </tr>\n",
       "    <tr>\n",
       "      <th>1</th>\n",
       "      <td>Jet Airways</td>\n",
       "      <td>Delhi</td>\n",
       "      <td>Cochin</td>\n",
       "      <td>DEL → BOM → COK</td>\n",
       "      <td>16:00</td>\n",
       "      <td>19:00 10 Jun</td>\n",
       "      <td>27h</td>\n",
       "      <td>1 stop</td>\n",
       "      <td>In-flight meal not included</td>\n",
       "      <td>10577</td>\n",
       "      <td>6</td>\n",
       "      <td>Sunday</td>\n",
       "      <td>9.0</td>\n",
       "    </tr>\n",
       "    <tr>\n",
       "      <th>2</th>\n",
       "      <td>Jet Airways</td>\n",
       "      <td>Mumbai</td>\n",
       "      <td>Hyderabad</td>\n",
       "      <td>BOM → HYD</td>\n",
       "      <td>19:35</td>\n",
       "      <td>21:05</td>\n",
       "      <td>1h 30m</td>\n",
       "      <td>non-stop</td>\n",
       "      <td>No info</td>\n",
       "      <td>5678</td>\n",
       "      <td>3</td>\n",
       "      <td>Friday</td>\n",
       "      <td>15.0</td>\n",
       "    </tr>\n",
       "    <tr>\n",
       "      <th>3</th>\n",
       "      <td>Multiple carriers</td>\n",
       "      <td>Delhi</td>\n",
       "      <td>Banglore</td>\n",
       "      <td>DEL → BOM → COK</td>\n",
       "      <td>18:55</td>\n",
       "      <td>01:30 16 Jun</td>\n",
       "      <td>15h 10m</td>\n",
       "      <td>1 stop</td>\n",
       "      <td>In-flight meal not included</td>\n",
       "      <td>7408</td>\n",
       "      <td>5</td>\n",
       "      <td>Monday</td>\n",
       "      <td>6.0</td>\n",
       "    </tr>\n",
       "    <tr>\n",
       "      <th>4</th>\n",
       "      <td>Air India</td>\n",
       "      <td>Delhi</td>\n",
       "      <td>Cochin</td>\n",
       "      <td>DEL → COK</td>\n",
       "      <td>17:10</td>\n",
       "      <td>17:55</td>\n",
       "      <td>8h 20m</td>\n",
       "      <td>non-stop</td>\n",
       "      <td>No info</td>\n",
       "      <td>6724</td>\n",
       "      <td>6</td>\n",
       "      <td>Monday</td>\n",
       "      <td>24.0</td>\n",
       "    </tr>\n",
       "  </tbody>\n",
       "</table>\n",
       "</div>"
      ],
      "text/plain": [
       "             Airline  Source Destination            Route Dep_Time  \\\n",
       "0        Jet Airways   Delhi    Banglore  DEL → BOM → COK    20:00   \n",
       "1        Jet Airways   Delhi      Cochin  DEL → BOM → COK    16:00   \n",
       "2        Jet Airways  Mumbai   Hyderabad        BOM → HYD    19:35   \n",
       "3  Multiple carriers   Delhi    Banglore  DEL → BOM → COK    18:55   \n",
       "4          Air India   Delhi      Cochin        DEL → COK    17:10   \n",
       "\n",
       "   Arrival_Time Duration Total_Stops              Additional_Info  Price  \\\n",
       "0  04:25 10 Jun  26h 35m      1 stop  In-flight meal not included  14924   \n",
       "1  19:00 10 Jun      27h      1 stop  In-flight meal not included  10577   \n",
       "2         21:05   1h 30m    non-stop                      No info   5678   \n",
       "3  01:30 16 Jun  15h 10m      1 stop  In-flight meal not included   7408   \n",
       "4         17:55   8h 20m    non-stop                      No info   6724   \n",
       "\n",
       "   Month   WeekDay   Day  \n",
       "0      6  Thursday   6.0  \n",
       "1      6    Sunday   9.0  \n",
       "2      3    Friday  15.0  \n",
       "3      5    Monday   6.0  \n",
       "4      6    Monday  24.0  "
      ]
     },
     "execution_count": 55,
     "metadata": {},
     "output_type": "execute_result"
    }
   ],
   "source": [
    "df.head()"
   ]
  },
  {
   "cell_type": "markdown",
   "id": "7547bd1e-9eb6-472e-9cd9-eeb720c56aed",
   "metadata": {},
   "source": [
    "### Q2 [5 marks]: What is the average of the flight ticket price? Write your answer correct to two decimal places.\n",
    "\n",
    "**Answer**\n",
    "\n",
    "V1: $9027.89$ Range: $[9027.85, 9027.95]$\n",
    "\n",
    "V2: $9057.71$ Range: $[9057.66, 9057.77]$\n",
    "\n",
    "V3: $9062.51$ Range: $[9062.46, 9062.57]$\n",
    "\n",
    "V4: $9116.56$ Range: $[9116.51, 9116.61]$\n",
    "\n",
    "V5: $9024.04$ Range: $[9024.0, 9024.09]$\n"
   ]
  },
  {
   "cell_type": "code",
   "execution_count": 56,
   "id": "b5710ec5-20b5-45fc-ac74-10c89f17fff6",
   "metadata": {},
   "outputs": [
    {
     "data": {
      "text/plain": [
       "9027.895555555555"
      ]
     },
     "execution_count": 56,
     "metadata": {},
     "output_type": "execute_result"
    }
   ],
   "source": [
    "df[\"Price\"].mean()"
   ]
  },
  {
   "cell_type": "markdown",
   "id": "13a27ff9-746f-440e-9e83-5ef5ec24be4e",
   "metadata": {},
   "source": [
    "### Q3 [5 marks]: During which month did the highest number of flights occur? Months are represented by numerical codes, with January corresponding to 1, February to 2, and so forth.\n",
    "\n",
    "\n",
    "**Options**\n",
    "\n",
    "(A) January\n",
    "\n",
    "(B) May\n",
    "\n",
    "(C) October\n",
    "\n",
    "(D) December\n",
    "\n",
    "**Answer**\n",
    "\n",
    "V1: B\n",
    "\n",
    "V2: B\n",
    "\n",
    "V3: B\n",
    "\n",
    "V4: B\n",
    "\n",
    "V5: B\n"
   ]
  },
  {
   "cell_type": "code",
   "execution_count": 57,
   "id": "5cfa2b23-ffbe-477f-ba7e-df2c1334e718",
   "metadata": {},
   "outputs": [
    {
     "data": {
      "text/plain": [
       "Month\n",
       "5    3092\n",
       "6    3044\n",
       "3    2388\n",
       "4     926\n",
       "Name: count, dtype: int64"
      ]
     },
     "execution_count": 57,
     "metadata": {},
     "output_type": "execute_result"
    }
   ],
   "source": [
    "df.Month.value_counts()"
   ]
  },
  {
   "cell_type": "markdown",
   "id": "ccd0b5d1-c710-45f0-9eea-85a21442de02",
   "metadata": {},
   "source": [
    "### Q4 [5 marks]: Is the average price of flight tickets higher on weekends (Saturday and Sunday) or on weekdays (Remaining 5 days)?\n",
    "\n",
    "**Options**\n",
    "\n",
    "(A) Weekends (Saturday and Sunday)\n",
    "\n",
    "(B) Weekdays\n",
    "\n",
    "**Answer**\n",
    "\n",
    "V1: (A)\n",
    "\n",
    "V2: (A)\n",
    "\n",
    "V3: (B)\n",
    "\n",
    "V4: (A)\n",
    "\n",
    "V5: (A)"
   ]
  },
  {
   "cell_type": "code",
   "execution_count": 58,
   "id": "592257af-683b-40ca-9d0c-bc9092c73ce2",
   "metadata": {},
   "outputs": [
    {
     "data": {
      "text/plain": [
       "(9058.016077170418, 9015.219666215608)"
      ]
     },
     "execution_count": 58,
     "metadata": {},
     "output_type": "execute_result"
    }
   ],
   "source": [
    "weekends = df[df.WeekDay.isin([\"Saturday\" , \"Sunday\"])].Price.mean()\n",
    "weekdays = df[~df.WeekDay.isin([\"Saturday\" , \"Sunday\"])].Price.mean()\n",
    "\n",
    "weekends , weekdays"
   ]
  },
  {
   "cell_type": "markdown",
   "id": "86136851-599e-4557-8503-3c6b2aaca6ff",
   "metadata": {},
   "source": [
    "### Q5 [5 marks]: Two of the entries in the `'Additional_Info'` column are `'No info'` and `'No Info'`. Replace all occurrences of `'No Info'` with `'No info'`. How many flights fall under airline `'IndiGo'` and have `'No info'` as additional information?\"\n",
    "\n",
    "**Answer**\n",
    "\n",
    "V1: $1650$ No Range is required\n",
    "\n",
    "V2: $1594$ No Range is required\n",
    "\n",
    "V3: $1633$ No Range is required\n",
    "\n",
    "V4: $1624$ No Range is required\n",
    "\n",
    "V5: $1651$ No Range is required\n",
    "\n",
    "\n",
    "#### **Note:** Please ensure that you make the changes directly within the dataset and continue to use that modified dataset for subsequent questions."
   ]
  },
  {
   "cell_type": "code",
   "execution_count": 59,
   "id": "562d9d09-43c5-4d1b-95a8-ce2037049cf7",
   "metadata": {},
   "outputs": [
    {
     "data": {
      "text/plain": [
       "(1650, 13)"
      ]
     },
     "execution_count": 59,
     "metadata": {},
     "output_type": "execute_result"
    }
   ],
   "source": [
    "df.replace(to_replace=\"No Info\" , value=\"No info\" , inplace=True)\n",
    "df[(df.Airline == \"IndiGo\") & (df.Additional_Info == \"No info\")].shape"
   ]
  },
  {
   "cell_type": "markdown",
   "id": "533d6b9e-030b-47e4-b3ce-455d974b66ed",
   "metadata": {},
   "source": [
    "### Q6 [5 marks]: Convert the values of `'Duration'` into seconds. Enter the average duration (in seconds) of a flight. Enter your answer correct to two decimal places.\n",
    "\n",
    "\n",
    "#### **Note:** Please ensure that you make the changes directly within the dataset and continue to use that modified dataset for subsequent questions.\n",
    "\n",
    "**Answer:**\n",
    "\n",
    "V1: $38957.90$ Range: $[38957.8, 38958.0]$\n",
    "\n",
    "V2: $38588.09$ Range: $[38588.0, 38588.2]$\n",
    "\n",
    "V3: $38891.80$ Range: $[38891.7, 38891.9]$\n",
    "\n",
    "V4: $39224.57$ Range: $[39224.47, 39224.67]$\n",
    "\n",
    "V5: $38445.11$ Range: $[38445.01, 38445.21]$"
   ]
  },
  {
   "cell_type": "code",
   "execution_count": 60,
   "id": "8338d20c-f9be-4c08-a882-2bcf015bab67",
   "metadata": {},
   "outputs": [],
   "source": [
    "def timeToSec(time):\n",
    "    time = time.split()\n",
    "    if len(time) == 1:\n",
    "        if \"h\" in time[0]:\n",
    "            return int(time[0].replace(\"h\" , \"\"))*3600\n",
    "        elif \"m\" in time[0]:\n",
    "            return int(time[0].replace(\"m\" , \"\"))*60\n",
    "    else:\n",
    "        hours = int(time[0].replace(\"h\" , \"\"))\n",
    "        minutes = int(time[1].replace(\"m\" , \"\"))\n",
    "        return hours * 3600 + minutes * 60"
   ]
  },
  {
   "cell_type": "code",
   "execution_count": 61,
   "id": "641a0305-511f-41c0-94bf-65ab137bd46b",
   "metadata": {},
   "outputs": [
    {
     "data": {
      "text/plain": [
       "38957.93650793651"
      ]
     },
     "execution_count": 61,
     "metadata": {},
     "output_type": "execute_result"
    }
   ],
   "source": [
    "df.Duration = df.Duration.apply(timeToSec)\n",
    "df.Duration.mean()"
   ]
  },
  {
   "cell_type": "markdown",
   "id": "9e0b8006-411c-4406-8d27-4f1ccac62a04",
   "metadata": {},
   "source": [
    "### Apply the following functions to the columns `Dep_Time` and `Arrival_Time`:\n",
    "\n",
    "- Transform the values in the 'dep_time' and 'arrival_time' columns to represent the hour component. For instance, if an entry is 10:05 June 13 or 10:05, the corresponding value should be 10.\n",
    "\n",
    "\n",
    "- Then convert the time into four categories as follows:\n",
    "  - `5 <= hour < 12` = `Morning`\n",
    "  - `12 <= hour < 17` = `Afternoon`\n",
    "  - `17 <= hour < 20` = `Evening`\n",
    "  - `20 <= hour < 5` = `Night`\n",
    "\n",
    "\n",
    "  #### **Note:** Please ensure that you make the changes directly within the dataset and continue to use that modified dataset for subsequent questions."
   ]
  },
  {
   "cell_type": "code",
   "execution_count": 62,
   "id": "d8553e66-203b-4e3f-9e05-8446f6687369",
   "metadata": {},
   "outputs": [],
   "source": [
    "def timeToCategory(time):\n",
    "    hour = int(time.split(\":\")[0])\n",
    "    if 5 <= hour < 12:\n",
    "        return \"Morning\"\n",
    "    elif 12 <= hour < 17:\n",
    "        return \"Afternoon\"\n",
    "    elif 17 <= hour <= 20:\n",
    "        return \"Evening\"\n",
    "    else:\n",
    "        return \"Night\""
   ]
  },
  {
   "cell_type": "code",
   "execution_count": 63,
   "id": "81a0758b-a5c7-4a2d-b104-e83b29d20a46",
   "metadata": {},
   "outputs": [],
   "source": [
    "df.Dep_Time = df.Dep_Time.apply(timeToCategory)\n",
    "df.Arrival_Time = df.Arrival_Time.apply(timeToCategory)"
   ]
  },
  {
   "cell_type": "markdown",
   "id": "b96a06db-d57f-41cb-ab25-8380d53188cd",
   "metadata": {},
   "source": [
    "### Q7 [5 marks]: How many flights started in the Morning and arrived the destination at Evening?\n",
    "\n",
    "**Answer:**\n",
    "\n",
    "V1: $922$ No Range is required\n",
    "\n",
    "V2: $915$ No Range is required\n",
    "\n",
    "V3: $937$ No Range is required\n",
    "\n",
    "V4: $883$ No Range is required\n",
    "\n",
    "V5: $933$ No Range is required\n",
    "\n"
   ]
  },
  {
   "cell_type": "code",
   "execution_count": 66,
   "id": "c021beb5-8d78-4079-9898-2fc48dc77984",
   "metadata": {},
   "outputs": [
    {
     "data": {
      "text/plain": [
       "1014"
      ]
     },
     "execution_count": 66,
     "metadata": {},
     "output_type": "execute_result"
    }
   ],
   "source": [
    "((df.Dep_Time == \"Morning\") & (df.Arrival_Time == \"Evening\")).sum()"
   ]
  },
  {
   "cell_type": "code",
   "execution_count": 67,
   "id": "e00c6343-f5cc-455c-9481-ec77ea575d5c",
   "metadata": {},
   "outputs": [],
   "source": [
    "from sklearn.preprocessing import MinMaxScaler\n",
    "\n",
    "scaler = MinMaxScaler()"
   ]
  },
  {
   "cell_type": "code",
   "execution_count": 72,
   "id": "cd5c89e5-29c5-4bea-bf6d-ec71b1391226",
   "metadata": {},
   "outputs": [],
   "source": [
    "output = scaler.fit_transform(df.select_dtypes(include=[\"int64\" , \"float64\"]))"
   ]
  },
  {
   "cell_type": "code",
   "execution_count": 79,
   "id": "0239487b-d1b4-45de-9f76-c3bbc5ffa2fc",
   "metadata": {},
   "outputs": [
    {
     "data": {
      "text/plain": [
       "1.0"
      ]
     },
     "execution_count": 79,
     "metadata": {},
     "output_type": "execute_result"
    }
   ],
   "source": [
    "max(output.flatten())"
   ]
  },
  {
   "cell_type": "code",
   "execution_count": null,
   "id": "b55221c3-86e1-48e8-b16e-4accef4125ec",
   "metadata": {},
   "outputs": [],
   "source": []
  }
 ],
 "metadata": {
  "kernelspec": {
   "display_name": "Python 3 (ipykernel)",
   "language": "python",
   "name": "python3"
  },
  "language_info": {
   "codemirror_mode": {
    "name": "ipython",
    "version": 3
   },
   "file_extension": ".py",
   "mimetype": "text/x-python",
   "name": "python",
   "nbconvert_exporter": "python",
   "pygments_lexer": "ipython3",
   "version": "3.10.12"
  }
 },
 "nbformat": 4,
 "nbformat_minor": 5
}
