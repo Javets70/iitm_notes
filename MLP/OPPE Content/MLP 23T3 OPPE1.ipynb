{
 "cells": [
  {
   "cell_type": "markdown",
   "metadata": {
    "id": "KvSzGLBcgGG0"
   },
   "source": [
    "#Preamble: Load the dataset and examine it."
   ]
  },
  {
   "cell_type": "markdown",
   "metadata": {
    "id": "cp8ljQoZBRJ2"
   },
   "source": [
    "## You have to submit the correct answers you got in the colab file into the exam portal."
   ]
  },
  {
   "cell_type": "markdown",
   "metadata": {
    "id": "-bGDs8LyghLl"
   },
   "source": [
    "## The answers submitted in the portal should be backed by the code and the output you got in your colab file"
   ]
  },
  {
   "cell_type": "markdown",
   "metadata": {
    "id": "-6YA4mURgk2l"
   },
   "source": [
    "### Notes:\n",
    "* This exam consists of a Regression problem.\n",
    "* Shape of the dataset is $(9450, 13)$ [Note if you are not getting this shape that means your data has not been uploaded correctly to the colab]\n",
    "* The target feature in the dataset is the '**Price**' column.\n",
    "* Random state should be taken as $42$ wherever applicable.\n",
    "* ignore all the warnings while executing the codes"
   ]
  },
  {
   "cell_type": "markdown",
   "metadata": {
    "id": "zG-aR_kthuN7"
   },
   "source": [
    "## MetaData\n",
    "\n",
    "1. `Airline`: The name of the airline\n",
    "\n",
    "2. `Source`: The source from which the service begins\n",
    "\n",
    "3. `Destination`: The destination where the service ends\n",
    "\n",
    "4. `Route`: Route the flight took.\n",
    "\n",
    "5. `Dep_Time`: The time when the journey starts from the source.\n",
    "\n",
    "6. `Arrival_Time`: Time of arrival at the destination.\n",
    "\n",
    "7. `Duration`: Total duration of the flight.\n",
    "\n",
    "8. `Total_Stops`: Total stops between the source and destination.\n",
    "\n",
    "9. `Additional_Info`: Additional information about the flight\n",
    "\n",
    "10. `Price`: The price of the ticket ▶▶▶ **Target**\n",
    "\n",
    "11. `Month`: Month of journey.\n",
    "\n",
    "12. `WeekDay`: Day at which journey started.\n",
    "\n",
    "13. `Day`: Date of the start of journey."
   ]
  },
  {
   "cell_type": "code",
   "execution_count": null,
   "metadata": {
    "id": "QQyfOSYHfwOC"
   },
   "outputs": [],
   "source": [
    "import numpy as np\n",
    "import pandas as pd"
   ]
  },
  {
   "cell_type": "code",
   "execution_count": null,
   "metadata": {
    "id": "WB2F12sRg_H9"
   },
   "outputs": [],
   "source": [
    "data = pd.read_csv('/content/V5.csv')"
   ]
  },
  {
   "cell_type": "code",
   "execution_count": null,
   "metadata": {
    "colab": {
     "base_uri": "https://localhost:8080/"
    },
    "executionInfo": {
     "elapsed": 79,
     "status": "ok",
     "timestamp": 1700129720043,
     "user": {
      "displayName": "Nitin Kumar Jha",
      "userId": "04937771533360242308"
     },
     "user_tz": -330
    },
    "id": "-GRqQzkIhCiN",
    "outputId": "c857e0a4-90fb-4932-9ae6-6b5a01cb0015"
   },
   "outputs": [
    {
     "data": {
      "text/plain": [
       "(9450, 13)"
      ]
     },
     "execution_count": 3,
     "metadata": {},
     "output_type": "execute_result"
    }
   ],
   "source": [
    "data.shape"
   ]
  },
  {
   "cell_type": "code",
   "execution_count": null,
   "metadata": {
    "colab": {
     "base_uri": "https://localhost:8080/"
    },
    "executionInfo": {
     "elapsed": 69,
     "status": "ok",
     "timestamp": 1700129720043,
     "user": {
      "displayName": "Nitin Kumar Jha",
      "userId": "04937771533360242308"
     },
     "user_tz": -330
    },
    "id": "eI_5u94mhPTr",
    "outputId": "4e3b91d2-1dd2-4eb7-b493-e040e6601c93"
   },
   "outputs": [
    {
     "data": {
      "text/plain": [
       "Index(['Airline', 'Source', 'Destination', 'Route', 'Dep_Time', 'Arrival_Time',\n",
       "       'Duration', 'Total_Stops', 'Additional_Info', 'Price', 'Month',\n",
       "       'WeekDay', 'Day'],\n",
       "      dtype='object')"
      ]
     },
     "execution_count": 4,
     "metadata": {},
     "output_type": "execute_result"
    }
   ],
   "source": [
    "data.columns"
   ]
  },
  {
   "cell_type": "markdown",
   "metadata": {
    "id": "fMpwRq99jp7r"
   },
   "source": [
    "## Q1. [marks : 1] Which dataset are you using for this exam?\n",
    "\n",
    "Options:\n",
    "\n",
    "A) V1\n",
    "\n",
    "B) V2\n",
    "\n",
    "C) V3\n",
    "\n",
    "D) V4\n",
    "\n",
    "E) V5\n",
    "\n",
    "Answer: V1: A, V2:B, V3: C, V4:D, V5:E\n"
   ]
  },
  {
   "cell_type": "code",
   "execution_count": null,
   "metadata": {
    "id": "S4uPU4NcjpbC"
   },
   "outputs": [],
   "source": []
  },
  {
   "cell_type": "markdown",
   "metadata": {
    "id": "ndVU3JG7jttU"
   },
   "source": [
    "## Q2 [5 marks]: What is the average of the flight ticket price? Write your answer correct to two decimal places.\n",
    "\n",
    "**Answer**\n",
    "\n",
    "V1: $9027.89$ Range: $[9027.85, 9027.95]$\n",
    "\n",
    "V2: $9057.71$ Range: $[9057.66, 9057.77]$\n",
    "\n",
    "V3: $9062.51$ Range: $[9062.46, 9062.57]$\n",
    "\n",
    "V4: $9116.56$ Range: $[9116.51, 9116.61]$\n",
    "\n",
    "V5: $9024.04$ Range: $[9024.0, 9024.09]$\n"
   ]
  },
  {
   "cell_type": "code",
   "execution_count": null,
   "metadata": {
    "colab": {
     "base_uri": "https://localhost:8080/"
    },
    "executionInfo": {
     "elapsed": 61,
     "status": "ok",
     "timestamp": 1700129720044,
     "user": {
      "displayName": "Nitin Kumar Jha",
      "userId": "04937771533360242308"
     },
     "user_tz": -330
    },
    "id": "Pppa9eYFkKdY",
    "outputId": "7da0ff66-ec0e-4eed-d46e-c148b6ec273d"
   },
   "outputs": [
    {
     "data": {
      "text/plain": [
       "9024.043703703705"
      ]
     },
     "execution_count": 5,
     "metadata": {},
     "output_type": "execute_result"
    }
   ],
   "source": [
    "price_avg = data['Price'].mean()\n",
    "price_avg"
   ]
  },
  {
   "cell_type": "markdown",
   "metadata": {
    "id": "BlIn4Iajk4EE"
   },
   "source": [
    "## Q3 [5 marks]: During which month did the highest number of flights occur? Months are represented by numerical codes, with January corresponding to 1, February to 2, and so forth.\n",
    "\n",
    "\n",
    "**Options**\n",
    "\n",
    "(A) January\n",
    "\n",
    "(B) May\n",
    "\n",
    "(C) October\n",
    "\n",
    "(D) December\n",
    "\n",
    "**Answer**\n",
    "\n",
    "V1: B\n",
    "\n",
    "V2: B\n",
    "\n",
    "V3: B\n",
    "\n",
    "V4: B\n",
    "\n",
    "V5: B\n"
   ]
  },
  {
   "cell_type": "code",
   "execution_count": null,
   "metadata": {
    "colab": {
     "base_uri": "https://localhost:8080/"
    },
    "executionInfo": {
     "elapsed": 56,
     "status": "ok",
     "timestamp": 1700129720044,
     "user": {
      "displayName": "Nitin Kumar Jha",
      "userId": "04937771533360242308"
     },
     "user_tz": -330
    },
    "id": "NNa8lRmmkyYu",
    "outputId": "2e3c087e-6022-4131-c4ab-094682046e4c"
   },
   "outputs": [
    {
     "data": {
      "text/plain": [
       "5    3082\n",
       "6    2989\n",
       "3    2451\n",
       "4     928\n",
       "Name: Month, dtype: int64"
      ]
     },
     "execution_count": 6,
     "metadata": {},
     "output_type": "execute_result"
    }
   ],
   "source": [
    "data['Month'].unique()\n",
    "data['Month'].value_counts()"
   ]
  },
  {
   "cell_type": "markdown",
   "metadata": {
    "id": "rpzrNgpwmlac"
   },
   "source": [
    "## Q4 [5 marks]: Is the average price of flight tickets higher on weekends (Saturday and Sunday) or on weekdays (Remaining 5 days)?\n",
    "\n",
    "**Options**\n",
    "\n",
    "(A) Weekends (Saturday and Sunday)\n",
    "\n",
    "(B) Weekdays\n",
    "\n",
    "**Answer**\n",
    "\n",
    "V1: (A)\n",
    "\n",
    "V2: (A)\n",
    "\n",
    "V3: (B)\n",
    "\n",
    "V4: (A)\n",
    "\n",
    "V5: (A)"
   ]
  },
  {
   "cell_type": "code",
   "execution_count": null,
   "metadata": {
    "colab": {
     "base_uri": "https://localhost:8080/"
    },
    "executionInfo": {
     "elapsed": 50,
     "status": "ok",
     "timestamp": 1700129720045,
     "user": {
      "displayName": "Nitin Kumar Jha",
      "userId": "04937771533360242308"
     },
     "user_tz": -330
    },
    "id": "6SW1KMBAoFTm",
    "outputId": "bcc21508-691c-47b4-8400-3a02c886f326"
   },
   "outputs": [
    {
     "name": "stdout",
     "output_type": "stream",
     "text": [
      "Average price on weekends: 9072.012903225806\n",
      "Average price on weekdays: 9003.9484984985\n"
     ]
    }
   ],
   "source": [
    "\n",
    "weekend_average = data[data['WeekDay'].isin(['Saturday', 'Sunday'])]['Price'].mean()\n",
    "weekday_average = data[~data['WeekDay'].isin(['Saturday', 'Sunday'])]['Price'].mean()\n",
    "\n",
    "print(\"Average price on weekends:\", weekend_average)\n",
    "print(\"Average price on weekdays:\", weekday_average)\n"
   ]
  },
  {
   "cell_type": "markdown",
   "metadata": {
    "id": "IKDEWlyOpOam"
   },
   "source": [
    "## Q5 [5 marks]: Two of the entries in the `'Additional_Info'` column are `'No info'` and `'No Info'`. Replace all occurrences of `'No Info'` with `'No info'`. How many flights fall under airline `'IndiGo'` and have `'No info'` as additional information?\"\n",
    "\n",
    "**Answer**\n",
    "\n",
    "V1: $1650$ No Range is required\n",
    "\n",
    "V2: $1594$ No Range is required\n",
    "\n",
    "V3: $1633$ No Range is required\n",
    "\n",
    "V4: $1624$ No Range is required\n",
    "\n",
    "V5: $1651$ No Range is required\n",
    "\n",
    "\n",
    "#### **Note:** Please ensure that you make the changes directly within the dataset and continue to use that modified dataset for subsequent questions."
   ]
  },
  {
   "cell_type": "code",
   "execution_count": null,
   "metadata": {
    "colab": {
     "base_uri": "https://localhost:8080/"
    },
    "executionInfo": {
     "elapsed": 43,
     "status": "ok",
     "timestamp": 1700129720045,
     "user": {
      "displayName": "Nitin Kumar Jha",
      "userId": "04937771533360242308"
     },
     "user_tz": -330
    },
    "id": "sntBOjPysJks",
    "outputId": "f247bd91-e223-4c37-ad0b-3789da41c110"
   },
   "outputs": [
    {
     "data": {
      "text/plain": [
       "array(['No info', 'In-flight meal not included',\n",
       "       'No check-in baggage included', 'Change airports',\n",
       "       '1 Long layover', 'No Info', '1 Short layover', '2 Long layover',\n",
       "       'Business class'], dtype=object)"
      ]
     },
     "execution_count": 8,
     "metadata": {},
     "output_type": "execute_result"
    }
   ],
   "source": [
    "data['Additional_Info'].unique()"
   ]
  },
  {
   "cell_type": "code",
   "execution_count": null,
   "metadata": {
    "id": "eftpeOI1tCDM"
   },
   "outputs": [],
   "source": [
    "data['Additional_Info'].replace({'No Info':'No info'},inplace = True)"
   ]
  },
  {
   "cell_type": "code",
   "execution_count": null,
   "metadata": {
    "colab": {
     "base_uri": "https://localhost:8080/"
    },
    "executionInfo": {
     "elapsed": 39,
     "status": "ok",
     "timestamp": 1700129720047,
     "user": {
      "displayName": "Nitin Kumar Jha",
      "userId": "04937771533360242308"
     },
     "user_tz": -330
    },
    "id": "tcF0vmTuucCy",
    "outputId": "9e755047-5e00-4934-c6b2-d6ce6244c9d4"
   },
   "outputs": [
    {
     "data": {
      "text/plain": [
       "1651"
      ]
     },
     "execution_count": 10,
     "metadata": {},
     "output_type": "execute_result"
    }
   ],
   "source": [
    "((data['Airline'] == 'IndiGo') & (data['Additional_Info']=='No info')).sum()"
   ]
  },
  {
   "cell_type": "markdown",
   "metadata": {
    "id": "83qedfC-0N4s"
   },
   "source": [
    "## Q6 [5 marks]: Convert the values of `'Duration'` into seconds. Enter the average duration (in seconds) of a flight. Enter your answer correct to two decimal places.\n",
    "\n",
    "\n",
    "#### **Note:** Please ensure that you make the changes directly within the dataset and continue to use that modified dataset for subsequent questions.\n",
    "\n",
    "**Answer:**\n",
    "\n",
    "V1: $38957.90$ Range: $[38957.8, 38958.0]$\n",
    "\n",
    "V2: $38588.09$ Range: $[38588.0, 38588.2]$\n",
    "\n",
    "V3: $38891.80$ Range: $[38891.7, 38891.9]$\n",
    "\n",
    "V4: $39224.57$ Range: $[39224.47, 39224.67]$\n",
    "\n",
    "V5: $38445.11$ Range: $[38445.01, 38445.21]$"
   ]
  },
  {
   "cell_type": "code",
   "execution_count": null,
   "metadata": {
    "colab": {
     "base_uri": "https://localhost:8080/"
    },
    "executionInfo": {
     "elapsed": 33,
     "status": "ok",
     "timestamp": 1700129720047,
     "user": {
      "displayName": "Nitin Kumar Jha",
      "userId": "04937771533360242308"
     },
     "user_tz": -330
    },
    "id": "TBw6mTPnp0qi",
    "outputId": "90dcdead-60f9-4e04-f6f2-43497d20591d"
   },
   "outputs": [
    {
     "data": {
      "text/plain": [
       "0        3h 40m\n",
       "1       23h 30m\n",
       "2       13h 50m\n",
       "3        6h 30m\n",
       "4       14h 35m\n",
       "         ...   \n",
       "9445     2h 50m\n",
       "9446    27h 10m\n",
       "9447    10h 40m\n",
       "9448    12h 20m\n",
       "9449     8h 55m\n",
       "Name: Duration, Length: 9450, dtype: object"
      ]
     },
     "execution_count": 11,
     "metadata": {},
     "output_type": "execute_result"
    }
   ],
   "source": [
    "data['Duration']"
   ]
  },
  {
   "cell_type": "code",
   "execution_count": null,
   "metadata": {
    "id": "OIoyoDrapNhI"
   },
   "outputs": [],
   "source": [
    "def convert_dur(duration):\n",
    "    try:\n",
    "        hr_to_sec = int(duration.split(' ')[0].replace('h',''))* 60 * 60\n",
    "    except:\n",
    "        hr_to_sec = 0\n",
    "    try:\n",
    "        min_to_sec = int(duration.split(' ')[1].replace('m','')) * 60\n",
    "    except:\n",
    "        min_to_sec = 0\n",
    "    return hr_to_sec + min_to_sec\n",
    "\n"
   ]
  },
  {
   "cell_type": "code",
   "execution_count": null,
   "metadata": {
    "id": "h2MEovkuxj9F"
   },
   "outputs": [],
   "source": [
    "data['Duration'] = data['Duration'].apply(lambda dur:convert_dur(dur))"
   ]
  },
  {
   "cell_type": "code",
   "execution_count": null,
   "metadata": {
    "colab": {
     "base_uri": "https://localhost:8080/"
    },
    "executionInfo": {
     "elapsed": 28,
     "status": "ok",
     "timestamp": 1700129720048,
     "user": {
      "displayName": "Nitin Kumar Jha",
      "userId": "04937771533360242308"
     },
     "user_tz": -330
    },
    "id": "sKRr9mChxrdG",
    "outputId": "1f9d1e0f-5b1e-4deb-c0a3-ae5b53c4e0cb"
   },
   "outputs": [
    {
     "data": {
      "text/plain": [
       "38445.11111111111"
      ]
     },
     "execution_count": 14,
     "metadata": {},
     "output_type": "execute_result"
    }
   ],
   "source": [
    "data['Duration'].mean()"
   ]
  },
  {
   "cell_type": "markdown",
   "metadata": {
    "id": "_QR_BBuox86s"
   },
   "source": [
    "## Apply the following functions to the columns `Dep_Time` and `Arrival_Time`:\n",
    "\n",
    "- Transform the values in the 'dep_time' and 'arrival_time' columns to represent the hour component. For instance, if an entry is 10:05 June 13 or 10:05, the corresponding value should be 10.\n",
    "\n",
    "\n",
    "- Then convert the time into four categories as follows:\n",
    "  - `5 <= hour < 12` = `Morning`\n",
    "  - `12 <= hour < 17` = `Afternoon`\n",
    "  - `17 <= hour < 20` = `Evening`\n",
    "  - `20 <= hour < 5` = `Night`\n",
    "\n",
    "\n",
    "  #### **Note:** Please ensure that you make the changes directly within the dataset and continue to use that modified dataset for subsequent questions."
   ]
  },
  {
   "cell_type": "code",
   "execution_count": null,
   "metadata": {
    "id": "VksWlgnIx8Ss"
   },
   "outputs": [],
   "source": [
    "def categorize_time(time_str):\n",
    "    # Convert the time string to a datetime object and extract the hour\n",
    "    hour = pd.to_datetime(time_str, errors = 'coerce').hour\n",
    "\n",
    "    # Determine the category based on the hour\n",
    "    if 5 <= hour < 12:\n",
    "        return 'Morning'\n",
    "    elif 12 <= hour < 17:\n",
    "        return 'Afternoon'\n",
    "    elif 17 <= hour < 20:\n",
    "        return 'Evening'\n",
    "    else:\n",
    "        return 'Night'"
   ]
  },
  {
   "cell_type": "code",
   "execution_count": null,
   "metadata": {
    "id": "LH_LA9iBNING"
   },
   "outputs": [],
   "source": [
    "data['Dep_Time'] = data['Dep_Time'].apply(lambda time:categorize_time(time))"
   ]
  },
  {
   "cell_type": "code",
   "execution_count": null,
   "metadata": {
    "id": "5rJ5Q2UtNMmm"
   },
   "outputs": [],
   "source": [
    "data['Arrival_Time'] = data['Arrival_Time'].apply(lambda time:categorize_time(time))"
   ]
  },
  {
   "cell_type": "code",
   "execution_count": null,
   "metadata": {
    "colab": {
     "base_uri": "https://localhost:8080/",
     "height": 573
    },
    "executionInfo": {
     "elapsed": 85,
     "status": "ok",
     "timestamp": 1700129723385,
     "user": {
      "displayName": "Nitin Kumar Jha",
      "userId": "04937771533360242308"
     },
     "user_tz": -330
    },
    "id": "nyFB0a-FNTOA",
    "outputId": "9fcc039f-6490-4dff-9bc6-061c0b8b35bf"
   },
   "outputs": [
    {
     "data": {
      "text/html": [
       "\n",
       "  <div id=\"df-83768809-3699-44a1-8465-ed3350954a97\" class=\"colab-df-container\">\n",
       "    <div>\n",
       "<style scoped>\n",
       "    .dataframe tbody tr th:only-of-type {\n",
       "        vertical-align: middle;\n",
       "    }\n",
       "\n",
       "    .dataframe tbody tr th {\n",
       "        vertical-align: top;\n",
       "    }\n",
       "\n",
       "    .dataframe thead th {\n",
       "        text-align: right;\n",
       "    }\n",
       "</style>\n",
       "<table border=\"1\" class=\"dataframe\">\n",
       "  <thead>\n",
       "    <tr style=\"text-align: right;\">\n",
       "      <th></th>\n",
       "      <th>Airline</th>\n",
       "      <th>Source</th>\n",
       "      <th>Destination</th>\n",
       "      <th>Route</th>\n",
       "      <th>Dep_Time</th>\n",
       "      <th>Arrival_Time</th>\n",
       "      <th>Duration</th>\n",
       "      <th>Total_Stops</th>\n",
       "      <th>Additional_Info</th>\n",
       "      <th>Price</th>\n",
       "      <th>Month</th>\n",
       "      <th>WeekDay</th>\n",
       "      <th>Day</th>\n",
       "    </tr>\n",
       "  </thead>\n",
       "  <tbody>\n",
       "    <tr>\n",
       "      <th>0</th>\n",
       "      <td>IndiGo</td>\n",
       "      <td>Kolkata</td>\n",
       "      <td>Banglore</td>\n",
       "      <td>CCU → BBI → BLR</td>\n",
       "      <td>Evening</td>\n",
       "      <td>Night</td>\n",
       "      <td>13200</td>\n",
       "      <td>1 stop</td>\n",
       "      <td>No info</td>\n",
       "      <td>4226</td>\n",
       "      <td>5</td>\n",
       "      <td>Friday</td>\n",
       "      <td>24.0</td>\n",
       "    </tr>\n",
       "    <tr>\n",
       "      <th>1</th>\n",
       "      <td>Jet Airways</td>\n",
       "      <td>Kolkata</td>\n",
       "      <td>Banglore</td>\n",
       "      <td>CCU → BOM → BLR</td>\n",
       "      <td>Night</td>\n",
       "      <td>Afternoon</td>\n",
       "      <td>84600</td>\n",
       "      <td>1 stop</td>\n",
       "      <td>In-flight meal not included</td>\n",
       "      <td>10844</td>\n",
       "      <td>3</td>\n",
       "      <td>Sunday</td>\n",
       "      <td>24.0</td>\n",
       "    </tr>\n",
       "    <tr>\n",
       "      <th>2</th>\n",
       "      <td>Jet Airways</td>\n",
       "      <td>Kolkata</td>\n",
       "      <td>Cochin</td>\n",
       "      <td>CCU → BOM → BLR</td>\n",
       "      <td>Afternoon</td>\n",
       "      <td>Morning</td>\n",
       "      <td>49800</td>\n",
       "      <td>NaN</td>\n",
       "      <td>No info</td>\n",
       "      <td>13044</td>\n",
       "      <td>6</td>\n",
       "      <td>Saturday</td>\n",
       "      <td>15.0</td>\n",
       "    </tr>\n",
       "    <tr>\n",
       "      <th>3</th>\n",
       "      <td>IndiGo</td>\n",
       "      <td>Kolkata</td>\n",
       "      <td>Cochin</td>\n",
       "      <td>CCU → HYD → BLR</td>\n",
       "      <td>Evening</td>\n",
       "      <td>Night</td>\n",
       "      <td>23400</td>\n",
       "      <td>1 stop</td>\n",
       "      <td>No info</td>\n",
       "      <td>4775</td>\n",
       "      <td>6</td>\n",
       "      <td>Monday</td>\n",
       "      <td>24.0</td>\n",
       "    </tr>\n",
       "    <tr>\n",
       "      <th>4</th>\n",
       "      <td>Jet Airways</td>\n",
       "      <td>Kolkata</td>\n",
       "      <td>Banglore</td>\n",
       "      <td>CCU → BOM → BLR</td>\n",
       "      <td>Afternoon</td>\n",
       "      <td>Morning</td>\n",
       "      <td>52500</td>\n",
       "      <td>1 stop</td>\n",
       "      <td>In-flight meal not included</td>\n",
       "      <td>9663</td>\n",
       "      <td>5</td>\n",
       "      <td>Wednesday</td>\n",
       "      <td>1.0</td>\n",
       "    </tr>\n",
       "  </tbody>\n",
       "</table>\n",
       "</div>\n",
       "    <div class=\"colab-df-buttons\">\n",
       "\n",
       "  <div class=\"colab-df-container\">\n",
       "    <button class=\"colab-df-convert\" onclick=\"convertToInteractive('df-83768809-3699-44a1-8465-ed3350954a97')\"\n",
       "            title=\"Convert this dataframe to an interactive table.\"\n",
       "            style=\"display:none;\">\n",
       "\n",
       "  <svg xmlns=\"http://www.w3.org/2000/svg\" height=\"24px\" viewBox=\"0 -960 960 960\">\n",
       "    <path d=\"M120-120v-720h720v720H120Zm60-500h600v-160H180v160Zm220 220h160v-160H400v160Zm0 220h160v-160H400v160ZM180-400h160v-160H180v160Zm440 0h160v-160H620v160ZM180-180h160v-160H180v160Zm440 0h160v-160H620v160Z\"/>\n",
       "  </svg>\n",
       "    </button>\n",
       "\n",
       "  <style>\n",
       "    .colab-df-container {\n",
       "      display:flex;\n",
       "      gap: 12px;\n",
       "    }\n",
       "\n",
       "    .colab-df-convert {\n",
       "      background-color: #E8F0FE;\n",
       "      border: none;\n",
       "      border-radius: 50%;\n",
       "      cursor: pointer;\n",
       "      display: none;\n",
       "      fill: #1967D2;\n",
       "      height: 32px;\n",
       "      padding: 0 0 0 0;\n",
       "      width: 32px;\n",
       "    }\n",
       "\n",
       "    .colab-df-convert:hover {\n",
       "      background-color: #E2EBFA;\n",
       "      box-shadow: 0px 1px 2px rgba(60, 64, 67, 0.3), 0px 1px 3px 1px rgba(60, 64, 67, 0.15);\n",
       "      fill: #174EA6;\n",
       "    }\n",
       "\n",
       "    .colab-df-buttons div {\n",
       "      margin-bottom: 4px;\n",
       "    }\n",
       "\n",
       "    [theme=dark] .colab-df-convert {\n",
       "      background-color: #3B4455;\n",
       "      fill: #D2E3FC;\n",
       "    }\n",
       "\n",
       "    [theme=dark] .colab-df-convert:hover {\n",
       "      background-color: #434B5C;\n",
       "      box-shadow: 0px 1px 3px 1px rgba(0, 0, 0, 0.15);\n",
       "      filter: drop-shadow(0px 1px 2px rgba(0, 0, 0, 0.3));\n",
       "      fill: #FFFFFF;\n",
       "    }\n",
       "  </style>\n",
       "\n",
       "    <script>\n",
       "      const buttonEl =\n",
       "        document.querySelector('#df-83768809-3699-44a1-8465-ed3350954a97 button.colab-df-convert');\n",
       "      buttonEl.style.display =\n",
       "        google.colab.kernel.accessAllowed ? 'block' : 'none';\n",
       "\n",
       "      async function convertToInteractive(key) {\n",
       "        const element = document.querySelector('#df-83768809-3699-44a1-8465-ed3350954a97');\n",
       "        const dataTable =\n",
       "          await google.colab.kernel.invokeFunction('convertToInteractive',\n",
       "                                                    [key], {});\n",
       "        if (!dataTable) return;\n",
       "\n",
       "        const docLinkHtml = 'Like what you see? Visit the ' +\n",
       "          '<a target=\"_blank\" href=https://colab.research.google.com/notebooks/data_table.ipynb>data table notebook</a>'\n",
       "          + ' to learn more about interactive tables.';\n",
       "        element.innerHTML = '';\n",
       "        dataTable['output_type'] = 'display_data';\n",
       "        await google.colab.output.renderOutput(dataTable, element);\n",
       "        const docLink = document.createElement('div');\n",
       "        docLink.innerHTML = docLinkHtml;\n",
       "        element.appendChild(docLink);\n",
       "      }\n",
       "    </script>\n",
       "  </div>\n",
       "\n",
       "\n",
       "<div id=\"df-a750ed73-c11c-4f85-a4a9-b0f26cc83357\">\n",
       "  <button class=\"colab-df-quickchart\" onclick=\"quickchart('df-a750ed73-c11c-4f85-a4a9-b0f26cc83357')\"\n",
       "            title=\"Suggest charts\"\n",
       "            style=\"display:none;\">\n",
       "\n",
       "<svg xmlns=\"http://www.w3.org/2000/svg\" height=\"24px\"viewBox=\"0 0 24 24\"\n",
       "     width=\"24px\">\n",
       "    <g>\n",
       "        <path d=\"M19 3H5c-1.1 0-2 .9-2 2v14c0 1.1.9 2 2 2h14c1.1 0 2-.9 2-2V5c0-1.1-.9-2-2-2zM9 17H7v-7h2v7zm4 0h-2V7h2v10zm4 0h-2v-4h2v4z\"/>\n",
       "    </g>\n",
       "</svg>\n",
       "  </button>\n",
       "\n",
       "<style>\n",
       "  .colab-df-quickchart {\n",
       "      --bg-color: #E8F0FE;\n",
       "      --fill-color: #1967D2;\n",
       "      --hover-bg-color: #E2EBFA;\n",
       "      --hover-fill-color: #174EA6;\n",
       "      --disabled-fill-color: #AAA;\n",
       "      --disabled-bg-color: #DDD;\n",
       "  }\n",
       "\n",
       "  [theme=dark] .colab-df-quickchart {\n",
       "      --bg-color: #3B4455;\n",
       "      --fill-color: #D2E3FC;\n",
       "      --hover-bg-color: #434B5C;\n",
       "      --hover-fill-color: #FFFFFF;\n",
       "      --disabled-bg-color: #3B4455;\n",
       "      --disabled-fill-color: #666;\n",
       "  }\n",
       "\n",
       "  .colab-df-quickchart {\n",
       "    background-color: var(--bg-color);\n",
       "    border: none;\n",
       "    border-radius: 50%;\n",
       "    cursor: pointer;\n",
       "    display: none;\n",
       "    fill: var(--fill-color);\n",
       "    height: 32px;\n",
       "    padding: 0;\n",
       "    width: 32px;\n",
       "  }\n",
       "\n",
       "  .colab-df-quickchart:hover {\n",
       "    background-color: var(--hover-bg-color);\n",
       "    box-shadow: 0 1px 2px rgba(60, 64, 67, 0.3), 0 1px 3px 1px rgba(60, 64, 67, 0.15);\n",
       "    fill: var(--button-hover-fill-color);\n",
       "  }\n",
       "\n",
       "  .colab-df-quickchart-complete:disabled,\n",
       "  .colab-df-quickchart-complete:disabled:hover {\n",
       "    background-color: var(--disabled-bg-color);\n",
       "    fill: var(--disabled-fill-color);\n",
       "    box-shadow: none;\n",
       "  }\n",
       "\n",
       "  .colab-df-spinner {\n",
       "    border: 2px solid var(--fill-color);\n",
       "    border-color: transparent;\n",
       "    border-bottom-color: var(--fill-color);\n",
       "    animation:\n",
       "      spin 1s steps(1) infinite;\n",
       "  }\n",
       "\n",
       "  @keyframes spin {\n",
       "    0% {\n",
       "      border-color: transparent;\n",
       "      border-bottom-color: var(--fill-color);\n",
       "      border-left-color: var(--fill-color);\n",
       "    }\n",
       "    20% {\n",
       "      border-color: transparent;\n",
       "      border-left-color: var(--fill-color);\n",
       "      border-top-color: var(--fill-color);\n",
       "    }\n",
       "    30% {\n",
       "      border-color: transparent;\n",
       "      border-left-color: var(--fill-color);\n",
       "      border-top-color: var(--fill-color);\n",
       "      border-right-color: var(--fill-color);\n",
       "    }\n",
       "    40% {\n",
       "      border-color: transparent;\n",
       "      border-right-color: var(--fill-color);\n",
       "      border-top-color: var(--fill-color);\n",
       "    }\n",
       "    60% {\n",
       "      border-color: transparent;\n",
       "      border-right-color: var(--fill-color);\n",
       "    }\n",
       "    80% {\n",
       "      border-color: transparent;\n",
       "      border-right-color: var(--fill-color);\n",
       "      border-bottom-color: var(--fill-color);\n",
       "    }\n",
       "    90% {\n",
       "      border-color: transparent;\n",
       "      border-bottom-color: var(--fill-color);\n",
       "    }\n",
       "  }\n",
       "</style>\n",
       "\n",
       "  <script>\n",
       "    async function quickchart(key) {\n",
       "      const quickchartButtonEl =\n",
       "        document.querySelector('#' + key + ' button');\n",
       "      quickchartButtonEl.disabled = true;  // To prevent multiple clicks.\n",
       "      quickchartButtonEl.classList.add('colab-df-spinner');\n",
       "      try {\n",
       "        const charts = await google.colab.kernel.invokeFunction(\n",
       "            'suggestCharts', [key], {});\n",
       "      } catch (error) {\n",
       "        console.error('Error during call to suggestCharts:', error);\n",
       "      }\n",
       "      quickchartButtonEl.classList.remove('colab-df-spinner');\n",
       "      quickchartButtonEl.classList.add('colab-df-quickchart-complete');\n",
       "    }\n",
       "    (() => {\n",
       "      let quickchartButtonEl =\n",
       "        document.querySelector('#df-a750ed73-c11c-4f85-a4a9-b0f26cc83357 button');\n",
       "      quickchartButtonEl.style.display =\n",
       "        google.colab.kernel.accessAllowed ? 'block' : 'none';\n",
       "    })();\n",
       "  </script>\n",
       "</div>\n",
       "    </div>\n",
       "  </div>\n"
      ],
      "text/plain": [
       "       Airline   Source Destination            Route   Dep_Time Arrival_Time  \\\n",
       "0       IndiGo  Kolkata    Banglore  CCU → BBI → BLR    Evening        Night   \n",
       "1  Jet Airways  Kolkata    Banglore  CCU → BOM → BLR      Night    Afternoon   \n",
       "2  Jet Airways  Kolkata      Cochin  CCU → BOM → BLR  Afternoon      Morning   \n",
       "3       IndiGo  Kolkata      Cochin  CCU → HYD → BLR    Evening        Night   \n",
       "4  Jet Airways  Kolkata    Banglore  CCU → BOM → BLR  Afternoon      Morning   \n",
       "\n",
       "   Duration Total_Stops              Additional_Info  Price  Month    WeekDay  \\\n",
       "0     13200      1 stop                      No info   4226      5     Friday   \n",
       "1     84600      1 stop  In-flight meal not included  10844      3     Sunday   \n",
       "2     49800         NaN                      No info  13044      6   Saturday   \n",
       "3     23400      1 stop                      No info   4775      6     Monday   \n",
       "4     52500      1 stop  In-flight meal not included   9663      5  Wednesday   \n",
       "\n",
       "    Day  \n",
       "0  24.0  \n",
       "1  24.0  \n",
       "2  15.0  \n",
       "3  24.0  \n",
       "4   1.0  "
      ]
     },
     "execution_count": 18,
     "metadata": {},
     "output_type": "execute_result"
    }
   ],
   "source": [
    "data.head()"
   ]
  },
  {
   "cell_type": "markdown",
   "metadata": {
    "id": "xD4ao2vKNrhR"
   },
   "source": [
    "## Q7 [5 marks]: How many flights started in the Morning and arrived the destination at Evening?\n",
    "\n",
    "**Answer:**\n",
    "\n",
    "V1: $922$ No Range is required\n",
    "\n",
    "V2: $915$ No Range is required\n",
    "\n",
    "V3: $937$ No Range is required\n",
    "\n",
    "V4: $883$ No Range is required\n",
    "\n",
    "V5: $933$ No Range is required\n",
    "\n"
   ]
  },
  {
   "cell_type": "code",
   "execution_count": null,
   "metadata": {
    "colab": {
     "base_uri": "https://localhost:8080/"
    },
    "executionInfo": {
     "elapsed": 77,
     "status": "ok",
     "timestamp": 1700129723387,
     "user": {
      "displayName": "Nitin Kumar Jha",
      "userId": "04937771533360242308"
     },
     "user_tz": -330
    },
    "id": "08q-H_14NrGO",
    "outputId": "504b98eb-e538-4728-96ed-3e539737a6f1"
   },
   "outputs": [
    {
     "data": {
      "text/plain": [
       "933"
      ]
     },
     "execution_count": 19,
     "metadata": {},
     "output_type": "execute_result"
    }
   ],
   "source": [
    "((data['Dep_Time'] == 'Morning') & (data['Arrival_Time'] == 'Evening')).sum()"
   ]
  },
  {
   "cell_type": "markdown",
   "metadata": {
    "id": "6vYO5wKNl_Z2"
   },
   "source": [
    "# Q8 [5 marks]: Encode the values of column `'WeekDay'` as follows:\n",
    "# Weekends (Sunday, Saturday) = 1\n",
    "# all remaining five days = 0\n",
    "\n",
    "\n",
    "# What is the most frequent (mode) WeekDay?\n",
    "\n",
    "\n",
    "**Options**\n",
    "\n",
    "(A) Weekends\n",
    "\n",
    "(B) Weekdays\n",
    "\n",
    "**Answer**\n",
    "\n",
    "V1: (B)\n",
    "\n",
    "V2: (B)\n",
    "\n",
    "V3: (B)\n",
    "\n",
    "V4: (B)\n",
    "\n",
    "V5: (B)\n"
   ]
  },
  {
   "cell_type": "code",
   "execution_count": null,
   "metadata": {
    "colab": {
     "base_uri": "https://localhost:8080/"
    },
    "executionInfo": {
     "elapsed": 66,
     "status": "ok",
     "timestamp": 1700129723388,
     "user": {
      "displayName": "Nitin Kumar Jha",
      "userId": "04937771533360242308"
     },
     "user_tz": -330
    },
    "id": "U0mHuqV6g-_j",
    "outputId": "6b987ffe-aeee-421d-eee3-fcad649cf34e"
   },
   "outputs": [
    {
     "name": "stderr",
     "output_type": "stream",
     "text": [
      "<ipython-input-20-85ef92fcda8f>:1: SettingWithCopyWarning: \n",
      "A value is trying to be set on a copy of a slice from a DataFrame\n",
      "\n",
      "See the caveats in the documentation: https://pandas.pydata.org/pandas-docs/stable/user_guide/indexing.html#returning-a-view-versus-a-copy\n",
      "  (data['WeekDay'][data['WeekDay'].isin(['Sunday', 'Saturday'])]) = 1\n",
      "<ipython-input-20-85ef92fcda8f>:2: SettingWithCopyWarning: \n",
      "A value is trying to be set on a copy of a slice from a DataFrame\n",
      "\n",
      "See the caveats in the documentation: https://pandas.pydata.org/pandas-docs/stable/user_guide/indexing.html#returning-a-view-versus-a-copy\n",
      "  (data['WeekDay'][~data['WeekDay'].isin([1])]) = 0\n"
     ]
    }
   ],
   "source": [
    "(data['WeekDay'][data['WeekDay'].isin(['Sunday', 'Saturday'])]) = 1\n",
    "(data['WeekDay'][~data['WeekDay'].isin([1])]) = 0\n"
   ]
  },
  {
   "cell_type": "code",
   "execution_count": null,
   "metadata": {
    "colab": {
     "base_uri": "https://localhost:8080/"
    },
    "executionInfo": {
     "elapsed": 58,
     "status": "ok",
     "timestamp": 1700129723389,
     "user": {
      "displayName": "Nitin Kumar Jha",
      "userId": "04937771533360242308"
     },
     "user_tz": -330
    },
    "id": "71EH4zqem0Ru",
    "outputId": "7c29c42d-d626-438c-d5e4-81225dcc130e"
   },
   "outputs": [
    {
     "data": {
      "text/plain": [
       "0    0\n",
       "Name: WeekDay, dtype: object"
      ]
     },
     "execution_count": 21,
     "metadata": {},
     "output_type": "execute_result"
    }
   ],
   "source": [
    "data['WeekDay'].mode()"
   ]
  },
  {
   "cell_type": "code",
   "execution_count": null,
   "metadata": {
    "id": "HqRvWtbXhUvq"
   },
   "outputs": [],
   "source": []
  },
  {
   "cell_type": "code",
   "execution_count": null,
   "metadata": {
    "colab": {
     "base_uri": "https://localhost:8080/",
     "height": 1000
    },
    "executionInfo": {
     "elapsed": 51,
     "status": "ok",
     "timestamp": 1700129723392,
     "user": {
      "displayName": "Nitin Kumar Jha",
      "userId": "04937771533360242308"
     },
     "user_tz": -330
    },
    "id": "SiGfWpRdiePW",
    "outputId": "da07c228-c4a5-46e6-94b5-7cb9e641f2f3"
   },
   "outputs": [
    {
     "data": {
      "text/html": [
       "\n",
       "  <div id=\"df-6557ffbd-a096-4d05-8fa4-b23d8d21da0b\" class=\"colab-df-container\">\n",
       "    <div>\n",
       "<style scoped>\n",
       "    .dataframe tbody tr th:only-of-type {\n",
       "        vertical-align: middle;\n",
       "    }\n",
       "\n",
       "    .dataframe tbody tr th {\n",
       "        vertical-align: top;\n",
       "    }\n",
       "\n",
       "    .dataframe thead th {\n",
       "        text-align: right;\n",
       "    }\n",
       "</style>\n",
       "<table border=\"1\" class=\"dataframe\">\n",
       "  <thead>\n",
       "    <tr style=\"text-align: right;\">\n",
       "      <th></th>\n",
       "      <th>Airline</th>\n",
       "      <th>Source</th>\n",
       "      <th>Destination</th>\n",
       "      <th>Route</th>\n",
       "      <th>Dep_Time</th>\n",
       "      <th>Arrival_Time</th>\n",
       "      <th>Duration</th>\n",
       "      <th>Total_Stops</th>\n",
       "      <th>Additional_Info</th>\n",
       "      <th>Price</th>\n",
       "      <th>Month</th>\n",
       "      <th>WeekDay</th>\n",
       "      <th>Day</th>\n",
       "    </tr>\n",
       "  </thead>\n",
       "  <tbody>\n",
       "    <tr>\n",
       "      <th>0</th>\n",
       "      <td>IndiGo</td>\n",
       "      <td>Kolkata</td>\n",
       "      <td>Banglore</td>\n",
       "      <td>CCU → BBI → BLR</td>\n",
       "      <td>Evening</td>\n",
       "      <td>Night</td>\n",
       "      <td>13200</td>\n",
       "      <td>1 stop</td>\n",
       "      <td>No info</td>\n",
       "      <td>4226</td>\n",
       "      <td>5</td>\n",
       "      <td>0</td>\n",
       "      <td>24.0</td>\n",
       "    </tr>\n",
       "    <tr>\n",
       "      <th>1</th>\n",
       "      <td>Jet Airways</td>\n",
       "      <td>Kolkata</td>\n",
       "      <td>Banglore</td>\n",
       "      <td>CCU → BOM → BLR</td>\n",
       "      <td>Night</td>\n",
       "      <td>Afternoon</td>\n",
       "      <td>84600</td>\n",
       "      <td>1 stop</td>\n",
       "      <td>In-flight meal not included</td>\n",
       "      <td>10844</td>\n",
       "      <td>3</td>\n",
       "      <td>1</td>\n",
       "      <td>24.0</td>\n",
       "    </tr>\n",
       "    <tr>\n",
       "      <th>2</th>\n",
       "      <td>Jet Airways</td>\n",
       "      <td>Kolkata</td>\n",
       "      <td>Cochin</td>\n",
       "      <td>CCU → BOM → BLR</td>\n",
       "      <td>Afternoon</td>\n",
       "      <td>Morning</td>\n",
       "      <td>49800</td>\n",
       "      <td>NaN</td>\n",
       "      <td>No info</td>\n",
       "      <td>13044</td>\n",
       "      <td>6</td>\n",
       "      <td>1</td>\n",
       "      <td>15.0</td>\n",
       "    </tr>\n",
       "    <tr>\n",
       "      <th>3</th>\n",
       "      <td>IndiGo</td>\n",
       "      <td>Kolkata</td>\n",
       "      <td>Cochin</td>\n",
       "      <td>CCU → HYD → BLR</td>\n",
       "      <td>Evening</td>\n",
       "      <td>Night</td>\n",
       "      <td>23400</td>\n",
       "      <td>1 stop</td>\n",
       "      <td>No info</td>\n",
       "      <td>4775</td>\n",
       "      <td>6</td>\n",
       "      <td>0</td>\n",
       "      <td>24.0</td>\n",
       "    </tr>\n",
       "    <tr>\n",
       "      <th>4</th>\n",
       "      <td>Jet Airways</td>\n",
       "      <td>Kolkata</td>\n",
       "      <td>Banglore</td>\n",
       "      <td>CCU → BOM → BLR</td>\n",
       "      <td>Afternoon</td>\n",
       "      <td>Morning</td>\n",
       "      <td>52500</td>\n",
       "      <td>1 stop</td>\n",
       "      <td>In-flight meal not included</td>\n",
       "      <td>9663</td>\n",
       "      <td>5</td>\n",
       "      <td>0</td>\n",
       "      <td>1.0</td>\n",
       "    </tr>\n",
       "    <tr>\n",
       "      <th>...</th>\n",
       "      <td>...</td>\n",
       "      <td>...</td>\n",
       "      <td>...</td>\n",
       "      <td>...</td>\n",
       "      <td>...</td>\n",
       "      <td>...</td>\n",
       "      <td>...</td>\n",
       "      <td>...</td>\n",
       "      <td>...</td>\n",
       "      <td>...</td>\n",
       "      <td>...</td>\n",
       "      <td>...</td>\n",
       "      <td>...</td>\n",
       "    </tr>\n",
       "    <tr>\n",
       "      <th>9445</th>\n",
       "      <td>Air India</td>\n",
       "      <td>Banglore</td>\n",
       "      <td>Delhi</td>\n",
       "      <td>BLR → DEL</td>\n",
       "      <td>Afternoon</td>\n",
       "      <td>Afternoon</td>\n",
       "      <td>10200</td>\n",
       "      <td>non-stop</td>\n",
       "      <td>No info</td>\n",
       "      <td>5228</td>\n",
       "      <td>5</td>\n",
       "      <td>0</td>\n",
       "      <td>27.0</td>\n",
       "    </tr>\n",
       "    <tr>\n",
       "      <th>9446</th>\n",
       "      <td>Jet Airways</td>\n",
       "      <td>Kolkata</td>\n",
       "      <td>Banglore</td>\n",
       "      <td>CCU → DEL → BLR</td>\n",
       "      <td>Night</td>\n",
       "      <td>Night</td>\n",
       "      <td>97800</td>\n",
       "      <td>1 stop</td>\n",
       "      <td>No info</td>\n",
       "      <td>14151</td>\n",
       "      <td>5</td>\n",
       "      <td>0</td>\n",
       "      <td>15.0</td>\n",
       "    </tr>\n",
       "    <tr>\n",
       "      <th>9447</th>\n",
       "      <td>Multiple carriers</td>\n",
       "      <td>Delhi</td>\n",
       "      <td>Cochin</td>\n",
       "      <td>DEL → BOM → COK</td>\n",
       "      <td>Morning</td>\n",
       "      <td>Night</td>\n",
       "      <td>38400</td>\n",
       "      <td>1 stop</td>\n",
       "      <td>No info</td>\n",
       "      <td>7005</td>\n",
       "      <td>6</td>\n",
       "      <td>1</td>\n",
       "      <td>9.0</td>\n",
       "    </tr>\n",
       "    <tr>\n",
       "      <th>9448</th>\n",
       "      <td>Vistara</td>\n",
       "      <td>Banglore</td>\n",
       "      <td>Banglore</td>\n",
       "      <td>BLR → DEL</td>\n",
       "      <td>Morning</td>\n",
       "      <td>Afternoon</td>\n",
       "      <td>44400</td>\n",
       "      <td>non-stop</td>\n",
       "      <td>In-flight meal not included</td>\n",
       "      <td>5403</td>\n",
       "      <td>5</td>\n",
       "      <td>1</td>\n",
       "      <td>18.0</td>\n",
       "    </tr>\n",
       "    <tr>\n",
       "      <th>9449</th>\n",
       "      <td>Jet Airways</td>\n",
       "      <td>Delhi</td>\n",
       "      <td>Cochin</td>\n",
       "      <td>DEL → BOM → COK</td>\n",
       "      <td>Evening</td>\n",
       "      <td>Night</td>\n",
       "      <td>32100</td>\n",
       "      <td>1 stop</td>\n",
       "      <td>No info</td>\n",
       "      <td>15764</td>\n",
       "      <td>6</td>\n",
       "      <td>0</td>\n",
       "      <td>24.0</td>\n",
       "    </tr>\n",
       "  </tbody>\n",
       "</table>\n",
       "<p>9450 rows × 13 columns</p>\n",
       "</div>\n",
       "    <div class=\"colab-df-buttons\">\n",
       "\n",
       "  <div class=\"colab-df-container\">\n",
       "    <button class=\"colab-df-convert\" onclick=\"convertToInteractive('df-6557ffbd-a096-4d05-8fa4-b23d8d21da0b')\"\n",
       "            title=\"Convert this dataframe to an interactive table.\"\n",
       "            style=\"display:none;\">\n",
       "\n",
       "  <svg xmlns=\"http://www.w3.org/2000/svg\" height=\"24px\" viewBox=\"0 -960 960 960\">\n",
       "    <path d=\"M120-120v-720h720v720H120Zm60-500h600v-160H180v160Zm220 220h160v-160H400v160Zm0 220h160v-160H400v160ZM180-400h160v-160H180v160Zm440 0h160v-160H620v160ZM180-180h160v-160H180v160Zm440 0h160v-160H620v160Z\"/>\n",
       "  </svg>\n",
       "    </button>\n",
       "\n",
       "  <style>\n",
       "    .colab-df-container {\n",
       "      display:flex;\n",
       "      gap: 12px;\n",
       "    }\n",
       "\n",
       "    .colab-df-convert {\n",
       "      background-color: #E8F0FE;\n",
       "      border: none;\n",
       "      border-radius: 50%;\n",
       "      cursor: pointer;\n",
       "      display: none;\n",
       "      fill: #1967D2;\n",
       "      height: 32px;\n",
       "      padding: 0 0 0 0;\n",
       "      width: 32px;\n",
       "    }\n",
       "\n",
       "    .colab-df-convert:hover {\n",
       "      background-color: #E2EBFA;\n",
       "      box-shadow: 0px 1px 2px rgba(60, 64, 67, 0.3), 0px 1px 3px 1px rgba(60, 64, 67, 0.15);\n",
       "      fill: #174EA6;\n",
       "    }\n",
       "\n",
       "    .colab-df-buttons div {\n",
       "      margin-bottom: 4px;\n",
       "    }\n",
       "\n",
       "    [theme=dark] .colab-df-convert {\n",
       "      background-color: #3B4455;\n",
       "      fill: #D2E3FC;\n",
       "    }\n",
       "\n",
       "    [theme=dark] .colab-df-convert:hover {\n",
       "      background-color: #434B5C;\n",
       "      box-shadow: 0px 1px 3px 1px rgba(0, 0, 0, 0.15);\n",
       "      filter: drop-shadow(0px 1px 2px rgba(0, 0, 0, 0.3));\n",
       "      fill: #FFFFFF;\n",
       "    }\n",
       "  </style>\n",
       "\n",
       "    <script>\n",
       "      const buttonEl =\n",
       "        document.querySelector('#df-6557ffbd-a096-4d05-8fa4-b23d8d21da0b button.colab-df-convert');\n",
       "      buttonEl.style.display =\n",
       "        google.colab.kernel.accessAllowed ? 'block' : 'none';\n",
       "\n",
       "      async function convertToInteractive(key) {\n",
       "        const element = document.querySelector('#df-6557ffbd-a096-4d05-8fa4-b23d8d21da0b');\n",
       "        const dataTable =\n",
       "          await google.colab.kernel.invokeFunction('convertToInteractive',\n",
       "                                                    [key], {});\n",
       "        if (!dataTable) return;\n",
       "\n",
       "        const docLinkHtml = 'Like what you see? Visit the ' +\n",
       "          '<a target=\"_blank\" href=https://colab.research.google.com/notebooks/data_table.ipynb>data table notebook</a>'\n",
       "          + ' to learn more about interactive tables.';\n",
       "        element.innerHTML = '';\n",
       "        dataTable['output_type'] = 'display_data';\n",
       "        await google.colab.output.renderOutput(dataTable, element);\n",
       "        const docLink = document.createElement('div');\n",
       "        docLink.innerHTML = docLinkHtml;\n",
       "        element.appendChild(docLink);\n",
       "      }\n",
       "    </script>\n",
       "  </div>\n",
       "\n",
       "\n",
       "<div id=\"df-18f6849d-4d31-4b1c-a717-e2dc935f5c97\">\n",
       "  <button class=\"colab-df-quickchart\" onclick=\"quickchart('df-18f6849d-4d31-4b1c-a717-e2dc935f5c97')\"\n",
       "            title=\"Suggest charts\"\n",
       "            style=\"display:none;\">\n",
       "\n",
       "<svg xmlns=\"http://www.w3.org/2000/svg\" height=\"24px\"viewBox=\"0 0 24 24\"\n",
       "     width=\"24px\">\n",
       "    <g>\n",
       "        <path d=\"M19 3H5c-1.1 0-2 .9-2 2v14c0 1.1.9 2 2 2h14c1.1 0 2-.9 2-2V5c0-1.1-.9-2-2-2zM9 17H7v-7h2v7zm4 0h-2V7h2v10zm4 0h-2v-4h2v4z\"/>\n",
       "    </g>\n",
       "</svg>\n",
       "  </button>\n",
       "\n",
       "<style>\n",
       "  .colab-df-quickchart {\n",
       "      --bg-color: #E8F0FE;\n",
       "      --fill-color: #1967D2;\n",
       "      --hover-bg-color: #E2EBFA;\n",
       "      --hover-fill-color: #174EA6;\n",
       "      --disabled-fill-color: #AAA;\n",
       "      --disabled-bg-color: #DDD;\n",
       "  }\n",
       "\n",
       "  [theme=dark] .colab-df-quickchart {\n",
       "      --bg-color: #3B4455;\n",
       "      --fill-color: #D2E3FC;\n",
       "      --hover-bg-color: #434B5C;\n",
       "      --hover-fill-color: #FFFFFF;\n",
       "      --disabled-bg-color: #3B4455;\n",
       "      --disabled-fill-color: #666;\n",
       "  }\n",
       "\n",
       "  .colab-df-quickchart {\n",
       "    background-color: var(--bg-color);\n",
       "    border: none;\n",
       "    border-radius: 50%;\n",
       "    cursor: pointer;\n",
       "    display: none;\n",
       "    fill: var(--fill-color);\n",
       "    height: 32px;\n",
       "    padding: 0;\n",
       "    width: 32px;\n",
       "  }\n",
       "\n",
       "  .colab-df-quickchart:hover {\n",
       "    background-color: var(--hover-bg-color);\n",
       "    box-shadow: 0 1px 2px rgba(60, 64, 67, 0.3), 0 1px 3px 1px rgba(60, 64, 67, 0.15);\n",
       "    fill: var(--button-hover-fill-color);\n",
       "  }\n",
       "\n",
       "  .colab-df-quickchart-complete:disabled,\n",
       "  .colab-df-quickchart-complete:disabled:hover {\n",
       "    background-color: var(--disabled-bg-color);\n",
       "    fill: var(--disabled-fill-color);\n",
       "    box-shadow: none;\n",
       "  }\n",
       "\n",
       "  .colab-df-spinner {\n",
       "    border: 2px solid var(--fill-color);\n",
       "    border-color: transparent;\n",
       "    border-bottom-color: var(--fill-color);\n",
       "    animation:\n",
       "      spin 1s steps(1) infinite;\n",
       "  }\n",
       "\n",
       "  @keyframes spin {\n",
       "    0% {\n",
       "      border-color: transparent;\n",
       "      border-bottom-color: var(--fill-color);\n",
       "      border-left-color: var(--fill-color);\n",
       "    }\n",
       "    20% {\n",
       "      border-color: transparent;\n",
       "      border-left-color: var(--fill-color);\n",
       "      border-top-color: var(--fill-color);\n",
       "    }\n",
       "    30% {\n",
       "      border-color: transparent;\n",
       "      border-left-color: var(--fill-color);\n",
       "      border-top-color: var(--fill-color);\n",
       "      border-right-color: var(--fill-color);\n",
       "    }\n",
       "    40% {\n",
       "      border-color: transparent;\n",
       "      border-right-color: var(--fill-color);\n",
       "      border-top-color: var(--fill-color);\n",
       "    }\n",
       "    60% {\n",
       "      border-color: transparent;\n",
       "      border-right-color: var(--fill-color);\n",
       "    }\n",
       "    80% {\n",
       "      border-color: transparent;\n",
       "      border-right-color: var(--fill-color);\n",
       "      border-bottom-color: var(--fill-color);\n",
       "    }\n",
       "    90% {\n",
       "      border-color: transparent;\n",
       "      border-bottom-color: var(--fill-color);\n",
       "    }\n",
       "  }\n",
       "</style>\n",
       "\n",
       "  <script>\n",
       "    async function quickchart(key) {\n",
       "      const quickchartButtonEl =\n",
       "        document.querySelector('#' + key + ' button');\n",
       "      quickchartButtonEl.disabled = true;  // To prevent multiple clicks.\n",
       "      quickchartButtonEl.classList.add('colab-df-spinner');\n",
       "      try {\n",
       "        const charts = await google.colab.kernel.invokeFunction(\n",
       "            'suggestCharts', [key], {});\n",
       "      } catch (error) {\n",
       "        console.error('Error during call to suggestCharts:', error);\n",
       "      }\n",
       "      quickchartButtonEl.classList.remove('colab-df-spinner');\n",
       "      quickchartButtonEl.classList.add('colab-df-quickchart-complete');\n",
       "    }\n",
       "    (() => {\n",
       "      let quickchartButtonEl =\n",
       "        document.querySelector('#df-18f6849d-4d31-4b1c-a717-e2dc935f5c97 button');\n",
       "      quickchartButtonEl.style.display =\n",
       "        google.colab.kernel.accessAllowed ? 'block' : 'none';\n",
       "    })();\n",
       "  </script>\n",
       "</div>\n",
       "    </div>\n",
       "  </div>\n"
      ],
      "text/plain": [
       "                Airline    Source Destination            Route   Dep_Time  \\\n",
       "0                IndiGo   Kolkata    Banglore  CCU → BBI → BLR    Evening   \n",
       "1           Jet Airways   Kolkata    Banglore  CCU → BOM → BLR      Night   \n",
       "2           Jet Airways   Kolkata      Cochin  CCU → BOM → BLR  Afternoon   \n",
       "3                IndiGo   Kolkata      Cochin  CCU → HYD → BLR    Evening   \n",
       "4           Jet Airways   Kolkata    Banglore  CCU → BOM → BLR  Afternoon   \n",
       "...                 ...       ...         ...              ...        ...   \n",
       "9445          Air India  Banglore       Delhi        BLR → DEL  Afternoon   \n",
       "9446        Jet Airways   Kolkata    Banglore  CCU → DEL → BLR      Night   \n",
       "9447  Multiple carriers     Delhi      Cochin  DEL → BOM → COK    Morning   \n",
       "9448            Vistara  Banglore    Banglore        BLR → DEL    Morning   \n",
       "9449        Jet Airways     Delhi      Cochin  DEL → BOM → COK    Evening   \n",
       "\n",
       "     Arrival_Time  Duration Total_Stops              Additional_Info  Price  \\\n",
       "0           Night     13200      1 stop                      No info   4226   \n",
       "1       Afternoon     84600      1 stop  In-flight meal not included  10844   \n",
       "2         Morning     49800         NaN                      No info  13044   \n",
       "3           Night     23400      1 stop                      No info   4775   \n",
       "4         Morning     52500      1 stop  In-flight meal not included   9663   \n",
       "...           ...       ...         ...                          ...    ...   \n",
       "9445    Afternoon     10200    non-stop                      No info   5228   \n",
       "9446        Night     97800      1 stop                      No info  14151   \n",
       "9447        Night     38400      1 stop                      No info   7005   \n",
       "9448    Afternoon     44400    non-stop  In-flight meal not included   5403   \n",
       "9449        Night     32100      1 stop                      No info  15764   \n",
       "\n",
       "      Month WeekDay   Day  \n",
       "0         5       0  24.0  \n",
       "1         3       1  24.0  \n",
       "2         6       1  15.0  \n",
       "3         6       0  24.0  \n",
       "4         5       0   1.0  \n",
       "...     ...     ...   ...  \n",
       "9445      5       0  27.0  \n",
       "9446      5       0  15.0  \n",
       "9447      6       1   9.0  \n",
       "9448      5       1  18.0  \n",
       "9449      6       0  24.0  \n",
       "\n",
       "[9450 rows x 13 columns]"
      ]
     },
     "execution_count": 22,
     "metadata": {},
     "output_type": "execute_result"
    }
   ],
   "source": [
    "data"
   ]
  },
  {
   "cell_type": "markdown",
   "metadata": {
    "id": "wE2SdHiDQqBU"
   },
   "source": [
    "## Q9 [4 marks]: Split the dataset into train dataset and test dataset in the following manner\n",
    "\n",
    "-  Use `train_test_split` to split the dataset into train and test dataset with test size equal to $0.2(20\\%)$ and random_state equal to 42.\n",
    "- columns except of the label vector (`Price`) should be the feature matrix (X_train or X_test)\n",
    "- make label vector (Y_train or y_test) containing values only from the target feature (`Price`).\n",
    "\n",
    "\n",
    "# How many rows are in the feature matrix of the test dataset?\n",
    "\n",
    "**Answer**\n",
    "\n",
    "V1: $1890$ No range is required\n",
    "\n",
    "V2: $1890$ No range is required\n",
    "\n",
    "V3: $1890$ No range is required\n",
    "\n",
    "V4: $1890$ No range is required\n",
    "\n",
    "V5: $1890$ No range is required"
   ]
  },
  {
   "cell_type": "code",
   "execution_count": null,
   "metadata": {
    "id": "lPfLQwDxQ0lS"
   },
   "outputs": [],
   "source": [
    "from sklearn.model_selection import train_test_split"
   ]
  },
  {
   "cell_type": "code",
   "execution_count": null,
   "metadata": {
    "id": "yzqCyzMFQ6i9"
   },
   "outputs": [],
   "source": [
    "X, X_t = train_test_split(data, test_size = 0.2, random_state=42)"
   ]
  },
  {
   "cell_type": "code",
   "execution_count": null,
   "metadata": {
    "id": "fehA6cKJREo3"
   },
   "outputs": [],
   "source": [
    "X_train = X.drop(['Price'], axis = 1)\n",
    "X_test = X_t.drop(['Price'], axis = 1)\n",
    "y_train = X['Price']\n",
    "y_test = X_t['Price']"
   ]
  },
  {
   "cell_type": "code",
   "execution_count": null,
   "metadata": {
    "colab": {
     "base_uri": "https://localhost:8080/"
    },
    "executionInfo": {
     "elapsed": 68,
     "status": "ok",
     "timestamp": 1700129725068,
     "user": {
      "displayName": "Nitin Kumar Jha",
      "userId": "04937771533360242308"
     },
     "user_tz": -330
    },
    "id": "1MNAfI-aSArB",
    "outputId": "16e2ef4c-d2ee-407d-c0d5-f730984ce8d5"
   },
   "outputs": [
    {
     "data": {
      "text/plain": [
       "((1890, 12), (1890,))"
      ]
     },
     "execution_count": 26,
     "metadata": {},
     "output_type": "execute_result"
    }
   ],
   "source": [
    "X_test.shape, y_test.shape"
   ]
  },
  {
   "cell_type": "code",
   "execution_count": null,
   "metadata": {
    "colab": {
     "base_uri": "https://localhost:8080/"
    },
    "executionInfo": {
     "elapsed": 48,
     "status": "ok",
     "timestamp": 1700129725068,
     "user": {
      "displayName": "Nitin Kumar Jha",
      "userId": "04937771533360242308"
     },
     "user_tz": -330
    },
    "id": "8oE-8QhvTLZY",
    "outputId": "d4f45586-0ec5-4b81-d778-aad9794627d7"
   },
   "outputs": [
    {
     "data": {
      "text/plain": [
       "Airline              0\n",
       "Source               0\n",
       "Destination          0\n",
       "Route                1\n",
       "Dep_Time             0\n",
       "Arrival_Time         0\n",
       "Duration             0\n",
       "Total_Stops        190\n",
       "Additional_Info      0\n",
       "Month                0\n",
       "WeekDay              0\n",
       "Day                186\n",
       "dtype: int64"
      ]
     },
     "execution_count": 27,
     "metadata": {},
     "output_type": "execute_result"
    }
   ],
   "source": [
    "X_train.isna().sum()"
   ]
  },
  {
   "cell_type": "markdown",
   "metadata": {
    "id": "-ALYkhG1SYRZ"
   },
   "source": [
    "# Apply preprocessing on features of train and test datasets.\n",
    "\n",
    "1. Drop the column `Route`.\n",
    "\n",
    "2. Impute the missing values in the column `Total_Stops` with the MOST FREQUENT value.\n",
    "\n",
    "3. Use OrdinalEncoder to encode the following categorical features:\n",
    "\n",
    "  - `Airline` : Use default categories\n",
    "  - `Source` : Use default categories\n",
    "  - `Destination` : Use default categories\n",
    "  - `Additional_Info`: Use default categories\n",
    "  - `Total_Stops` : Use the following order for encoding:\n",
    "    - `'non-stop', '1 stop', '2 stops', '3 stops', '4 stops'`\n",
    "  - `Dep_Time` : Use the following order for encoding:\n",
    "    -  `'Morning',  'Afternoon','Evening', 'Night'`\n",
    "  - `Arrival_Time`: Use the following order for encoding:\n",
    "     -  `'Morning',  'Afternoon','Evening', 'Night'`\n",
    "  - If any unkonwn values occur in test dataset during tranforming it, handle unknown values by replacing with $-1$.\n",
    "  \n",
    "\n",
    "4. Use MinMaxScaler to scale `Duration`."
   ]
  },
  {
   "cell_type": "code",
   "execution_count": null,
   "metadata": {
    "id": "kN96jJhPcm-9"
   },
   "outputs": [],
   "source": [
    "X_train = X_train.drop(['Route'], axis = 1)\n",
    "X_test = X_test.drop(['Route'], axis = 1)"
   ]
  },
  {
   "cell_type": "code",
   "execution_count": null,
   "metadata": {
    "id": "L8DhvXTRc8ow"
   },
   "outputs": [],
   "source": [
    "from sklearn.impute import SimpleImputer\n",
    "from sklearn.compose import ColumnTransformer"
   ]
  },
  {
   "cell_type": "code",
   "execution_count": null,
   "metadata": {
    "id": "R68PZZ6wc7uN"
   },
   "outputs": [],
   "source": [
    "imputer = SimpleImputer(strategy = 'most_frequent')\n",
    "# X_train['Total_Stops', 'Day'] = imputer.fit_transform(X_train[['Total_Stops', 'Day']])\n",
    "# X_test['Total_Stops'] = imputer.transform(X_test[['Total_Stops', 'Day']])"
   ]
  },
  {
   "cell_type": "code",
   "execution_count": null,
   "metadata": {
    "id": "63JjGJgwdoch"
   },
   "outputs": [],
   "source": [
    "ct_1 = ColumnTransformer([('impute', imputer, ['Total_Stops', 'Day'])], remainder = 'passthrough', verbose_feature_names_out=False)"
   ]
  },
  {
   "cell_type": "code",
   "execution_count": null,
   "metadata": {
    "id": "ZXeGYKgTd-pk"
   },
   "outputs": [],
   "source": [
    "X_train = ct_1.fit_transform(X_train)\n",
    "X_test = ct_1.transform(X_test)"
   ]
  },
  {
   "cell_type": "code",
   "execution_count": null,
   "metadata": {
    "id": "ULBXmmi4elwE"
   },
   "outputs": [],
   "source": [
    "X_train = pd.DataFrame(X_train, columns = ct_1.get_feature_names_out())\n",
    "X_test = pd.DataFrame(X_test, columns = ct_1.get_feature_names_out())"
   ]
  },
  {
   "cell_type": "code",
   "execution_count": null,
   "metadata": {
    "id": "4VT4rGGRfZ9l"
   },
   "outputs": [],
   "source": [
    "from sklearn.preprocessing import OrdinalEncoder, MinMaxScaler"
   ]
  },
  {
   "cell_type": "code",
   "execution_count": null,
   "metadata": {
    "id": "VwA4JRQffIrH"
   },
   "outputs": [],
   "source": [
    "ct_2 = ColumnTransformer(\n",
    "    [('scaling', MinMaxScaler(), ['Duration']), \n",
    "     ('encoding_1', OrdinalEncoder(handle_unknown = 'use_encoded_value', unknown_value = -1), ['Airline', 'Source', 'Destination', 'Additional_Info']),\n",
    "     ('encoding_2', OrdinalEncoder(categories = [['non-stop', '1 stop', '2 stops', '3 stops', '4 stops'], ['Morning', 'Afternoon','Evening' ,'Night'],[ 'Morning', 'Afternoon','Evening','Night']], handle_unknown = 'use_encoded_value', unknown_value = -1), ['Total_Stops', 'Dep_Time', 'Arrival_Time'])], remainder = 'passthrough')"
   ]
  },
  {
   "cell_type": "code",
   "execution_count": null,
   "metadata": {
    "id": "4cvGhc1-fpM7"
   },
   "outputs": [],
   "source": [
    "X_train_preprocessed = ct_2.fit_transform(X_train)\n",
    "X_test_preprocessed = ct_2.transform(X_test)"
   ]
  },
  {
   "cell_type": "markdown",
   "metadata": {
    "id": "6AfXkZOanYRm"
   },
   "source": [
    "# Q10 [5 marks]: Were any unseen values encountered in the test dataset during the transformation process?\n",
    "\n",
    "**Options**\n",
    "\n",
    "(A) Yes\n",
    "\n",
    "(B) No\n",
    "\n",
    "**Answer**\n",
    "\n",
    "V1: (A)\n",
    "\n",
    "V2: (B)\n",
    "\n",
    "V3: (A)\n",
    "\n",
    "V4: (B)\n",
    "\n",
    "V5: (B)"
   ]
  },
  {
   "cell_type": "code",
   "execution_count": null,
   "metadata": {
    "colab": {
     "base_uri": "https://localhost:8080/"
    },
    "executionInfo": {
     "elapsed": 184,
     "status": "ok",
     "timestamp": 1700129725781,
     "user": {
      "displayName": "Nitin Kumar Jha",
      "userId": "04937771533360242308"
     },
     "user_tz": -330
    },
    "id": "6Cm_n0oqoEVT",
    "outputId": "df006b88-8fa8-4b9d-a97a-e79696d5802c"
   },
   "outputs": [
    {
     "name": "stdout",
     "output_type": "stream",
     "text": [
      "No unseen values in the test dataset.\n"
     ]
    }
   ],
   "source": [
    "if -1 in X_test_preprocessed:\n",
    "    print(\"Unseen values were encountered in the test dataset.\")\n",
    "else:\n",
    "    print(\"No unseen values in the test dataset.\")"
   ]
  },
  {
   "cell_type": "markdown",
   "metadata": {
    "id": "APNZyOkbyahZ"
   },
   "source": [
    "# Q11 [5 marks]: After transforming the training data, all of its entries become numeric values. What is the highest value present in the transformed training feature matrix?\n",
    "\n",
    "\n",
    "**Answer**\n",
    "\n",
    "V1: $27$\n",
    "\n",
    "V2: $27$\n",
    "\n",
    "V3: $27$\n",
    "\n",
    "V4: $27$\n",
    "\n",
    "V5: $27$"
   ]
  },
  {
   "cell_type": "code",
   "execution_count": null,
   "metadata": {
    "colab": {
     "base_uri": "https://localhost:8080/"
    },
    "executionInfo": {
     "elapsed": 176,
     "status": "ok",
     "timestamp": 1700129725782,
     "user": {
      "displayName": "Nitin Kumar Jha",
      "userId": "04937771533360242308"
     },
     "user_tz": -330
    },
    "id": "-zEILhiKyWsM",
    "outputId": "6039c859-9d4b-423a-af1c-60ca126da31f"
   },
   "outputs": [
    {
     "data": {
      "text/plain": [
       "27.0"
      ]
     },
     "execution_count": 38,
     "metadata": {},
     "output_type": "execute_result"
    }
   ],
   "source": [
    "X_train_preprocessed.max()"
   ]
  },
  {
   "cell_type": "markdown",
   "metadata": {
    "id": "aRSdl8qbzJg2"
   },
   "source": [
    "# Q12 [5 marks]: After transforming the test data, all of its entries become numeric values. What is the mean of the transformed test data matrix? Enter your answer correct to two decimal places.\n",
    "\n",
    "**Answer**\n",
    "\n",
    "V1: $3.24$ Range: $[3.21, 3.27]$\n",
    "\n",
    "V2: $3.29$ Range: $[3.25, 3.34]$\n",
    "\n",
    "V3: $3.28$ Range: $[3.24, 3.33]$\n",
    "\n",
    "V4: $3.29$ Range: $[3.25, 3.34]$\n",
    "\n",
    "V5: $3.27$ Range: $[3.23, 3.3]$"
   ]
  },
  {
   "cell_type": "code",
   "execution_count": null,
   "metadata": {
    "colab": {
     "base_uri": "https://localhost:8080/"
    },
    "executionInfo": {
     "elapsed": 167,
     "status": "ok",
     "timestamp": 1700129725785,
     "user": {
      "displayName": "Nitin Kumar Jha",
      "userId": "04937771533360242308"
     },
     "user_tz": -330
    },
    "id": "wOkQvbfQzdsu",
    "outputId": "b1ca4e7c-9c68-477e-fde4-799cf75cf02b"
   },
   "outputs": [
    {
     "data": {
      "text/plain": [
       "3.277279976393443"
      ]
     },
     "execution_count": 39,
     "metadata": {},
     "output_type": "execute_result"
    }
   ],
   "source": [
    "X_test_preprocessed.mean()"
   ]
  },
  {
   "cell_type": "markdown",
   "metadata": {
    "id": "UgyaKA0O0lHk"
   },
   "source": [
    "# Q13 [5 marks]: What is the highest value observed when scaling the 'Duration' column?\n",
    "\n",
    "**Answer**\n",
    "\n",
    "V1: $171600$\n",
    "\n",
    "V2: $171600$\n",
    "\n",
    "V3: $169200$\n",
    "\n",
    "V4: $169200$\n",
    "\n",
    "V5: $169200$\n",
    "\n"
   ]
  },
  {
   "cell_type": "code",
   "execution_count": null,
   "metadata": {
    "colab": {
     "base_uri": "https://localhost:8080/"
    },
    "executionInfo": {
     "elapsed": 159,
     "status": "ok",
     "timestamp": 1700129725787,
     "user": {
      "displayName": "Nitin Kumar Jha",
      "userId": "04937771533360242308"
     },
     "user_tz": -330
    },
    "id": "NpJA3uohwqxU",
    "outputId": "0b3b8aeb-fb72-4efd-9c1b-c73a54eb01e9"
   },
   "outputs": [
    {
     "data": {
      "text/plain": [
       "array([169200.])"
      ]
     },
     "execution_count": 40,
     "metadata": {},
     "output_type": "execute_result"
    }
   ],
   "source": [
    "ct_2.transformers_[0][1].data_max_"
   ]
  },
  {
   "cell_type": "code",
   "execution_count": null,
   "metadata": {
    "id": "jZpzw80p3G5b"
   },
   "outputs": [],
   "source": [
    "X_train_preprocessed = np.column_stack((X_train_preprocessed, y_train))\n",
    "# X_test_preprocessed['y'] = y_test"
   ]
  },
  {
   "cell_type": "code",
   "execution_count": null,
   "metadata": {
    "id": "QYNpJmHW3vfg"
   },
   "outputs": [],
   "source": [
    "X_test_preprocessed = np.column_stack((X_test_preprocessed, y_test))\n",
    "# X_test_preprocessed['y'] = y_test"
   ]
  },
  {
   "cell_type": "code",
   "execution_count": null,
   "metadata": {
    "id": "NiRI_zN02N2K"
   },
   "outputs": [],
   "source": [
    "V5_cleaned = pd.DataFrame(np.row_stack((X_train_preprocessed, X_test_preprocessed)))"
   ]
  },
  {
   "cell_type": "code",
   "execution_count": null,
   "metadata": {
    "colab": {
     "base_uri": "https://localhost:8080/",
     "height": 423
    },
    "executionInfo": {
     "elapsed": 147,
     "status": "ok",
     "timestamp": 1700129725793,
     "user": {
      "displayName": "Nitin Kumar Jha",
      "userId": "04937771533360242308"
     },
     "user_tz": -330
    },
    "id": "uKZ1v4mc32Q3",
    "outputId": "3d7cda5f-e98d-4003-ae94-5563abb01357"
   },
   "outputs": [
    {
     "data": {
      "text/html": [
       "\n",
       "  <div id=\"df-bc1f7f7c-0403-40f9-b7ea-ece299ae4e0c\" class=\"colab-df-container\">\n",
       "    <div>\n",
       "<style scoped>\n",
       "    .dataframe tbody tr th:only-of-type {\n",
       "        vertical-align: middle;\n",
       "    }\n",
       "\n",
       "    .dataframe tbody tr th {\n",
       "        vertical-align: top;\n",
       "    }\n",
       "\n",
       "    .dataframe thead th {\n",
       "        text-align: right;\n",
       "    }\n",
       "</style>\n",
       "<table border=\"1\" class=\"dataframe\">\n",
       "  <thead>\n",
       "    <tr style=\"text-align: right;\">\n",
       "      <th></th>\n",
       "      <th>0</th>\n",
       "      <th>1</th>\n",
       "      <th>2</th>\n",
       "      <th>3</th>\n",
       "      <th>4</th>\n",
       "      <th>5</th>\n",
       "      <th>6</th>\n",
       "      <th>7</th>\n",
       "      <th>8</th>\n",
       "      <th>9</th>\n",
       "      <th>10</th>\n",
       "      <th>11</th>\n",
       "    </tr>\n",
       "  </thead>\n",
       "  <tbody>\n",
       "    <tr>\n",
       "      <th>0</th>\n",
       "      <td>0.150709</td>\n",
       "      <td>4.0</td>\n",
       "      <td>0.0</td>\n",
       "      <td>1.0</td>\n",
       "      <td>5.0</td>\n",
       "      <td>0.0</td>\n",
       "      <td>1.0</td>\n",
       "      <td>3.0</td>\n",
       "      <td>6.0</td>\n",
       "      <td>3</td>\n",
       "      <td>0</td>\n",
       "      <td>8016</td>\n",
       "    </tr>\n",
       "    <tr>\n",
       "      <th>1</th>\n",
       "      <td>0.062057</td>\n",
       "      <td>10.0</td>\n",
       "      <td>4.0</td>\n",
       "      <td>2.0</td>\n",
       "      <td>7.0</td>\n",
       "      <td>1.0</td>\n",
       "      <td>2.0</td>\n",
       "      <td>1.0</td>\n",
       "      <td>15.0</td>\n",
       "      <td>4</td>\n",
       "      <td>0</td>\n",
       "      <td>12395</td>\n",
       "    </tr>\n",
       "    <tr>\n",
       "      <th>2</th>\n",
       "      <td>0.054965</td>\n",
       "      <td>3.0</td>\n",
       "      <td>3.0</td>\n",
       "      <td>0.0</td>\n",
       "      <td>7.0</td>\n",
       "      <td>1.0</td>\n",
       "      <td>2.0</td>\n",
       "      <td>2.0</td>\n",
       "      <td>15.0</td>\n",
       "      <td>5</td>\n",
       "      <td>0</td>\n",
       "      <td>4804</td>\n",
       "    </tr>\n",
       "    <tr>\n",
       "      <th>3</th>\n",
       "      <td>0.858156</td>\n",
       "      <td>1.0</td>\n",
       "      <td>0.0</td>\n",
       "      <td>5.0</td>\n",
       "      <td>7.0</td>\n",
       "      <td>2.0</td>\n",
       "      <td>0.0</td>\n",
       "      <td>3.0</td>\n",
       "      <td>3.0</td>\n",
       "      <td>3</td>\n",
       "      <td>1</td>\n",
       "      <td>11791</td>\n",
       "    </tr>\n",
       "    <tr>\n",
       "      <th>4</th>\n",
       "      <td>0.056738</td>\n",
       "      <td>10.0</td>\n",
       "      <td>0.0</td>\n",
       "      <td>2.0</td>\n",
       "      <td>7.0</td>\n",
       "      <td>0.0</td>\n",
       "      <td>0.0</td>\n",
       "      <td>0.0</td>\n",
       "      <td>12.0</td>\n",
       "      <td>4</td>\n",
       "      <td>0</td>\n",
       "      <td>5403</td>\n",
       "    </tr>\n",
       "    <tr>\n",
       "      <th>...</th>\n",
       "      <td>...</td>\n",
       "      <td>...</td>\n",
       "      <td>...</td>\n",
       "      <td>...</td>\n",
       "      <td>...</td>\n",
       "      <td>...</td>\n",
       "      <td>...</td>\n",
       "      <td>...</td>\n",
       "      <td>...</td>\n",
       "      <td>...</td>\n",
       "      <td>...</td>\n",
       "      <td>...</td>\n",
       "    </tr>\n",
       "    <tr>\n",
       "      <th>9445</th>\n",
       "      <td>0.531915</td>\n",
       "      <td>4.0</td>\n",
       "      <td>3.0</td>\n",
       "      <td>0.0</td>\n",
       "      <td>5.0</td>\n",
       "      <td>1.0</td>\n",
       "      <td>2.0</td>\n",
       "      <td>2.0</td>\n",
       "      <td>1.0</td>\n",
       "      <td>5</td>\n",
       "      <td>0</td>\n",
       "      <td>9314</td>\n",
       "    </tr>\n",
       "    <tr>\n",
       "      <th>9446</th>\n",
       "      <td>0.051418</td>\n",
       "      <td>8.0</td>\n",
       "      <td>3.0</td>\n",
       "      <td>0.0</td>\n",
       "      <td>6.0</td>\n",
       "      <td>1.0</td>\n",
       "      <td>0.0</td>\n",
       "      <td>0.0</td>\n",
       "      <td>27.0</td>\n",
       "      <td>4</td>\n",
       "      <td>1</td>\n",
       "      <td>3841</td>\n",
       "    </tr>\n",
       "    <tr>\n",
       "      <th>9447</th>\n",
       "      <td>0.340426</td>\n",
       "      <td>4.0</td>\n",
       "      <td>3.0</td>\n",
       "      <td>0.0</td>\n",
       "      <td>5.0</td>\n",
       "      <td>1.0</td>\n",
       "      <td>3.0</td>\n",
       "      <td>1.0</td>\n",
       "      <td>21.0</td>\n",
       "      <td>5</td>\n",
       "      <td>0</td>\n",
       "      <td>10844</td>\n",
       "    </tr>\n",
       "    <tr>\n",
       "      <th>9448</th>\n",
       "      <td>0.452128</td>\n",
       "      <td>1.0</td>\n",
       "      <td>1.0</td>\n",
       "      <td>1.0</td>\n",
       "      <td>7.0</td>\n",
       "      <td>0.0</td>\n",
       "      <td>3.0</td>\n",
       "      <td>1.0</td>\n",
       "      <td>3.0</td>\n",
       "      <td>3</td>\n",
       "      <td>1</td>\n",
       "      <td>4667</td>\n",
       "    </tr>\n",
       "    <tr>\n",
       "      <th>9449</th>\n",
       "      <td>0.134752</td>\n",
       "      <td>4.0</td>\n",
       "      <td>0.0</td>\n",
       "      <td>5.0</td>\n",
       "      <td>7.0</td>\n",
       "      <td>1.0</td>\n",
       "      <td>0.0</td>\n",
       "      <td>1.0</td>\n",
       "      <td>1.0</td>\n",
       "      <td>3</td>\n",
       "      <td>0</td>\n",
       "      <td>26890</td>\n",
       "    </tr>\n",
       "  </tbody>\n",
       "</table>\n",
       "<p>9450 rows × 12 columns</p>\n",
       "</div>\n",
       "    <div class=\"colab-df-buttons\">\n",
       "\n",
       "  <div class=\"colab-df-container\">\n",
       "    <button class=\"colab-df-convert\" onclick=\"convertToInteractive('df-bc1f7f7c-0403-40f9-b7ea-ece299ae4e0c')\"\n",
       "            title=\"Convert this dataframe to an interactive table.\"\n",
       "            style=\"display:none;\">\n",
       "\n",
       "  <svg xmlns=\"http://www.w3.org/2000/svg\" height=\"24px\" viewBox=\"0 -960 960 960\">\n",
       "    <path d=\"M120-120v-720h720v720H120Zm60-500h600v-160H180v160Zm220 220h160v-160H400v160Zm0 220h160v-160H400v160ZM180-400h160v-160H180v160Zm440 0h160v-160H620v160ZM180-180h160v-160H180v160Zm440 0h160v-160H620v160Z\"/>\n",
       "  </svg>\n",
       "    </button>\n",
       "\n",
       "  <style>\n",
       "    .colab-df-container {\n",
       "      display:flex;\n",
       "      gap: 12px;\n",
       "    }\n",
       "\n",
       "    .colab-df-convert {\n",
       "      background-color: #E8F0FE;\n",
       "      border: none;\n",
       "      border-radius: 50%;\n",
       "      cursor: pointer;\n",
       "      display: none;\n",
       "      fill: #1967D2;\n",
       "      height: 32px;\n",
       "      padding: 0 0 0 0;\n",
       "      width: 32px;\n",
       "    }\n",
       "\n",
       "    .colab-df-convert:hover {\n",
       "      background-color: #E2EBFA;\n",
       "      box-shadow: 0px 1px 2px rgba(60, 64, 67, 0.3), 0px 1px 3px 1px rgba(60, 64, 67, 0.15);\n",
       "      fill: #174EA6;\n",
       "    }\n",
       "\n",
       "    .colab-df-buttons div {\n",
       "      margin-bottom: 4px;\n",
       "    }\n",
       "\n",
       "    [theme=dark] .colab-df-convert {\n",
       "      background-color: #3B4455;\n",
       "      fill: #D2E3FC;\n",
       "    }\n",
       "\n",
       "    [theme=dark] .colab-df-convert:hover {\n",
       "      background-color: #434B5C;\n",
       "      box-shadow: 0px 1px 3px 1px rgba(0, 0, 0, 0.15);\n",
       "      filter: drop-shadow(0px 1px 2px rgba(0, 0, 0, 0.3));\n",
       "      fill: #FFFFFF;\n",
       "    }\n",
       "  </style>\n",
       "\n",
       "    <script>\n",
       "      const buttonEl =\n",
       "        document.querySelector('#df-bc1f7f7c-0403-40f9-b7ea-ece299ae4e0c button.colab-df-convert');\n",
       "      buttonEl.style.display =\n",
       "        google.colab.kernel.accessAllowed ? 'block' : 'none';\n",
       "\n",
       "      async function convertToInteractive(key) {\n",
       "        const element = document.querySelector('#df-bc1f7f7c-0403-40f9-b7ea-ece299ae4e0c');\n",
       "        const dataTable =\n",
       "          await google.colab.kernel.invokeFunction('convertToInteractive',\n",
       "                                                    [key], {});\n",
       "        if (!dataTable) return;\n",
       "\n",
       "        const docLinkHtml = 'Like what you see? Visit the ' +\n",
       "          '<a target=\"_blank\" href=https://colab.research.google.com/notebooks/data_table.ipynb>data table notebook</a>'\n",
       "          + ' to learn more about interactive tables.';\n",
       "        element.innerHTML = '';\n",
       "        dataTable['output_type'] = 'display_data';\n",
       "        await google.colab.output.renderOutput(dataTable, element);\n",
       "        const docLink = document.createElement('div');\n",
       "        docLink.innerHTML = docLinkHtml;\n",
       "        element.appendChild(docLink);\n",
       "      }\n",
       "    </script>\n",
       "  </div>\n",
       "\n",
       "\n",
       "<div id=\"df-afc4d909-4b06-4083-b355-1cbc87209e84\">\n",
       "  <button class=\"colab-df-quickchart\" onclick=\"quickchart('df-afc4d909-4b06-4083-b355-1cbc87209e84')\"\n",
       "            title=\"Suggest charts\"\n",
       "            style=\"display:none;\">\n",
       "\n",
       "<svg xmlns=\"http://www.w3.org/2000/svg\" height=\"24px\"viewBox=\"0 0 24 24\"\n",
       "     width=\"24px\">\n",
       "    <g>\n",
       "        <path d=\"M19 3H5c-1.1 0-2 .9-2 2v14c0 1.1.9 2 2 2h14c1.1 0 2-.9 2-2V5c0-1.1-.9-2-2-2zM9 17H7v-7h2v7zm4 0h-2V7h2v10zm4 0h-2v-4h2v4z\"/>\n",
       "    </g>\n",
       "</svg>\n",
       "  </button>\n",
       "\n",
       "<style>\n",
       "  .colab-df-quickchart {\n",
       "      --bg-color: #E8F0FE;\n",
       "      --fill-color: #1967D2;\n",
       "      --hover-bg-color: #E2EBFA;\n",
       "      --hover-fill-color: #174EA6;\n",
       "      --disabled-fill-color: #AAA;\n",
       "      --disabled-bg-color: #DDD;\n",
       "  }\n",
       "\n",
       "  [theme=dark] .colab-df-quickchart {\n",
       "      --bg-color: #3B4455;\n",
       "      --fill-color: #D2E3FC;\n",
       "      --hover-bg-color: #434B5C;\n",
       "      --hover-fill-color: #FFFFFF;\n",
       "      --disabled-bg-color: #3B4455;\n",
       "      --disabled-fill-color: #666;\n",
       "  }\n",
       "\n",
       "  .colab-df-quickchart {\n",
       "    background-color: var(--bg-color);\n",
       "    border: none;\n",
       "    border-radius: 50%;\n",
       "    cursor: pointer;\n",
       "    display: none;\n",
       "    fill: var(--fill-color);\n",
       "    height: 32px;\n",
       "    padding: 0;\n",
       "    width: 32px;\n",
       "  }\n",
       "\n",
       "  .colab-df-quickchart:hover {\n",
       "    background-color: var(--hover-bg-color);\n",
       "    box-shadow: 0 1px 2px rgba(60, 64, 67, 0.3), 0 1px 3px 1px rgba(60, 64, 67, 0.15);\n",
       "    fill: var(--button-hover-fill-color);\n",
       "  }\n",
       "\n",
       "  .colab-df-quickchart-complete:disabled,\n",
       "  .colab-df-quickchart-complete:disabled:hover {\n",
       "    background-color: var(--disabled-bg-color);\n",
       "    fill: var(--disabled-fill-color);\n",
       "    box-shadow: none;\n",
       "  }\n",
       "\n",
       "  .colab-df-spinner {\n",
       "    border: 2px solid var(--fill-color);\n",
       "    border-color: transparent;\n",
       "    border-bottom-color: var(--fill-color);\n",
       "    animation:\n",
       "      spin 1s steps(1) infinite;\n",
       "  }\n",
       "\n",
       "  @keyframes spin {\n",
       "    0% {\n",
       "      border-color: transparent;\n",
       "      border-bottom-color: var(--fill-color);\n",
       "      border-left-color: var(--fill-color);\n",
       "    }\n",
       "    20% {\n",
       "      border-color: transparent;\n",
       "      border-left-color: var(--fill-color);\n",
       "      border-top-color: var(--fill-color);\n",
       "    }\n",
       "    30% {\n",
       "      border-color: transparent;\n",
       "      border-left-color: var(--fill-color);\n",
       "      border-top-color: var(--fill-color);\n",
       "      border-right-color: var(--fill-color);\n",
       "    }\n",
       "    40% {\n",
       "      border-color: transparent;\n",
       "      border-right-color: var(--fill-color);\n",
       "      border-top-color: var(--fill-color);\n",
       "    }\n",
       "    60% {\n",
       "      border-color: transparent;\n",
       "      border-right-color: var(--fill-color);\n",
       "    }\n",
       "    80% {\n",
       "      border-color: transparent;\n",
       "      border-right-color: var(--fill-color);\n",
       "      border-bottom-color: var(--fill-color);\n",
       "    }\n",
       "    90% {\n",
       "      border-color: transparent;\n",
       "      border-bottom-color: var(--fill-color);\n",
       "    }\n",
       "  }\n",
       "</style>\n",
       "\n",
       "  <script>\n",
       "    async function quickchart(key) {\n",
       "      const quickchartButtonEl =\n",
       "        document.querySelector('#' + key + ' button');\n",
       "      quickchartButtonEl.disabled = true;  // To prevent multiple clicks.\n",
       "      quickchartButtonEl.classList.add('colab-df-spinner');\n",
       "      try {\n",
       "        const charts = await google.colab.kernel.invokeFunction(\n",
       "            'suggestCharts', [key], {});\n",
       "      } catch (error) {\n",
       "        console.error('Error during call to suggestCharts:', error);\n",
       "      }\n",
       "      quickchartButtonEl.classList.remove('colab-df-spinner');\n",
       "      quickchartButtonEl.classList.add('colab-df-quickchart-complete');\n",
       "    }\n",
       "    (() => {\n",
       "      let quickchartButtonEl =\n",
       "        document.querySelector('#df-afc4d909-4b06-4083-b355-1cbc87209e84 button');\n",
       "      quickchartButtonEl.style.display =\n",
       "        google.colab.kernel.accessAllowed ? 'block' : 'none';\n",
       "    })();\n",
       "  </script>\n",
       "</div>\n",
       "    </div>\n",
       "  </div>\n"
      ],
      "text/plain": [
       "            0     1    2    3    4    5    6    7     8  9  10     11\n",
       "0     0.150709   4.0  0.0  1.0  5.0  0.0  1.0  3.0   6.0  3  0   8016\n",
       "1     0.062057  10.0  4.0  2.0  7.0  1.0  2.0  1.0  15.0  4  0  12395\n",
       "2     0.054965   3.0  3.0  0.0  7.0  1.0  2.0  2.0  15.0  5  0   4804\n",
       "3     0.858156   1.0  0.0  5.0  7.0  2.0  0.0  3.0   3.0  3  1  11791\n",
       "4     0.056738  10.0  0.0  2.0  7.0  0.0  0.0  0.0  12.0  4  0   5403\n",
       "...        ...   ...  ...  ...  ...  ...  ...  ...   ... .. ..    ...\n",
       "9445  0.531915   4.0  3.0  0.0  5.0  1.0  2.0  2.0   1.0  5  0   9314\n",
       "9446  0.051418   8.0  3.0  0.0  6.0  1.0  0.0  0.0  27.0  4  1   3841\n",
       "9447  0.340426   4.0  3.0  0.0  5.0  1.0  3.0  1.0  21.0  5  0  10844\n",
       "9448  0.452128   1.0  1.0  1.0  7.0  0.0  3.0  1.0   3.0  3  1   4667\n",
       "9449  0.134752   4.0  0.0  5.0  7.0  1.0  0.0  1.0   1.0  3  0  26890\n",
       "\n",
       "[9450 rows x 12 columns]"
      ]
     },
     "execution_count": 44,
     "metadata": {},
     "output_type": "execute_result"
    }
   ],
   "source": [
    "V5_cleaned"
   ]
  },
  {
   "cell_type": "code",
   "execution_count": null,
   "metadata": {
    "id": "3jaoXt_q2iwX"
   },
   "outputs": [],
   "source": [
    "V5_cleaned.to_csv('V5_cleaned', index = False)"
   ]
  },
  {
   "cell_type": "code",
   "execution_count": null,
   "metadata": {
    "id": "JIhzn1Nr3Fzh"
   },
   "outputs": [],
   "source": []
  },
  {
   "cell_type": "markdown",
   "metadata": {
    "id": "nK695k5jlMt4"
   },
   "source": [
    "# Part 2\n",
    "# Model\n",
    "\n",
    "### You have been provided preprocessed dataset for the model building.\n",
    "### Shape of the dataset is $(9450, 12)$. The last column of the dataset is label vector."
   ]
  },
  {
   "cell_type": "markdown",
   "metadata": {
    "id": "_XpZzVuj2Utf"
   },
   "source": [
    "#Q1: Which dataset are you using for this exam?"
   ]
  },
  {
   "cell_type": "code",
   "execution_count": null,
   "metadata": {
    "id": "hhMNbFdd2xFZ"
   },
   "outputs": [],
   "source": [
    "df = pd.read_csv('/content/V5_cleaned')"
   ]
  },
  {
   "cell_type": "markdown",
   "metadata": {
    "id": "fkAba3fBPCC9"
   },
   "source": [
    "Split the dataset into train dataset and test dataset in the following manner\n",
    "\n",
    "-  Use `train_test_split` to split the dataset into train and test dataset with test size equal to $0.2(20\\%)$ and random_state equal to 42.\n",
    "- columns except the last column should be the feature matrix (X_train or X_test)\n",
    "- last column will be the label vector.\n"
   ]
  },
  {
   "cell_type": "code",
   "execution_count": null,
   "metadata": {
    "colab": {
     "base_uri": "https://localhost:8080/"
    },
    "executionInfo": {
     "elapsed": 138,
     "status": "ok",
     "timestamp": 1700129725800,
     "user": {
      "displayName": "Nitin Kumar Jha",
      "userId": "04937771533360242308"
     },
     "user_tz": -330
    },
    "id": "2x39BgnfNvG-",
    "outputId": "9196422c-b7c0-4b44-a826-f25d9a88f200"
   },
   "outputs": [
    {
     "data": {
      "text/plain": [
       "4.615384615384615"
      ]
     },
     "execution_count": 47,
     "metadata": {},
     "output_type": "execute_result"
    }
   ],
   "source": [
    "60/13"
   ]
  },
  {
   "cell_type": "code",
   "execution_count": null,
   "metadata": {
    "id": "V8BnFhJY2z0l"
   },
   "outputs": [],
   "source": [
    "df_train, df_test = train_test_split(df, test_size = 0.2, random_state = 42)"
   ]
  },
  {
   "cell_type": "code",
   "execution_count": null,
   "metadata": {
    "id": "pQ6pJOpX5ENW"
   },
   "outputs": [],
   "source": [
    "X_train = df_train.iloc[:, :-1]\n",
    "X_test = df_test.iloc[:, :-1]\n",
    "y_train = df_train.iloc[:, -1]\n",
    "y_test =  df_test.iloc[:, -1]"
   ]
  },
  {
   "cell_type": "code",
   "execution_count": null,
   "metadata": {
    "colab": {
     "base_uri": "https://localhost:8080/"
    },
    "executionInfo": {
     "elapsed": 123,
     "status": "ok",
     "timestamp": 1700129725803,
     "user": {
      "displayName": "Nitin Kumar Jha",
      "userId": "04937771533360242308"
     },
     "user_tz": -330
    },
    "id": "tR3P5dCs58TE",
    "outputId": "3db6b025-a6b2-4794-97aa-f43895a25024"
   },
   "outputs": [
    {
     "data": {
      "text/plain": [
       "((7560, 11), (7560,), (1890, 11), (1890,))"
      ]
     },
     "execution_count": 50,
     "metadata": {},
     "output_type": "execute_result"
    }
   ],
   "source": [
    "X_train.shape, y_train.shape, X_test.shape, y_test.shape"
   ]
  },
  {
   "cell_type": "markdown",
   "metadata": {
    "id": "oQG8ioGDPavo"
   },
   "source": [
    "# Q2 [7 marks] Train the ridge model on the training data with the following parameters:\n",
    "# `alpha = 10`\n",
    "# `solver = 'saga'`\n",
    "# `tol = 1e-4`\n",
    "# `random_state = 42`\n",
    "\n",
    "# Enter the value of $R^2$ score on the test dataset.\n",
    "\n",
    "**Answer:**\n",
    "\n",
    "V1: $0.41$ Range: $[0.38, 0.45]$\n",
    "\n",
    "V2: $0.40$ Range: $[0.37, 0.44]$\n",
    "\n",
    "V3: $0.40$ Range: $[0.37, 0.44]$\n",
    "\n",
    "V4: $0.38$ Range: $[0.35, 0.41]$\n",
    "\n",
    "V5: $0.39$ Range: $[0.36, 0.46]$\n"
   ]
  },
  {
   "cell_type": "code",
   "execution_count": null,
   "metadata": {
    "id": "0gdn-51F6XXD"
   },
   "outputs": [],
   "source": [
    "from sklearn.linear_model import Ridge"
   ]
  },
  {
   "cell_type": "code",
   "execution_count": null,
   "metadata": {
    "colab": {
     "base_uri": "https://localhost:8080/"
    },
    "executionInfo": {
     "elapsed": 108,
     "status": "ok",
     "timestamp": 1700129725806,
     "user": {
      "displayName": "Nitin Kumar Jha",
      "userId": "04937771533360242308"
     },
     "user_tz": -330
    },
    "id": "RsS2A-LZ6c2P",
    "outputId": "dcfd799e-4d84-4b24-db74-c759b5fb0a87"
   },
   "outputs": [
    {
     "data": {
      "text/plain": [
       "0.39408166659034294"
      ]
     },
     "execution_count": 52,
     "metadata": {},
     "output_type": "execute_result"
    }
   ],
   "source": [
    "ridge = Ridge(alpha = 10, solver = 'saga', tol = 1e-4, random_state = 42)\n",
    "ridge.fit(X_train, y_train)\n",
    "ridge.score(X_test, y_test)"
   ]
  },
  {
   "cell_type": "markdown",
   "metadata": {
    "id": "U4dE6bveSfFw"
   },
   "source": [
    "# **(Common Instructions for Q3 and Q4)**\n",
    "\n",
    "Take SGDRegressor(random_state = 42) estimator with GridSearchCV. Hyperparameter tuning to be done over the following parameters:\n",
    "\n",
    "- penalty as ['l1', 'l2']\n",
    "\n",
    "- alpha values as [1e-5, 1e-4, 1e-3, 1e-2, 1e-1]\n",
    "\n",
    "- values of tol as [1e-4, 1e-3, 1e-2, 1e-1]\n",
    "\n",
    "- Use cross-validation = 5\n",
    "\n",
    "- Set scoring as neg_mean_absolute_error\n",
    "\n",
    "\n",
    "Use the best model from above hyper parameter turing process to answer following questions:"
   ]
  },
  {
   "cell_type": "code",
   "execution_count": null,
   "metadata": {
    "id": "R_CJh_le8PIv"
   },
   "outputs": [],
   "source": [
    "from sklearn.model_selection import GridSearchCV"
   ]
  },
  {
   "cell_type": "code",
   "execution_count": null,
   "metadata": {
    "id": "fhLEzq_Q3hd1"
   },
   "outputs": [],
   "source": [
    "from sklearn.linear_model import SGDRegressor"
   ]
  },
  {
   "cell_type": "code",
   "execution_count": null,
   "metadata": {
    "id": "Zz5qnvYk8Wqe"
   },
   "outputs": [],
   "source": [
    "params = {'penalty': ['l1', 'l2'], 'alpha': [1e-5, 1e-4, 1e-3, 1e-2, 1e-1],  'tol': [1e-4, 1e-3, 1e-2, 1e-1]}"
   ]
  },
  {
   "cell_type": "code",
   "execution_count": null,
   "metadata": {
    "colab": {
     "base_uri": "https://localhost:8080/",
     "height": 116
    },
    "executionInfo": {
     "elapsed": 13308,
     "status": "ok",
     "timestamp": 1700129740079,
     "user": {
      "displayName": "Nitin Kumar Jha",
      "userId": "04937771533360242308"
     },
     "user_tz": -330
    },
    "id": "-Fux0V3987Zb",
    "outputId": "c055163c-81a6-4892-98da-3f85ba14e256"
   },
   "outputs": [
    {
     "data": {
      "text/html": [
       "<style>#sk-container-id-1 {color: black;background-color: white;}#sk-container-id-1 pre{padding: 0;}#sk-container-id-1 div.sk-toggleable {background-color: white;}#sk-container-id-1 label.sk-toggleable__label {cursor: pointer;display: block;width: 100%;margin-bottom: 0;padding: 0.3em;box-sizing: border-box;text-align: center;}#sk-container-id-1 label.sk-toggleable__label-arrow:before {content: \"▸\";float: left;margin-right: 0.25em;color: #696969;}#sk-container-id-1 label.sk-toggleable__label-arrow:hover:before {color: black;}#sk-container-id-1 div.sk-estimator:hover label.sk-toggleable__label-arrow:before {color: black;}#sk-container-id-1 div.sk-toggleable__content {max-height: 0;max-width: 0;overflow: hidden;text-align: left;background-color: #f0f8ff;}#sk-container-id-1 div.sk-toggleable__content pre {margin: 0.2em;color: black;border-radius: 0.25em;background-color: #f0f8ff;}#sk-container-id-1 input.sk-toggleable__control:checked~div.sk-toggleable__content {max-height: 200px;max-width: 100%;overflow: auto;}#sk-container-id-1 input.sk-toggleable__control:checked~label.sk-toggleable__label-arrow:before {content: \"▾\";}#sk-container-id-1 div.sk-estimator input.sk-toggleable__control:checked~label.sk-toggleable__label {background-color: #d4ebff;}#sk-container-id-1 div.sk-label input.sk-toggleable__control:checked~label.sk-toggleable__label {background-color: #d4ebff;}#sk-container-id-1 input.sk-hidden--visually {border: 0;clip: rect(1px 1px 1px 1px);clip: rect(1px, 1px, 1px, 1px);height: 1px;margin: -1px;overflow: hidden;padding: 0;position: absolute;width: 1px;}#sk-container-id-1 div.sk-estimator {font-family: monospace;background-color: #f0f8ff;border: 1px dotted black;border-radius: 0.25em;box-sizing: border-box;margin-bottom: 0.5em;}#sk-container-id-1 div.sk-estimator:hover {background-color: #d4ebff;}#sk-container-id-1 div.sk-parallel-item::after {content: \"\";width: 100%;border-bottom: 1px solid gray;flex-grow: 1;}#sk-container-id-1 div.sk-label:hover label.sk-toggleable__label {background-color: #d4ebff;}#sk-container-id-1 div.sk-serial::before {content: \"\";position: absolute;border-left: 1px solid gray;box-sizing: border-box;top: 0;bottom: 0;left: 50%;z-index: 0;}#sk-container-id-1 div.sk-serial {display: flex;flex-direction: column;align-items: center;background-color: white;padding-right: 0.2em;padding-left: 0.2em;position: relative;}#sk-container-id-1 div.sk-item {position: relative;z-index: 1;}#sk-container-id-1 div.sk-parallel {display: flex;align-items: stretch;justify-content: center;background-color: white;position: relative;}#sk-container-id-1 div.sk-item::before, #sk-container-id-1 div.sk-parallel-item::before {content: \"\";position: absolute;border-left: 1px solid gray;box-sizing: border-box;top: 0;bottom: 0;left: 50%;z-index: -1;}#sk-container-id-1 div.sk-parallel-item {display: flex;flex-direction: column;z-index: 1;position: relative;background-color: white;}#sk-container-id-1 div.sk-parallel-item:first-child::after {align-self: flex-end;width: 50%;}#sk-container-id-1 div.sk-parallel-item:last-child::after {align-self: flex-start;width: 50%;}#sk-container-id-1 div.sk-parallel-item:only-child::after {width: 0;}#sk-container-id-1 div.sk-dashed-wrapped {border: 1px dashed gray;margin: 0 0.4em 0.5em 0.4em;box-sizing: border-box;padding-bottom: 0.4em;background-color: white;}#sk-container-id-1 div.sk-label label {font-family: monospace;font-weight: bold;display: inline-block;line-height: 1.2em;}#sk-container-id-1 div.sk-label-container {text-align: center;}#sk-container-id-1 div.sk-container {/* jupyter's `normalize.less` sets `[hidden] { display: none; }` but bootstrap.min.css set `[hidden] { display: none !important; }` so we also need the `!important` here to be able to override the default hidden behavior on the sphinx rendered scikit-learn.org. See: https://github.com/scikit-learn/scikit-learn/issues/21755 */display: inline-block !important;position: relative;}#sk-container-id-1 div.sk-text-repr-fallback {display: none;}</style><div id=\"sk-container-id-1\" class=\"sk-top-container\"><div class=\"sk-text-repr-fallback\"><pre>GridSearchCV(cv=5, estimator=SGDRegressor(random_state=42),\n",
       "             param_grid={&#x27;alpha&#x27;: [1e-05, 0.0001, 0.001, 0.01, 0.1],\n",
       "                         &#x27;penalty&#x27;: [&#x27;l1&#x27;, &#x27;l2&#x27;],\n",
       "                         &#x27;tol&#x27;: [0.0001, 0.001, 0.01, 0.1]},\n",
       "             scoring=&#x27;neg_mean_absolute_error&#x27;)</pre><b>In a Jupyter environment, please rerun this cell to show the HTML representation or trust the notebook. <br />On GitHub, the HTML representation is unable to render, please try loading this page with nbviewer.org.</b></div><div class=\"sk-container\" hidden><div class=\"sk-item sk-dashed-wrapped\"><div class=\"sk-label-container\"><div class=\"sk-label sk-toggleable\"><input class=\"sk-toggleable__control sk-hidden--visually\" id=\"sk-estimator-id-1\" type=\"checkbox\" ><label for=\"sk-estimator-id-1\" class=\"sk-toggleable__label sk-toggleable__label-arrow\">GridSearchCV</label><div class=\"sk-toggleable__content\"><pre>GridSearchCV(cv=5, estimator=SGDRegressor(random_state=42),\n",
       "             param_grid={&#x27;alpha&#x27;: [1e-05, 0.0001, 0.001, 0.01, 0.1],\n",
       "                         &#x27;penalty&#x27;: [&#x27;l1&#x27;, &#x27;l2&#x27;],\n",
       "                         &#x27;tol&#x27;: [0.0001, 0.001, 0.01, 0.1]},\n",
       "             scoring=&#x27;neg_mean_absolute_error&#x27;)</pre></div></div></div><div class=\"sk-parallel\"><div class=\"sk-parallel-item\"><div class=\"sk-item\"><div class=\"sk-label-container\"><div class=\"sk-label sk-toggleable\"><input class=\"sk-toggleable__control sk-hidden--visually\" id=\"sk-estimator-id-2\" type=\"checkbox\" ><label for=\"sk-estimator-id-2\" class=\"sk-toggleable__label sk-toggleable__label-arrow\">estimator: SGDRegressor</label><div class=\"sk-toggleable__content\"><pre>SGDRegressor(random_state=42)</pre></div></div></div><div class=\"sk-serial\"><div class=\"sk-item\"><div class=\"sk-estimator sk-toggleable\"><input class=\"sk-toggleable__control sk-hidden--visually\" id=\"sk-estimator-id-3\" type=\"checkbox\" ><label for=\"sk-estimator-id-3\" class=\"sk-toggleable__label sk-toggleable__label-arrow\">SGDRegressor</label><div class=\"sk-toggleable__content\"><pre>SGDRegressor(random_state=42)</pre></div></div></div></div></div></div></div></div></div></div>"
      ],
      "text/plain": [
       "GridSearchCV(cv=5, estimator=SGDRegressor(random_state=42),\n",
       "             param_grid={'alpha': [1e-05, 0.0001, 0.001, 0.01, 0.1],\n",
       "                         'penalty': ['l1', 'l2'],\n",
       "                         'tol': [0.0001, 0.001, 0.01, 0.1]},\n",
       "             scoring='neg_mean_absolute_error')"
      ]
     },
     "execution_count": 56,
     "metadata": {},
     "output_type": "execute_result"
    }
   ],
   "source": [
    "est_1 = SGDRegressor(random_state = 42)\n",
    "grid = GridSearchCV(estimator= est_1, param_grid = params, cv = 5, scoring='neg_mean_absolute_error')\n",
    "grid.fit(X_train, y_train)"
   ]
  },
  {
   "cell_type": "markdown",
   "metadata": {
    "id": "1OI_-Pw6V50D"
   },
   "source": [
    "# Q3 [6 marks]: What is the best penalty?\n",
    "\n",
    "**Options**\n",
    "\n",
    "(A) l1\n",
    "\n",
    "(B) l2\n",
    "\n",
    "**Answer**\n",
    "\n",
    "(A)"
   ]
  },
  {
   "cell_type": "code",
   "execution_count": null,
   "metadata": {
    "colab": {
     "base_uri": "https://localhost:8080/"
    },
    "executionInfo": {
     "elapsed": 44,
     "status": "ok",
     "timestamp": 1700129740080,
     "user": {
      "displayName": "Nitin Kumar Jha",
      "userId": "04937771533360242308"
     },
     "user_tz": -330
    },
    "id": "QlyO0UvT9U5F",
    "outputId": "ca135b10-a517-4be4-9ed2-fb64750b6f5d"
   },
   "outputs": [
    {
     "data": {
      "text/plain": [
       "{'alpha': 0.1, 'penalty': 'l1', 'tol': 0.0001}"
      ]
     },
     "execution_count": 57,
     "metadata": {},
     "output_type": "execute_result"
    }
   ],
   "source": [
    "grid.best_params_"
   ]
  },
  {
   "cell_type": "markdown",
   "metadata": {
    "id": "m3WdI65_XmUK"
   },
   "source": [
    "# Q4 [7 marks]: What will be value of mean absolute error on the test dataset? Enter your answer correct to two decimal places.\n",
    "\n",
    "**Answer**\n",
    "\n",
    "V1: Range: $[2830.1, 2830.3]$\n",
    "\n",
    "V2: Range: $[3274.9, 3275.1]$\n",
    "\n",
    "V3: Range: $[2732.7, 2732.9]$\n",
    "\n",
    "V4: Range: $[2791.35, 2791.55]$\n",
    "\n",
    "V5: Range: $[2718.49, 2718.69]$"
   ]
  },
  {
   "cell_type": "code",
   "execution_count": null,
   "metadata": {
    "id": "jl8wJyXlWIu7"
   },
   "outputs": [],
   "source": [
    "from sklearn.metrics import mean_squared_error, mean_absolute_error, r2_score"
   ]
  },
  {
   "cell_type": "code",
   "execution_count": null,
   "metadata": {
    "colab": {
     "base_uri": "https://localhost:8080/"
    },
    "executionInfo": {
     "elapsed": 36,
     "status": "ok",
     "timestamp": 1700129740081,
     "user": {
      "displayName": "Nitin Kumar Jha",
      "userId": "04937771533360242308"
     },
     "user_tz": -330
    },
    "id": "igcmQFP79sHU",
    "outputId": "354ecab5-a12f-4c38-b222-0ca713a3246b"
   },
   "outputs": [
    {
     "data": {
      "text/plain": [
       "2718.591114045505"
      ]
     },
     "execution_count": 59,
     "metadata": {},
     "output_type": "execute_result"
    }
   ],
   "source": [
    "mean_absolute_error(y_test, grid.predict(X_test))"
   ]
  },
  {
   "cell_type": "markdown",
   "metadata": {
    "id": "aS3sbM7SZIOd"
   },
   "source": [
    "# (Common Instructions for Question 5 and 6)\n",
    "\n",
    "- create a pipeline of the PCA() as transformer and Lasso as an estimator.\n",
    "\n",
    "- Use GridSearchCV for tuning the hyperparameters of the created pipeline on training dataset.\n",
    "\n",
    "\n",
    "1. values of n_components for PCA to be $[0.9, 0.95]$\n",
    "1. lasso alpha value to be taken as : [10, 1, 0.01, 0.001]\n",
    "2. scoring : neg_mean_absolute_error.\n",
    "3. cv = 5\n",
    "4. n_jobs = -1 (negative one) [it helps in using all the computational power to run this job]\n",
    "\n",
    "(Note: Kindly ignore the warning.)"
   ]
  },
  {
   "cell_type": "code",
   "execution_count": null,
   "metadata": {
    "id": "jL-lM2bu-FFV"
   },
   "outputs": [],
   "source": [
    "from sklearn.decomposition import PCA"
   ]
  },
  {
   "cell_type": "code",
   "execution_count": null,
   "metadata": {
    "id": "A4cfU4dl-KnG"
   },
   "outputs": [],
   "source": [
    "from sklearn.pipeline import Pipeline\n",
    "from sklearn.linear_model import Lasso"
   ]
  },
  {
   "cell_type": "code",
   "execution_count": null,
   "metadata": {
    "id": "lwNMwk9q-PwS"
   },
   "outputs": [],
   "source": [
    "pipe = Pipeline([('pca', PCA()), ('est', Lasso())])"
   ]
  },
  {
   "cell_type": "code",
   "execution_count": null,
   "metadata": {
    "id": "5DVLQsxHZgzs"
   },
   "outputs": [],
   "source": [
    "param_grid_1 = {'pca__n_components': [0.9, 0.95],  'est__alpha': [10, 1, 0.01, 0.001]}"
   ]
  },
  {
   "cell_type": "code",
   "execution_count": null,
   "metadata": {
    "id": "zdGwbLigZ-qD"
   },
   "outputs": [],
   "source": [
    "grid_2 = GridSearchCV(estimator = pipe, param_grid = param_grid_1, cv = 5, scoring = 'neg_mean_absolute_error', n_jobs = -1)"
   ]
  },
  {
   "cell_type": "code",
   "execution_count": null,
   "metadata": {
    "colab": {
     "base_uri": "https://localhost:8080/",
     "height": 150
    },
    "executionInfo": {
     "elapsed": 3644,
     "status": "ok",
     "timestamp": 1700129743703,
     "user": {
      "displayName": "Nitin Kumar Jha",
      "userId": "04937771533360242308"
     },
     "user_tz": -330
    },
    "id": "7vpYYQIF-eQ7",
    "outputId": "c16f4e32-e118-4bc3-e2c0-a791b9056ade"
   },
   "outputs": [
    {
     "data": {
      "text/html": [
       "<style>#sk-container-id-2 {color: black;background-color: white;}#sk-container-id-2 pre{padding: 0;}#sk-container-id-2 div.sk-toggleable {background-color: white;}#sk-container-id-2 label.sk-toggleable__label {cursor: pointer;display: block;width: 100%;margin-bottom: 0;padding: 0.3em;box-sizing: border-box;text-align: center;}#sk-container-id-2 label.sk-toggleable__label-arrow:before {content: \"▸\";float: left;margin-right: 0.25em;color: #696969;}#sk-container-id-2 label.sk-toggleable__label-arrow:hover:before {color: black;}#sk-container-id-2 div.sk-estimator:hover label.sk-toggleable__label-arrow:before {color: black;}#sk-container-id-2 div.sk-toggleable__content {max-height: 0;max-width: 0;overflow: hidden;text-align: left;background-color: #f0f8ff;}#sk-container-id-2 div.sk-toggleable__content pre {margin: 0.2em;color: black;border-radius: 0.25em;background-color: #f0f8ff;}#sk-container-id-2 input.sk-toggleable__control:checked~div.sk-toggleable__content {max-height: 200px;max-width: 100%;overflow: auto;}#sk-container-id-2 input.sk-toggleable__control:checked~label.sk-toggleable__label-arrow:before {content: \"▾\";}#sk-container-id-2 div.sk-estimator input.sk-toggleable__control:checked~label.sk-toggleable__label {background-color: #d4ebff;}#sk-container-id-2 div.sk-label input.sk-toggleable__control:checked~label.sk-toggleable__label {background-color: #d4ebff;}#sk-container-id-2 input.sk-hidden--visually {border: 0;clip: rect(1px 1px 1px 1px);clip: rect(1px, 1px, 1px, 1px);height: 1px;margin: -1px;overflow: hidden;padding: 0;position: absolute;width: 1px;}#sk-container-id-2 div.sk-estimator {font-family: monospace;background-color: #f0f8ff;border: 1px dotted black;border-radius: 0.25em;box-sizing: border-box;margin-bottom: 0.5em;}#sk-container-id-2 div.sk-estimator:hover {background-color: #d4ebff;}#sk-container-id-2 div.sk-parallel-item::after {content: \"\";width: 100%;border-bottom: 1px solid gray;flex-grow: 1;}#sk-container-id-2 div.sk-label:hover label.sk-toggleable__label {background-color: #d4ebff;}#sk-container-id-2 div.sk-serial::before {content: \"\";position: absolute;border-left: 1px solid gray;box-sizing: border-box;top: 0;bottom: 0;left: 50%;z-index: 0;}#sk-container-id-2 div.sk-serial {display: flex;flex-direction: column;align-items: center;background-color: white;padding-right: 0.2em;padding-left: 0.2em;position: relative;}#sk-container-id-2 div.sk-item {position: relative;z-index: 1;}#sk-container-id-2 div.sk-parallel {display: flex;align-items: stretch;justify-content: center;background-color: white;position: relative;}#sk-container-id-2 div.sk-item::before, #sk-container-id-2 div.sk-parallel-item::before {content: \"\";position: absolute;border-left: 1px solid gray;box-sizing: border-box;top: 0;bottom: 0;left: 50%;z-index: -1;}#sk-container-id-2 div.sk-parallel-item {display: flex;flex-direction: column;z-index: 1;position: relative;background-color: white;}#sk-container-id-2 div.sk-parallel-item:first-child::after {align-self: flex-end;width: 50%;}#sk-container-id-2 div.sk-parallel-item:last-child::after {align-self: flex-start;width: 50%;}#sk-container-id-2 div.sk-parallel-item:only-child::after {width: 0;}#sk-container-id-2 div.sk-dashed-wrapped {border: 1px dashed gray;margin: 0 0.4em 0.5em 0.4em;box-sizing: border-box;padding-bottom: 0.4em;background-color: white;}#sk-container-id-2 div.sk-label label {font-family: monospace;font-weight: bold;display: inline-block;line-height: 1.2em;}#sk-container-id-2 div.sk-label-container {text-align: center;}#sk-container-id-2 div.sk-container {/* jupyter's `normalize.less` sets `[hidden] { display: none; }` but bootstrap.min.css set `[hidden] { display: none !important; }` so we also need the `!important` here to be able to override the default hidden behavior on the sphinx rendered scikit-learn.org. See: https://github.com/scikit-learn/scikit-learn/issues/21755 */display: inline-block !important;position: relative;}#sk-container-id-2 div.sk-text-repr-fallback {display: none;}</style><div id=\"sk-container-id-2\" class=\"sk-top-container\"><div class=\"sk-text-repr-fallback\"><pre>GridSearchCV(cv=5, estimator=Pipeline(steps=[(&#x27;pca&#x27;, PCA()), (&#x27;est&#x27;, Lasso())]),\n",
       "             n_jobs=-1,\n",
       "             param_grid={&#x27;est__alpha&#x27;: [10, 1, 0.01, 0.001],\n",
       "                         &#x27;pca__n_components&#x27;: [0.9, 0.95]},\n",
       "             scoring=&#x27;neg_mean_absolute_error&#x27;)</pre><b>In a Jupyter environment, please rerun this cell to show the HTML representation or trust the notebook. <br />On GitHub, the HTML representation is unable to render, please try loading this page with nbviewer.org.</b></div><div class=\"sk-container\" hidden><div class=\"sk-item sk-dashed-wrapped\"><div class=\"sk-label-container\"><div class=\"sk-label sk-toggleable\"><input class=\"sk-toggleable__control sk-hidden--visually\" id=\"sk-estimator-id-4\" type=\"checkbox\" ><label for=\"sk-estimator-id-4\" class=\"sk-toggleable__label sk-toggleable__label-arrow\">GridSearchCV</label><div class=\"sk-toggleable__content\"><pre>GridSearchCV(cv=5, estimator=Pipeline(steps=[(&#x27;pca&#x27;, PCA()), (&#x27;est&#x27;, Lasso())]),\n",
       "             n_jobs=-1,\n",
       "             param_grid={&#x27;est__alpha&#x27;: [10, 1, 0.01, 0.001],\n",
       "                         &#x27;pca__n_components&#x27;: [0.9, 0.95]},\n",
       "             scoring=&#x27;neg_mean_absolute_error&#x27;)</pre></div></div></div><div class=\"sk-parallel\"><div class=\"sk-parallel-item\"><div class=\"sk-item\"><div class=\"sk-label-container\"><div class=\"sk-label sk-toggleable\"><input class=\"sk-toggleable__control sk-hidden--visually\" id=\"sk-estimator-id-5\" type=\"checkbox\" ><label for=\"sk-estimator-id-5\" class=\"sk-toggleable__label sk-toggleable__label-arrow\">estimator: Pipeline</label><div class=\"sk-toggleable__content\"><pre>Pipeline(steps=[(&#x27;pca&#x27;, PCA()), (&#x27;est&#x27;, Lasso())])</pre></div></div></div><div class=\"sk-serial\"><div class=\"sk-item\"><div class=\"sk-serial\"><div class=\"sk-item\"><div class=\"sk-estimator sk-toggleable\"><input class=\"sk-toggleable__control sk-hidden--visually\" id=\"sk-estimator-id-6\" type=\"checkbox\" ><label for=\"sk-estimator-id-6\" class=\"sk-toggleable__label sk-toggleable__label-arrow\">PCA</label><div class=\"sk-toggleable__content\"><pre>PCA()</pre></div></div></div><div class=\"sk-item\"><div class=\"sk-estimator sk-toggleable\"><input class=\"sk-toggleable__control sk-hidden--visually\" id=\"sk-estimator-id-7\" type=\"checkbox\" ><label for=\"sk-estimator-id-7\" class=\"sk-toggleable__label sk-toggleable__label-arrow\">Lasso</label><div class=\"sk-toggleable__content\"><pre>Lasso()</pre></div></div></div></div></div></div></div></div></div></div></div></div>"
      ],
      "text/plain": [
       "GridSearchCV(cv=5, estimator=Pipeline(steps=[('pca', PCA()), ('est', Lasso())]),\n",
       "             n_jobs=-1,\n",
       "             param_grid={'est__alpha': [10, 1, 0.01, 0.001],\n",
       "                         'pca__n_components': [0.9, 0.95]},\n",
       "             scoring='neg_mean_absolute_error')"
      ]
     },
     "execution_count": 65,
     "metadata": {},
     "output_type": "execute_result"
    }
   ],
   "source": [
    "grid_2.fit(X_train, y_train)"
   ]
  },
  {
   "cell_type": "markdown",
   "metadata": {
    "id": "FzRLAn157hx_"
   },
   "source": [
    "# Q5 [6 marks]: If we fit the pipeline on the training dataset, what will be the $R^2$ score on the test dataset? Enter your answer correct to three decimal places.\n",
    "\n",
    "**Answer**\n",
    "\n",
    "V1: $0.01$ Range: $[0, 0.02]$\n",
    "\n",
    "V2: $0.02$ Range: $[0.01, 0.03]$\n",
    "\n",
    "V3: $0.03$ Range: $[0.02, 0.04]$\n",
    "\n",
    "V4: $0.01$ Range: $[0, 0.02]$\n",
    "\n",
    "V5: $0.01$ Range: $[0, 0.02]$\n",
    "\n",
    "\n"
   ]
  },
  {
   "cell_type": "code",
   "execution_count": null,
   "metadata": {
    "colab": {
     "base_uri": "https://localhost:8080/"
    },
    "executionInfo": {
     "elapsed": 39,
     "status": "ok",
     "timestamp": 1700129743705,
     "user": {
      "displayName": "Nitin Kumar Jha",
      "userId": "04937771533360242308"
     },
     "user_tz": -330
    },
    "id": "dekZ0G7g-iCx",
    "outputId": "c160c9aa-f9f0-494c-c7f5-acf5f2ec4291"
   },
   "outputs": [
    {
     "data": {
      "text/plain": [
       "0.019458733449152943"
      ]
     },
     "execution_count": 66,
     "metadata": {},
     "output_type": "execute_result"
    }
   ],
   "source": [
    "r2_score(y_test, grid_2.predict(X_test))"
   ]
  },
  {
   "cell_type": "markdown",
   "metadata": {
    "id": "J0N-fux28CeX"
   },
   "source": [
    "# Q6 [7 marks]: How much variance is explained by the first principle component? Enter your answer correct to two decimal places.\n",
    "\n",
    "**Answer**\n",
    "\n",
    "V1: $70.31$ Range: $[70.28, 70.35]$\n",
    "\n",
    "V2: $69.69$ Range: $[69.65, 69.74]$\n",
    "\n",
    "V3: $71.56$ Range: $[71.52, 71.60]$\n",
    "\n",
    "V1: $71.27$ Range: $[71.23, 71.31]$\n",
    "\n",
    "V5: $71.15$ Range: $[71.11, 71.19]$"
   ]
  },
  {
   "cell_type": "code",
   "execution_count": null,
   "metadata": {
    "colab": {
     "base_uri": "https://localhost:8080/"
    },
    "executionInfo": {
     "elapsed": 32,
     "status": "ok",
     "timestamp": 1700129743706,
     "user": {
      "displayName": "Nitin Kumar Jha",
      "userId": "04937771533360242308"
     },
     "user_tz": -330
    },
    "id": "7YMPenzi7PUH",
    "outputId": "959ca86f-4971-4fd7-bfa4-11f93a4240f3"
   },
   "outputs": [
    {
     "data": {
      "text/plain": [
       "71.15715063356097"
      ]
     },
     "execution_count": 67,
     "metadata": {},
     "output_type": "execute_result"
    }
   ],
   "source": [
    "best_pipe = grid_2.best_estimator_\n",
    "\n",
    "# Access the PCA transformer from the best estimator\n",
    "pca_transformer = best_pipe.named_steps['pca']\n",
    "\n",
    "\n",
    "pca_transformer.explained_variance_[0]"
   ]
  },
  {
   "cell_type": "markdown",
   "metadata": {
    "id": "v-rJKBhpv20d"
   },
   "source": [
    "# Q7 [7 marks]: create a pipeline of the PolynomialFeatures() as transformer and Lasso as an estimator with the following parameters:\n",
    "  - For PolynomialFeatures()\n",
    "    - interaction_only = False\n",
    "    - degree = 4\n",
    "  - For lasso()\n",
    "    - alpha = 100\n",
    "    - warm_start = True\n",
    "\n",
    "Fit the pipeline on the training dataset and find the $R^2$ score on the test dataset.\n",
    "\n",
    "\n",
    "**Answer**\n",
    "\n",
    "V1: $0.52$ Range: $[0.49, 0.55]$\n",
    "\n",
    "V2: $0.56$ Range: $[0.53, 0.59]$\n",
    "\n",
    "V3: $0.54$ Range: $[0.51, 0.57]$\n",
    "\n",
    "V4: $0.52$ Range: $[0.48, 0.56]$\n",
    "\n",
    "V5: $0.52$ Range: $[0.48, 0.56]$"
   ]
  },
  {
   "cell_type": "code",
   "execution_count": null,
   "metadata": {
    "id": "m-81tfs2wjDL"
   },
   "outputs": [],
   "source": [
    "from sklearn.preprocessing import PolynomialFeatures"
   ]
  },
  {
   "cell_type": "code",
   "execution_count": null,
   "metadata": {
    "colab": {
     "base_uri": "https://localhost:8080/",
     "height": 179
    },
    "executionInfo": {
     "elapsed": 11304,
     "status": "ok",
     "timestamp": 1700129754986,
     "user": {
      "displayName": "Nitin Kumar Jha",
      "userId": "04937771533360242308"
     },
     "user_tz": -330
    },
    "id": "hbOzWFo_we0d",
    "outputId": "2da3296d-5121-4a6c-d0a8-905689436e11"
   },
   "outputs": [
    {
     "name": "stderr",
     "output_type": "stream",
     "text": [
      "/usr/local/lib/python3.10/dist-packages/sklearn/linear_model/_coordinate_descent.py:631: ConvergenceWarning: Objective did not converge. You might want to increase the number of iterations, check the scale of the features or consider increasing regularisation. Duality gap: 3.349e+10, tolerance: 1.546e+07\n",
      "  model = cd_fast.enet_coordinate_descent(\n"
     ]
    },
    {
     "data": {
      "text/html": [
       "<style>#sk-container-id-3 {color: black;background-color: white;}#sk-container-id-3 pre{padding: 0;}#sk-container-id-3 div.sk-toggleable {background-color: white;}#sk-container-id-3 label.sk-toggleable__label {cursor: pointer;display: block;width: 100%;margin-bottom: 0;padding: 0.3em;box-sizing: border-box;text-align: center;}#sk-container-id-3 label.sk-toggleable__label-arrow:before {content: \"▸\";float: left;margin-right: 0.25em;color: #696969;}#sk-container-id-3 label.sk-toggleable__label-arrow:hover:before {color: black;}#sk-container-id-3 div.sk-estimator:hover label.sk-toggleable__label-arrow:before {color: black;}#sk-container-id-3 div.sk-toggleable__content {max-height: 0;max-width: 0;overflow: hidden;text-align: left;background-color: #f0f8ff;}#sk-container-id-3 div.sk-toggleable__content pre {margin: 0.2em;color: black;border-radius: 0.25em;background-color: #f0f8ff;}#sk-container-id-3 input.sk-toggleable__control:checked~div.sk-toggleable__content {max-height: 200px;max-width: 100%;overflow: auto;}#sk-container-id-3 input.sk-toggleable__control:checked~label.sk-toggleable__label-arrow:before {content: \"▾\";}#sk-container-id-3 div.sk-estimator input.sk-toggleable__control:checked~label.sk-toggleable__label {background-color: #d4ebff;}#sk-container-id-3 div.sk-label input.sk-toggleable__control:checked~label.sk-toggleable__label {background-color: #d4ebff;}#sk-container-id-3 input.sk-hidden--visually {border: 0;clip: rect(1px 1px 1px 1px);clip: rect(1px, 1px, 1px, 1px);height: 1px;margin: -1px;overflow: hidden;padding: 0;position: absolute;width: 1px;}#sk-container-id-3 div.sk-estimator {font-family: monospace;background-color: #f0f8ff;border: 1px dotted black;border-radius: 0.25em;box-sizing: border-box;margin-bottom: 0.5em;}#sk-container-id-3 div.sk-estimator:hover {background-color: #d4ebff;}#sk-container-id-3 div.sk-parallel-item::after {content: \"\";width: 100%;border-bottom: 1px solid gray;flex-grow: 1;}#sk-container-id-3 div.sk-label:hover label.sk-toggleable__label {background-color: #d4ebff;}#sk-container-id-3 div.sk-serial::before {content: \"\";position: absolute;border-left: 1px solid gray;box-sizing: border-box;top: 0;bottom: 0;left: 50%;z-index: 0;}#sk-container-id-3 div.sk-serial {display: flex;flex-direction: column;align-items: center;background-color: white;padding-right: 0.2em;padding-left: 0.2em;position: relative;}#sk-container-id-3 div.sk-item {position: relative;z-index: 1;}#sk-container-id-3 div.sk-parallel {display: flex;align-items: stretch;justify-content: center;background-color: white;position: relative;}#sk-container-id-3 div.sk-item::before, #sk-container-id-3 div.sk-parallel-item::before {content: \"\";position: absolute;border-left: 1px solid gray;box-sizing: border-box;top: 0;bottom: 0;left: 50%;z-index: -1;}#sk-container-id-3 div.sk-parallel-item {display: flex;flex-direction: column;z-index: 1;position: relative;background-color: white;}#sk-container-id-3 div.sk-parallel-item:first-child::after {align-self: flex-end;width: 50%;}#sk-container-id-3 div.sk-parallel-item:last-child::after {align-self: flex-start;width: 50%;}#sk-container-id-3 div.sk-parallel-item:only-child::after {width: 0;}#sk-container-id-3 div.sk-dashed-wrapped {border: 1px dashed gray;margin: 0 0.4em 0.5em 0.4em;box-sizing: border-box;padding-bottom: 0.4em;background-color: white;}#sk-container-id-3 div.sk-label label {font-family: monospace;font-weight: bold;display: inline-block;line-height: 1.2em;}#sk-container-id-3 div.sk-label-container {text-align: center;}#sk-container-id-3 div.sk-container {/* jupyter's `normalize.less` sets `[hidden] { display: none; }` but bootstrap.min.css set `[hidden] { display: none !important; }` so we also need the `!important` here to be able to override the default hidden behavior on the sphinx rendered scikit-learn.org. See: https://github.com/scikit-learn/scikit-learn/issues/21755 */display: inline-block !important;position: relative;}#sk-container-id-3 div.sk-text-repr-fallback {display: none;}</style><div id=\"sk-container-id-3\" class=\"sk-top-container\"><div class=\"sk-text-repr-fallback\"><pre>Pipeline(steps=[(&#x27;poly&#x27;, PolynomialFeatures(degree=4)),\n",
       "                (&#x27;Lasso&#x27;, Lasso(alpha=100, warm_start=True))])</pre><b>In a Jupyter environment, please rerun this cell to show the HTML representation or trust the notebook. <br />On GitHub, the HTML representation is unable to render, please try loading this page with nbviewer.org.</b></div><div class=\"sk-container\" hidden><div class=\"sk-item sk-dashed-wrapped\"><div class=\"sk-label-container\"><div class=\"sk-label sk-toggleable\"><input class=\"sk-toggleable__control sk-hidden--visually\" id=\"sk-estimator-id-8\" type=\"checkbox\" ><label for=\"sk-estimator-id-8\" class=\"sk-toggleable__label sk-toggleable__label-arrow\">Pipeline</label><div class=\"sk-toggleable__content\"><pre>Pipeline(steps=[(&#x27;poly&#x27;, PolynomialFeatures(degree=4)),\n",
       "                (&#x27;Lasso&#x27;, Lasso(alpha=100, warm_start=True))])</pre></div></div></div><div class=\"sk-serial\"><div class=\"sk-item\"><div class=\"sk-estimator sk-toggleable\"><input class=\"sk-toggleable__control sk-hidden--visually\" id=\"sk-estimator-id-9\" type=\"checkbox\" ><label for=\"sk-estimator-id-9\" class=\"sk-toggleable__label sk-toggleable__label-arrow\">PolynomialFeatures</label><div class=\"sk-toggleable__content\"><pre>PolynomialFeatures(degree=4)</pre></div></div></div><div class=\"sk-item\"><div class=\"sk-estimator sk-toggleable\"><input class=\"sk-toggleable__control sk-hidden--visually\" id=\"sk-estimator-id-10\" type=\"checkbox\" ><label for=\"sk-estimator-id-10\" class=\"sk-toggleable__label sk-toggleable__label-arrow\">Lasso</label><div class=\"sk-toggleable__content\"><pre>Lasso(alpha=100, warm_start=True)</pre></div></div></div></div></div></div></div>"
      ],
      "text/plain": [
       "Pipeline(steps=[('poly', PolynomialFeatures(degree=4)),\n",
       "                ('Lasso', Lasso(alpha=100, warm_start=True))])"
      ]
     },
     "execution_count": 69,
     "metadata": {},
     "output_type": "execute_result"
    }
   ],
   "source": [
    "grid_pipeline = Pipeline([\n",
    "    (\"poly\", PolynomialFeatures(interaction_only = False, degree= 4 )),\n",
    "    (\"Lasso\", Lasso(alpha = 100, warm_start=True))\n",
    "    ])\n",
    "\n",
    "grid_pipeline.fit(X_train, y_train)"
   ]
  },
  {
   "cell_type": "code",
   "execution_count": null,
   "metadata": {
    "colab": {
     "base_uri": "https://localhost:8080/"
    },
    "executionInfo": {
     "elapsed": 73,
     "status": "ok",
     "timestamp": 1700129754987,
     "user": {
      "displayName": "Nitin Kumar Jha",
      "userId": "04937771533360242308"
     },
     "user_tz": -330
    },
    "id": "M39e3na_xirG",
    "outputId": "5e84c15e-5c9c-4250-beed-d83a4ea88448"
   },
   "outputs": [
    {
     "data": {
      "text/plain": [
       "0.5224731808720374"
      ]
     },
     "execution_count": 70,
     "metadata": {},
     "output_type": "execute_result"
    }
   ],
   "source": [
    "r2_score(y_test, grid_pipeline.predict(X_test))"
   ]
  }
 ],
 "metadata": {
  "colab": {
   "authorship_tag": "ABX9TyMuXnVACEH+6jwCncdAGOTA",
   "provenance": []
  },
  "kernelspec": {
   "display_name": "Python 3 (ipykernel)",
   "language": "python",
   "name": "python3"
  },
  "language_info": {
   "codemirror_mode": {
    "name": "ipython",
    "version": 3
   },
   "file_extension": ".py",
   "mimetype": "text/x-python",
   "name": "python",
   "nbconvert_exporter": "python",
   "pygments_lexer": "ipython3",
   "version": "3.10.12"
  }
 },
 "nbformat": 4,
 "nbformat_minor": 4
}
