{
 "cells": [
  {
   "cell_type": "markdown",
   "id": "7f977127-8b44-433f-8714-26b678211ce4",
   "metadata": {},
   "source": [
    "**Instructions: For all graded questions, split the california housing dataset into train and test sets.**\n",
    "\n",
    "[Hint: use appropriate API with random_state=0, shuffle=False and test_size=0.2]"
   ]
  },
  {
   "cell_type": "markdown",
   "id": "856df026-355d-456e-9954-fdee55840624",
   "metadata": {},
   "source": [
    "#### Q1) If we use StandardScaler for preprocessing and LinearRegression for fitting the model with training set obtained from following code snippet:\n",
    "\n",
    "`X_train,X_test,y_train,y_test= train_test_split(X,y, test_size=0.2, shuffle=False, random_state=0)`\n",
    "\n",
    "Assume that (X,y) is the california housing dataset.  \n",
    "What is the R squared value for predictions obtained using test set features?"
   ]
  },
  {
   "cell_type": "code",
   "execution_count": 6,
   "id": "5926fd06-d52a-4980-9745-d8241ccee187",
   "metadata": {},
   "outputs": [],
   "source": [
    "from sklearn.datasets import fetch_california_housing\n",
    "from sklearn.preprocessing import StandardScaler\n",
    "from sklearn.pipeline import Pipeline\n",
    "\n",
    "X,y = fetch_california_housing(return_X_y=True , as_frame=True)"
   ]
  },
  {
   "cell_type": "code",
   "execution_count": 7,
   "id": "3127a3bc-fed8-44fe-97ff-a119f84c9117",
   "metadata": {},
   "outputs": [],
   "source": [
    "from sklearn.model_selection import train_test_split\n",
    "\n",
    "X_train,X_test,y_train,y_test= train_test_split(X,y, test_size=0.2, shuffle=False, random_state=0)"
   ]
  },
  {
   "cell_type": "code",
   "execution_count": 8,
   "id": "2e0cdaf7-048c-4617-8c73-73ea5001e63e",
   "metadata": {},
   "outputs": [],
   "source": [
    "pipe = Pipeline(steps=[\n",
    "    (\"feature_scaling\" , StandardScaler()),\n",
    "    (\"linReg\" , LinearRegression())\n",
    "])"
   ]
  },
  {
   "cell_type": "code",
   "execution_count": 9,
   "id": "97f965db-470e-4362-aa97-875594d96898",
   "metadata": {},
   "outputs": [
    {
     "data": {
      "text/plain": [
       "0.6605140591531993"
      ]
     },
     "execution_count": 9,
     "metadata": {},
     "output_type": "execute_result"
    }
   ],
   "source": [
    "from sklearn.linear_model import LinearRegression\n",
    "from sklearn.metrics import r2_score\n",
    "\n",
    "linReg = pipe.fit(X_train,y_train)\n",
    "y_pred = linReg.predict(X_test)\n",
    "\n",
    "r2_score(y_test,y_pred)"
   ]
  },
  {
   "cell_type": "markdown",
   "id": "80a436d6-e7e9-4a35-ac77-e26f98c97b4c",
   "metadata": {},
   "source": [
    "#### Q2) If we use StandardScaler for preprocessing and LinearRegression for fitting the model, what is the root mean squared error value for predictions obtained using test set features?\n",
    "\n",
    "\n",
    "   Note: Use methods and objects with default parameters"
   ]
  },
  {
   "cell_type": "code",
   "execution_count": 11,
   "id": "3be276e5-c621-41df-8d2a-7aa8c57f3fee",
   "metadata": {},
   "outputs": [
    {
     "data": {
      "text/plain": [
       "0.7033383507521878"
      ]
     },
     "execution_count": 11,
     "metadata": {},
     "output_type": "execute_result"
    }
   ],
   "source": [
    "from sklearn.metrics import root_mean_squared_error\n",
    "\n",
    "root_mean_squared_error(y_test , y_pred)"
   ]
  },
  {
   "cell_type": "markdown",
   "id": "0b6192bf-6e1b-4d04-be07-b7dcd782d6f7",
   "metadata": {},
   "source": [
    "**Instructions for next ques from Que 3 to 8**  \n",
    "**Split the data into training and test sets with random_state=0, shuffle=False and test_size=0.2 parameters.**  \n",
    "**Let, y_test= target label in test set of california housing dataset**  \n",
    "**and y_pred=target labels obtained by the model using X_test**  \n",
    "**Then compute values of the following evaluation metrics**"
   ]
  },
  {
   "cell_type": "markdown",
   "id": "5225c941-3746-4e8d-9253-627a29460ee2",
   "metadata": {},
   "source": [
    "#### Q3) Explained Variance score"
   ]
  },
  {
   "cell_type": "code",
   "execution_count": 12,
   "id": "b8faccae-fc06-497c-bb8b-22424a8cf6dd",
   "metadata": {},
   "outputs": [
    {
     "data": {
      "text/plain": [
       "0.6605500501742703"
      ]
     },
     "execution_count": 12,
     "metadata": {},
     "output_type": "execute_result"
    }
   ],
   "source": [
    "from sklearn.metrics import explained_variance_score\n",
    "\n",
    "explained_variance_score(y_test , y_pred)"
   ]
  },
  {
   "cell_type": "markdown",
   "id": "8603b8f4-395b-471b-8c21-8ed4c9b4d7cd",
   "metadata": {},
   "source": [
    "#### Q4) Max Error"
   ]
  },
  {
   "cell_type": "code",
   "execution_count": 13,
   "id": "785f1fb1-e9da-4ebb-bcb3-4a371308d7f6",
   "metadata": {},
   "outputs": [
    {
     "data": {
      "text/plain": [
       "7.260453292958372"
      ]
     },
     "execution_count": 13,
     "metadata": {},
     "output_type": "execute_result"
    }
   ],
   "source": [
    "from sklearn.metrics import max_error\n",
    "\n",
    "max_error(y_test , y_pred)"
   ]
  },
  {
   "cell_type": "markdown",
   "id": "bec9d443-a688-45c6-8085-1a1119a1cbf6",
   "metadata": {},
   "source": [
    "#### Q5) Mean Absolute Error"
   ]
  },
  {
   "cell_type": "code",
   "execution_count": 14,
   "id": "fa9041d3-bc60-4d4a-9a8d-2dc60ec65591",
   "metadata": {},
   "outputs": [
    {
     "data": {
      "text/plain": [
       "0.5168526993787042"
      ]
     },
     "execution_count": 14,
     "metadata": {},
     "output_type": "execute_result"
    }
   ],
   "source": [
    "from sklearn.metrics import mean_absolute_error\n",
    "\n",
    "mean_absolute_error(y_test , y_pred)"
   ]
  },
  {
   "cell_type": "markdown",
   "id": "dd57ab49-8149-45c2-9f3e-1d0c1e39310c",
   "metadata": {},
   "source": [
    "#### Q6) Mean Squared Error"
   ]
  },
  {
   "cell_type": "code",
   "execution_count": 15,
   "id": "888575d5-7cf4-4b37-86f2-5077e0769953",
   "metadata": {},
   "outputs": [
    {
     "data": {
      "text/plain": [
       "0.4946848356388075"
      ]
     },
     "execution_count": 15,
     "metadata": {},
     "output_type": "execute_result"
    }
   ],
   "source": [
    "from sklearn.metrics import mean_squared_error\n",
    "\n",
    "mean_squared_error(y_test , y_pred)"
   ]
  },
  {
   "cell_type": "markdown",
   "id": "97db4e1b-3792-4c6f-a84d-510facb63f6a",
   "metadata": {},
   "source": [
    "**Instructions: for Ques 7 to 8, perform SGD Regression on the given (scaled using StandardScalar()) dataset, using default hyperparameters and random_state=0.**"
   ]
  },
  {
   "cell_type": "markdown",
   "id": "0c86d970-ef07-40b7-be93-513ca30f7c0c",
   "metadata": {},
   "source": [
    "#### Q7) What is the bias term?"
   ]
  },
  {
   "cell_type": "code",
   "execution_count": 18,
   "id": "cccdcd3b-fdf2-4b0f-aabb-1312001ef762",
   "metadata": {},
   "outputs": [
    {
     "data": {
      "text/plain": [
       "array([2.00923411])"
      ]
     },
     "execution_count": 18,
     "metadata": {},
     "output_type": "execute_result"
    }
   ],
   "source": [
    "from sklearn.linear_model import SGDRegressor\n",
    "from sklearn.pipeline import Pipeline\n",
    "\n",
    "pipe = Pipeline(steps=[\n",
    "    (\"feature_scaling\" , StandardScaler()),\n",
    "    (\"sdgReg\" , SGDRegressor())\n",
    "])\n",
    "\n",
    "sgdReg = pipe.fit(X_train , y_train)\n",
    "\n",
    "pipe[\"sdgReg\"].intercept_"
   ]
  },
  {
   "cell_type": "markdown",
   "id": "93dd0bac-a47e-4bcf-8d37-e2c848f95643",
   "metadata": {},
   "source": [
    "#### Q8) What are the coefficients in predicted model?"
   ]
  },
  {
   "cell_type": "code",
   "execution_count": 19,
   "id": "a962bf88-fff2-472c-9f15-b60436ae2444",
   "metadata": {},
   "outputs": [
    {
     "data": {
      "text/plain": [
       "array([ 0.83718462,  0.09493951, -0.50062236,  0.12078126, -0.01620557,\n",
       "        0.50984563, -0.89916725, -0.85904444])"
      ]
     },
     "execution_count": 19,
     "metadata": {},
     "output_type": "execute_result"
    }
   ],
   "source": [
    "pipe[\"sdgReg\"].coef_"
   ]
  },
  {
   "cell_type": "code",
   "execution_count": null,
   "id": "d24c3aff-a101-42d7-bbac-29f5cfeb1568",
   "metadata": {},
   "outputs": [],
   "source": []
  }
 ],
 "metadata": {
  "kernelspec": {
   "display_name": "Python 3 (ipykernel)",
   "language": "python",
   "name": "python3"
  },
  "language_info": {
   "codemirror_mode": {
    "name": "ipython",
    "version": 3
   },
   "file_extension": ".py",
   "mimetype": "text/x-python",
   "name": "python",
   "nbconvert_exporter": "python",
   "pygments_lexer": "ipython3",
   "version": "3.10.12"
  }
 },
 "nbformat": 4,
 "nbformat_minor": 5
}
