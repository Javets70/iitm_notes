{
 "cells": [
  {
   "cell_type": "code",
   "execution_count": 29,
   "id": "a3c6ef0e-4069-4a6b-b61e-544636faef33",
   "metadata": {},
   "outputs": [],
   "source": [
    "import pandas as pd"
   ]
  },
  {
   "cell_type": "markdown",
   "id": "ec1aa02f-f489-4ff5-b04c-2910a63019f9",
   "metadata": {},
   "source": [
    "### Q1) Load the MNIST dataset (mnist_784, version=1) from openml. How many number of samples are there in the dataset?"
   ]
  },
  {
   "cell_type": "code",
   "execution_count": 1,
   "id": "db355bb8-68cb-40da-80de-eab3fea31a7b",
   "metadata": {},
   "outputs": [],
   "source": [
    "from sklearn.datasets import fetch_openml\n",
    "\n",
    "X,y = fetch_openml('mnist_784' , return_X_y=True , as_frame=True)"
   ]
  },
  {
   "cell_type": "code",
   "execution_count": 2,
   "id": "f7242789-8d5f-43d1-aa25-7b50bb4d0a90",
   "metadata": {},
   "outputs": [
    {
     "data": {
      "text/plain": [
       "(70000, 784)"
      ]
     },
     "execution_count": 2,
     "metadata": {},
     "output_type": "execute_result"
    }
   ],
   "source": [
    "X.shape"
   ]
  },
  {
   "cell_type": "markdown",
   "id": "8bec2e85-351a-4ced-b495-fa79581f06b2",
   "metadata": {},
   "source": [
    "### Q2) Access the sample at the index 2022.\n",
    "\n",
    "- What is the label of the sample?\n",
    "- What is the mean value of the sample?\n",
    "- How many zeros are there in the sample? \n",
    "\n",
    "Pack the answer in a tuple like (label,mean,num_zeros).\n",
    "\n"
   ]
  },
  {
   "cell_type": "code",
   "execution_count": 12,
   "id": "7298fb8f-20ea-46fa-af9f-948055285fd1",
   "metadata": {},
   "outputs": [
    {
     "data": {
      "text/plain": [
       "('2', 27.761479591836736, 643)"
      ]
     },
     "execution_count": 12,
     "metadata": {},
     "output_type": "execute_result"
    }
   ],
   "source": [
    "y.iloc[2022,] , X.iloc[2022,].mean() , X.iloc[2022][X.iloc[2022]==0].shape[0]"
   ]
  },
  {
   "cell_type": "markdown",
   "id": "b3a13c72-ba5e-4bf1-908c-b81fd83c7f54",
   "metadata": {},
   "source": [
    "### Q3) Create a dataset by taking first 10000 images for training and next 2000 images for testing from the original dataset. Answer the following questions.\n",
    "\n",
    "- How many unique classes are there in the training set?\n",
    "- The number of training samples for the digit-6 are?\n",
    "- The number of training samples for the digit-9 are?\n",
    "- How many unique classes are there in the test set?\n",
    "- Which class has more number of test samples?\n",
    "\n",
    "Pack the answers in a tuple like (2,1000,800,5,7)."
   ]
  },
  {
   "cell_type": "code",
   "execution_count": 15,
   "id": "f55146b3-fe24-4dc3-8b54-8eed3bb36fe2",
   "metadata": {},
   "outputs": [],
   "source": [
    "X_train  ,y_train = X.iloc[0:10000] , y.iloc[0:10000]\n",
    "X_test , y_test = X.iloc[10000:12000] , y.iloc[10000:12000]"
   ]
  },
  {
   "cell_type": "code",
   "execution_count": 27,
   "id": "60a9967a-8507-42b7-bc76-f3db644e4be4",
   "metadata": {},
   "outputs": [
    {
     "data": {
      "text/plain": [
       "(10, 1014, 978, 10, '1')"
      ]
     },
     "execution_count": 27,
     "metadata": {},
     "output_type": "execute_result"
    }
   ],
   "source": [
    "y_train.nunique() , y_train[y_train == '6'].shape[0] , y_train[y_train == '9'].shape[0] , y_test.nunique() , y_test.value_counts().idxmax()"
   ]
  },
  {
   "cell_type": "markdown",
   "id": "ccf90a22-004d-4cbb-b03c-3d6e0f95bf16",
   "metadata": {},
   "source": [
    "### Q4) Consider the above modified training and testing sets with first 10000 images for training and next 2000 images for testing.\n",
    "\n",
    "Steps to be followed\n",
    "\n",
    "- Collect all digit-6 (Positive class) and digit-9 (Negative class) images and stack them properly as a single datamatrix.\n",
    "- By convention, keep all digit-6 images from index 0 to i followed by digit-9 images from index i+1 to n (i denotes the end index of digit-6 images)\n",
    "- Similarly, collect the respective labels and store it in a variable (Do sanity check).\n",
    "- Set the label values to 1 for positive classes and -1 for negative classes.\n",
    "\n",
    "`from sklearn.utils import shuffle`\n",
    "\n",
    "Shuffle the datamatrix and labels. (Set `random_state` value to 1729).\n",
    "\n",
    "What are the first three labels starting from the index 0?. Select from the following options,"
   ]
  },
  {
   "cell_type": "code",
   "execution_count": 68,
   "id": "9f218982-2bda-4ac7-9226-fd5eca585090",
   "metadata": {},
   "outputs": [],
   "source": [
    "X_train_new = pd.concat((X_train[y_train == '6'] , X_train[y_train == '9']))\n",
    "y_train_new = pd.concat((y_train[y_train == '6'] , y_train[y_train == '9']))"
   ]
  },
  {
   "cell_type": "code",
   "execution_count": 69,
   "id": "994a0fe4-13cb-4b8c-bb9d-32b05933508a",
   "metadata": {},
   "outputs": [],
   "source": [
    "X_test_new = pd.concat((X_test[y_test == '6'] , X_test[y_test == '9']))\n",
    "y_test_new = pd.concat((y_test[y_test == '6'] , y_test[y_test == '9']))"
   ]
  },
  {
   "cell_type": "code",
   "execution_count": 70,
   "id": "11ec09ea-fa22-4b48-93f9-93ea98b1016b",
   "metadata": {},
   "outputs": [],
   "source": [
    "y_train_new = y_train_new.apply( lambda value : 1 if value == '6' else -1)\n",
    "y_test_new = y_test_new.apply( lambda value : 1 if value == '6' else -1)"
   ]
  },
  {
   "cell_type": "code",
   "execution_count": 71,
   "id": "ad487987-ba3a-43cc-bdf1-83bbe8332bf9",
   "metadata": {},
   "outputs": [],
   "source": [
    "from sklearn.utils import shuffle \n",
    "\n",
    "X_train_new , y_train_new = shuffle(X_train_new , y_train_new, random_state=1729)\n",
    "X_test_new , y_test_new = shuffle(X_test_new , y_test_new, random_state=1729)"
   ]
  },
  {
   "cell_type": "code",
   "execution_count": 126,
   "id": "1b99eaba-c246-4160-8940-fd654d67e219",
   "metadata": {},
   "outputs": [
    {
     "data": {
      "text/plain": [
       "2880    1\n",
       "1147   -1\n",
       "9825   -1\n",
       "Name: class, dtype: int64"
      ]
     },
     "execution_count": 126,
     "metadata": {},
     "output_type": "execute_result"
    }
   ],
   "source": [
    "y_train_new.iloc[:3]"
   ]
  },
  {
   "cell_type": "markdown",
   "id": "90a9f037-8695-455b-ab79-cf37330decd3",
   "metadata": {},
   "source": [
    "### Q5) Instantiate a perceptron classifier that meets the following requirements\n",
    "\n",
    "- random_state = 1729\n",
    "- learning rate = 1\n",
    "- Train for 10 iterations (epoch)\n",
    "- Set shuffle the dataset for each epoch (iteration) as False.\n",
    "- Include the intercept (bias) term.\n",
    "- No regularization\n",
    "-\n",
    "Fit the perceptron classifier on the training dataset. What is the value of w for the 69th feature after 10 iterations?\n",
    "\n",
    "(**Note**: Don't worry if it raises a convergence warning)\n"
   ]
  },
  {
   "cell_type": "code",
   "execution_count": 122,
   "id": "c6ac061f-6430-44ff-b078-6e66f28210e2",
   "metadata": {},
   "outputs": [],
   "source": [
    "from sklearn.linear_model import Perceptron\n",
    "\n",
    "clf = Perceptron(random_state = 1729 , eta0=1 , shuffle=False , fit_intercept=True , alpha=0 , warm_start=False)"
   ]
  },
  {
   "cell_type": "code",
   "execution_count": 123,
   "id": "d74cdc40-77c7-4b75-98de-2be30f75ea3a",
   "metadata": {},
   "outputs": [],
   "source": [
    "for i in range(10):\n",
    "    clf.partial_fit( X=X_train_new , y=y_train_new , classes=[1,-1])"
   ]
  },
  {
   "cell_type": "code",
   "execution_count": 124,
   "id": "03ef3961-9d87-483b-90f7-fc5492770057",
   "metadata": {},
   "outputs": [
    {
     "data": {
      "text/plain": [
       "605.0"
      ]
     },
     "execution_count": 124,
     "metadata": {},
     "output_type": "execute_result"
    }
   ],
   "source": [
    "clf.coef_[0][69]"
   ]
  },
  {
   "cell_type": "markdown",
   "id": "daee62e5-ab42-4231-9579-87d5aa82238f",
   "metadata": {},
   "source": [
    "### Q6) With respective to the above question and for the same settings.\n",
    " Which of the following is the sequence of bias (intercept) updates for the first 5 epochs?"
   ]
  },
  {
   "cell_type": "code",
   "execution_count": 93,
   "id": "6e5092db-bebc-46cc-af55-f87a9827142e",
   "metadata": {},
   "outputs": [],
   "source": [
    "from sklearn.linear_model import Perceptron\n",
    "\n",
    "clf = Perceptron(random_state = 1729 , eta0=1 , shuffle=False , fit_intercept=True , alpha=0 , warm_start=True)"
   ]
  },
  {
   "cell_type": "code",
   "execution_count": 94,
   "id": "d1eb21a7-e515-4659-8e8a-7b67bc26e59c",
   "metadata": {},
   "outputs": [
    {
     "name": "stdout",
     "output_type": "stream",
     "text": [
      "[-1.]\n",
      "[-4.]\n",
      "[-4.]\n",
      "[-6.]\n",
      "[-5.]\n"
     ]
    }
   ],
   "source": [
    "for i in range(5):\n",
    "    clf.partial_fit( X=X_train_new , y=y_train_new , classes=[1,-1])\n",
    "    print(clf.intercept_)"
   ]
  },
  {
   "cell_type": "code",
   "execution_count": null,
   "id": "ef169a6e-6b68-4ed1-b17e-55529ef0524f",
   "metadata": {},
   "outputs": [],
   "source": []
  }
 ],
 "metadata": {
  "kernelspec": {
   "display_name": "Python 3 (ipykernel)",
   "language": "python",
   "name": "python3"
  },
  "language_info": {
   "codemirror_mode": {
    "name": "ipython",
    "version": 3
   },
   "file_extension": ".py",
   "mimetype": "text/x-python",
   "name": "python",
   "nbconvert_exporter": "python",
   "pygments_lexer": "ipython3",
   "version": "3.10.12"
  }
 },
 "nbformat": 4,
 "nbformat_minor": 5
}
