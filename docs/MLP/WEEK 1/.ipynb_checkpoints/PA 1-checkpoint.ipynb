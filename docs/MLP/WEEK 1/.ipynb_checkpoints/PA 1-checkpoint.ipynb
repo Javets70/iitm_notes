{
 "cells": [
  {
   "cell_type": "code",
   "execution_count": 1,
   "id": "5995e0ce-54e5-4246-b3a0-5c8d340b30ca",
   "metadata": {},
   "outputs": [],
   "source": [
    "import pandas as pd"
   ]
  },
  {
   "cell_type": "code",
   "execution_count": 13,
   "id": "7aec180c-940e-4d83-b70c-2fac41d13f71",
   "metadata": {},
   "outputs": [],
   "source": [
    "url = \"https://drive.google.com/file/d/1zP38WCdZQ9StsAHTTLk72763QJQkhWrG/view?usp=sharing\"\n",
    "fileId = url.split('/')[-2]\n",
    "urlNew = \"https://drive.google.com/uc?id=\" + fileId\n",
    "df = pd.read_csv(urlNew)"
   ]
  },
  {
   "cell_type": "code",
   "execution_count": 93,
   "id": "bac33ace-da10-4056-8575-db72229f7040",
   "metadata": {},
   "outputs": [
    {
     "data": {
      "text/html": [
       "<div>\n",
       "<style scoped>\n",
       "    .dataframe tbody tr th:only-of-type {\n",
       "        vertical-align: middle;\n",
       "    }\n",
       "\n",
       "    .dataframe tbody tr th {\n",
       "        vertical-align: top;\n",
       "    }\n",
       "\n",
       "    .dataframe thead th {\n",
       "        text-align: right;\n",
       "    }\n",
       "</style>\n",
       "<table border=\"1\" class=\"dataframe\">\n",
       "  <thead>\n",
       "    <tr style=\"text-align: right;\">\n",
       "      <th></th>\n",
       "      <th>Airline</th>\n",
       "      <th>Source</th>\n",
       "      <th>Destination</th>\n",
       "      <th>Route</th>\n",
       "      <th>Dep_Time</th>\n",
       "      <th>Arrival_Time</th>\n",
       "      <th>Duration</th>\n",
       "      <th>Total_Stops</th>\n",
       "      <th>Additional_Info</th>\n",
       "      <th>Price</th>\n",
       "      <th>Month</th>\n",
       "      <th>WeekDay</th>\n",
       "      <th>Day</th>\n",
       "      <th>Transformed_Arrival_Time</th>\n",
       "    </tr>\n",
       "  </thead>\n",
       "  <tbody>\n",
       "    <tr>\n",
       "      <th>0</th>\n",
       "      <td>Jet Airways</td>\n",
       "      <td>Delhi</td>\n",
       "      <td>Banglore</td>\n",
       "      <td>DEL → BOM → COK</td>\n",
       "      <td>20:00</td>\n",
       "      <td>04:25 10 Jun</td>\n",
       "      <td>26h 35m</td>\n",
       "      <td>1 stop</td>\n",
       "      <td>In-flight meal not included</td>\n",
       "      <td>14924</td>\n",
       "      <td>6</td>\n",
       "      <td>Thursday</td>\n",
       "      <td>6.0</td>\n",
       "      <td>None</td>\n",
       "    </tr>\n",
       "    <tr>\n",
       "      <th>1</th>\n",
       "      <td>Jet Airways</td>\n",
       "      <td>Delhi</td>\n",
       "      <td>Cochin</td>\n",
       "      <td>DEL → BOM → COK</td>\n",
       "      <td>16:00</td>\n",
       "      <td>19:00 10 Jun</td>\n",
       "      <td>27h</td>\n",
       "      <td>1 stop</td>\n",
       "      <td>In-flight meal not included</td>\n",
       "      <td>10577</td>\n",
       "      <td>6</td>\n",
       "      <td>Sunday</td>\n",
       "      <td>9.0</td>\n",
       "      <td>Evening</td>\n",
       "    </tr>\n",
       "    <tr>\n",
       "      <th>2</th>\n",
       "      <td>Jet Airways</td>\n",
       "      <td>Mumbai</td>\n",
       "      <td>Hyderabad</td>\n",
       "      <td>BOM → HYD</td>\n",
       "      <td>19:35</td>\n",
       "      <td>21:05</td>\n",
       "      <td>1h 30m</td>\n",
       "      <td>non-stop</td>\n",
       "      <td>No info</td>\n",
       "      <td>5678</td>\n",
       "      <td>3</td>\n",
       "      <td>Friday</td>\n",
       "      <td>15.0</td>\n",
       "      <td>None</td>\n",
       "    </tr>\n",
       "    <tr>\n",
       "      <th>3</th>\n",
       "      <td>Multiple carriers</td>\n",
       "      <td>Delhi</td>\n",
       "      <td>Banglore</td>\n",
       "      <td>DEL → BOM → COK</td>\n",
       "      <td>18:55</td>\n",
       "      <td>01:30 16 Jun</td>\n",
       "      <td>15h 10m</td>\n",
       "      <td>1 stop</td>\n",
       "      <td>In-flight meal not included</td>\n",
       "      <td>7408</td>\n",
       "      <td>5</td>\n",
       "      <td>Monday</td>\n",
       "      <td>6.0</td>\n",
       "      <td>None</td>\n",
       "    </tr>\n",
       "    <tr>\n",
       "      <th>4</th>\n",
       "      <td>Air India</td>\n",
       "      <td>Delhi</td>\n",
       "      <td>Cochin</td>\n",
       "      <td>DEL → COK</td>\n",
       "      <td>17:10</td>\n",
       "      <td>17:55</td>\n",
       "      <td>8h 20m</td>\n",
       "      <td>non-stop</td>\n",
       "      <td>No info</td>\n",
       "      <td>6724</td>\n",
       "      <td>6</td>\n",
       "      <td>Monday</td>\n",
       "      <td>24.0</td>\n",
       "      <td>Evening</td>\n",
       "    </tr>\n",
       "    <tr>\n",
       "      <th>5</th>\n",
       "      <td>Jet Airways</td>\n",
       "      <td>Banglore</td>\n",
       "      <td>New Delhi</td>\n",
       "      <td>BLR → BOM → DEL</td>\n",
       "      <td>08:55</td>\n",
       "      <td>21:20</td>\n",
       "      <td>12h 25m</td>\n",
       "      <td>1 stop</td>\n",
       "      <td>In-flight meal not included</td>\n",
       "      <td>11087</td>\n",
       "      <td>3</td>\n",
       "      <td>Saturday</td>\n",
       "      <td>9.0</td>\n",
       "      <td>None</td>\n",
       "    </tr>\n",
       "    <tr>\n",
       "      <th>6</th>\n",
       "      <td>Jet Airways</td>\n",
       "      <td>Kolkata</td>\n",
       "      <td>Banglore</td>\n",
       "      <td>CCU → BOM → BLR</td>\n",
       "      <td>21:10</td>\n",
       "      <td>04:40 02 Apr</td>\n",
       "      <td>7h 30m</td>\n",
       "      <td>1 stop</td>\n",
       "      <td>No info</td>\n",
       "      <td>13364</td>\n",
       "      <td>4</td>\n",
       "      <td>Monday</td>\n",
       "      <td>1.0</td>\n",
       "      <td>None</td>\n",
       "    </tr>\n",
       "    <tr>\n",
       "      <th>7</th>\n",
       "      <td>SpiceJet</td>\n",
       "      <td>Delhi</td>\n",
       "      <td>Banglore</td>\n",
       "      <td>DEL → MAA → COK</td>\n",
       "      <td>16:30</td>\n",
       "      <td>11:20</td>\n",
       "      <td>12h 10m</td>\n",
       "      <td>1 stop</td>\n",
       "      <td>No info</td>\n",
       "      <td>6297</td>\n",
       "      <td>5</td>\n",
       "      <td>Sunday</td>\n",
       "      <td>12.0</td>\n",
       "      <td>Morning</td>\n",
       "    </tr>\n",
       "    <tr>\n",
       "      <th>8</th>\n",
       "      <td>IndiGo</td>\n",
       "      <td>Mumbai</td>\n",
       "      <td>Hyderabad</td>\n",
       "      <td>BOM → HYD</td>\n",
       "      <td>19:05</td>\n",
       "      <td>20:35</td>\n",
       "      <td>1h 30m</td>\n",
       "      <td>non-stop</td>\n",
       "      <td>No info</td>\n",
       "      <td>2754</td>\n",
       "      <td>5</td>\n",
       "      <td>Monday</td>\n",
       "      <td>6.0</td>\n",
       "      <td>None</td>\n",
       "    </tr>\n",
       "    <tr>\n",
       "      <th>9</th>\n",
       "      <td>Air India</td>\n",
       "      <td>Delhi</td>\n",
       "      <td>Cochin</td>\n",
       "      <td>DEL → HYD → MAA → COK</td>\n",
       "      <td>05:05</td>\n",
       "      <td>09:25 16 Jun</td>\n",
       "      <td>11h 5m</td>\n",
       "      <td>2 stops</td>\n",
       "      <td>No info</td>\n",
       "      <td>10975</td>\n",
       "      <td>4</td>\n",
       "      <td>Monday</td>\n",
       "      <td>15.0</td>\n",
       "      <td>Morning</td>\n",
       "    </tr>\n",
       "  </tbody>\n",
       "</table>\n",
       "</div>"
      ],
      "text/plain": [
       "             Airline    Source Destination                  Route Dep_Time  \\\n",
       "0        Jet Airways     Delhi    Banglore        DEL → BOM → COK    20:00   \n",
       "1        Jet Airways     Delhi      Cochin        DEL → BOM → COK    16:00   \n",
       "2        Jet Airways    Mumbai   Hyderabad              BOM → HYD    19:35   \n",
       "3  Multiple carriers     Delhi    Banglore        DEL → BOM → COK    18:55   \n",
       "4          Air India     Delhi      Cochin              DEL → COK    17:10   \n",
       "5        Jet Airways  Banglore   New Delhi        BLR → BOM → DEL    08:55   \n",
       "6        Jet Airways   Kolkata    Banglore        CCU → BOM → BLR    21:10   \n",
       "7           SpiceJet     Delhi    Banglore        DEL → MAA → COK    16:30   \n",
       "8             IndiGo    Mumbai   Hyderabad              BOM → HYD    19:05   \n",
       "9          Air India     Delhi      Cochin  DEL → HYD → MAA → COK    05:05   \n",
       "\n",
       "   Arrival_Time Duration Total_Stops              Additional_Info  Price  \\\n",
       "0  04:25 10 Jun  26h 35m      1 stop  In-flight meal not included  14924   \n",
       "1  19:00 10 Jun      27h      1 stop  In-flight meal not included  10577   \n",
       "2         21:05   1h 30m    non-stop                      No info   5678   \n",
       "3  01:30 16 Jun  15h 10m      1 stop  In-flight meal not included   7408   \n",
       "4         17:55   8h 20m    non-stop                      No info   6724   \n",
       "5         21:20  12h 25m      1 stop  In-flight meal not included  11087   \n",
       "6  04:40 02 Apr   7h 30m      1 stop                      No info  13364   \n",
       "7         11:20  12h 10m      1 stop                      No info   6297   \n",
       "8         20:35   1h 30m    non-stop                      No info   2754   \n",
       "9  09:25 16 Jun   11h 5m     2 stops                      No info  10975   \n",
       "\n",
       "   Month   WeekDay   Day Transformed_Arrival_Time  \n",
       "0      6  Thursday   6.0                     None  \n",
       "1      6    Sunday   9.0                  Evening  \n",
       "2      3    Friday  15.0                     None  \n",
       "3      5    Monday   6.0                     None  \n",
       "4      6    Monday  24.0                  Evening  \n",
       "5      3  Saturday   9.0                     None  \n",
       "6      4    Monday   1.0                     None  \n",
       "7      5    Sunday  12.0                  Morning  \n",
       "8      5    Monday   6.0                     None  \n",
       "9      4    Monday  15.0                  Morning  "
      ]
     },
     "execution_count": 93,
     "metadata": {},
     "output_type": "execute_result"
    }
   ],
   "source": [
    "df.head(10)"
   ]
  },
  {
   "cell_type": "markdown",
   "id": "d67d4a46-7924-41a6-ab2a-e8be2a7ed3ad",
   "metadata": {},
   "source": [
    "#### Q1) What is the average of the flight ticket price? Write your answer correct to two decimal places."
   ]
  },
  {
   "cell_type": "code",
   "execution_count": 19,
   "id": "d7da67a4-1581-4f3f-96d8-c17a5a52e249",
   "metadata": {},
   "outputs": [
    {
     "data": {
      "text/plain": [
       "9027.895555555555"
      ]
     },
     "execution_count": 19,
     "metadata": {},
     "output_type": "execute_result"
    }
   ],
   "source": [
    "df[\"Price\"].mean()"
   ]
  },
  {
   "cell_type": "markdown",
   "id": "3a4cebad-ad7e-48c5-aea0-354175b7f538",
   "metadata": {},
   "source": [
    "#### Q2) During which month did the highest number of flights occur? Months are represented by numerical codes, with January corresponding to 1, February to 2, and so forth."
   ]
  },
  {
   "cell_type": "code",
   "execution_count": 36,
   "id": "ee40159e-b36d-4c24-bc1e-cf9182111d27",
   "metadata": {},
   "outputs": [
    {
     "data": {
      "text/plain": [
       "5"
      ]
     },
     "execution_count": 36,
     "metadata": {},
     "output_type": "execute_result"
    }
   ],
   "source": [
    "df[\"Month\"].value_counts().idxmax()"
   ]
  },
  {
   "cell_type": "markdown",
   "id": "aa498bc8-845f-41a3-9590-1e87268a4813",
   "metadata": {},
   "source": [
    "#### Q3) Is the average price of flight tickets higher on weekends (Saturday and Sunday) or on weekdays (Remaining 5 days)?"
   ]
  },
  {
   "cell_type": "code",
   "execution_count": 48,
   "id": "15287c1d-747c-434d-9c2f-bd498c5f68ee",
   "metadata": {},
   "outputs": [],
   "source": [
    "df_temp = df.groupby(\"WeekDay\")[\"Price\"].sum()"
   ]
  },
  {
   "cell_type": "code",
   "execution_count": 54,
   "id": "be8b8f42-94c8-4ebd-ae69-7b3422e7ed4c",
   "metadata": {},
   "outputs": [
    {
     "data": {
      "text/plain": [
       "True"
      ]
     },
     "execution_count": 54,
     "metadata": {},
     "output_type": "execute_result"
    }
   ],
   "source": [
    "df_temp[[\"Saturday\" , \"Sunday\"]].mean() > df_temp[[\"Monday\" , \"Tuesday\" , \"Wednesday\" , \"Thursday\" , \"Friday\"]].mean()"
   ]
  },
  {
   "cell_type": "markdown",
   "id": "92d30e74-2d5a-44e9-bb46-65a4fd627e50",
   "metadata": {},
   "source": [
    "#### Q4) Two of the entries in the 'Additional_Info' column are 'No info' and 'No Info'. Replace all occurrences of 'No Info' with 'No info'. How many flights fall under airline 'IndiGo' and have 'No info' as additional information?"
   ]
  },
  {
   "cell_type": "code",
   "execution_count": 104,
   "id": "0abc4f2a-2a8e-4bb0-b32f-4d40e8296fe5",
   "metadata": {},
   "outputs": [
    {
     "data": {
      "text/plain": [
       "1647"
      ]
     },
     "execution_count": 104,
     "metadata": {},
     "output_type": "execute_result"
    }
   ],
   "source": [
    "df.replace(\"No Info\" , \"No info\")[(df[\"Airline\"] == \"IndiGo\") & (df[\"Additional_Info\"] == \"No info\")].shape[0]"
   ]
  },
  {
   "cell_type": "markdown",
   "id": "4b8ab88a-e93d-4936-946d-c12ffb2d8d45",
   "metadata": {},
   "source": [
    "#### Q5) Convert the values of 'Duration' into seconds. Enter the average duration (in seconds) of a flight. Enter your answer correct to two decimal places."
   ]
  },
  {
   "cell_type": "code",
   "execution_count": 81,
   "id": "f2f2c5ee-e88b-43f2-a5b3-16dd8165156c",
   "metadata": {},
   "outputs": [],
   "source": [
    "def convertToSeconds(time:str):\n",
    "    seconds = 0\n",
    "    if \"h\" in time:\n",
    "        hours = int(time.split(\"h\")[0])\n",
    "        seconds += hours*60*60\n",
    "    if \"m\" in time and \"h\" in time:\n",
    "        minutes = int(time.split(\" \")[1].replace(\"m\" , \"\"))\n",
    "        seconds += minutes*60\n",
    "    elif \"m\" in time:\n",
    "        minutes = int(time.replace(\"m\" , \"\"))\n",
    "        seconds += minutes*60\n",
    "    return seconds"
   ]
  },
  {
   "cell_type": "code",
   "execution_count": 84,
   "id": "ffe59e07-5984-45f2-93ce-3f95f1d8fb1c",
   "metadata": {},
   "outputs": [
    {
     "data": {
      "text/plain": [
       "38957.93650793651"
      ]
     },
     "execution_count": 84,
     "metadata": {},
     "output_type": "execute_result"
    }
   ],
   "source": [
    "df[\"Duration\"].apply(convertToSeconds).mean()"
   ]
  },
  {
   "cell_type": "markdown",
   "id": "84f24387-9122-47ec-8a10-5d336bb9b854",
   "metadata": {},
   "source": [
    "**Apply the following functions to the columns Dep_Time and Arrival_Time:**\n",
    "\n",
    "**Transform the values in the 'dep_time' and 'arrival_time' columns to represent the hour component. For instance, if an entry is 10:05 June 13 or 10:05, the corresponding value should be 10.**\n",
    "Then convert the time into four categories as follows:\n",
    "\n",
    "5 <= hour < 12 = Morning   \n",
    "12 <= hour < 17 = Afternoon   \n",
    "17 <= hour < 20 = Evening   \n",
    "20 <= hour < 5 = Night  \n",
    "\n",
    "**Note**: Please ensure that you make the changes directly within the dataset and continue to use that modified dataset for subsequent questions."
   ]
  },
  {
   "cell_type": "markdown",
   "id": "c5befd8b-4b6a-4458-a687-91218558c9dd",
   "metadata": {},
   "source": [
    "#### Q6) How many flights started in the Morning and arrived the destination at Evening?"
   ]
  },
  {
   "cell_type": "code",
   "execution_count": 106,
   "id": "b3f1bb75-eab4-4fae-9ca3-51cadb69ee61",
   "metadata": {},
   "outputs": [],
   "source": [
    "def convertTime(time : str):\n",
    "    hour = int(time.split(\":\")[0])\n",
    "    if 5 <= hour < 12:\n",
    "        return \"Morning\"\n",
    "    elif 12 <= hour < 17:\n",
    "        return \"Afternoon\"\n",
    "    elif 17 <= hour < 20:\n",
    "        return \"Evening\"\n",
    "    elif 5 < hour <= 20:\n",
    "        return \"Night\""
   ]
  },
  {
   "cell_type": "code",
   "execution_count": 90,
   "id": "1d198233-a204-47bb-961e-cfd5c87122cb",
   "metadata": {},
   "outputs": [],
   "source": [
    "df[\"Transformed_Arrival_Time\"] = df[\"Arrival_Time\"].apply(convertTime)"
   ]
  },
  {
   "cell_type": "code",
   "execution_count": 107,
   "id": "1793d2eb-f2c4-4609-ab07-547f4281f920",
   "metadata": {},
   "outputs": [],
   "source": [
    "df[\"Transformed_Dep_Time\"] = df[\"Dep_Time\"].apply(convertTime)"
   ]
  },
  {
   "cell_type": "code",
   "execution_count": 113,
   "id": "e954064f-4676-4761-87b0-9442a0330cd8",
   "metadata": {},
   "outputs": [
    {
     "data": {
      "text/plain": [
       "922"
      ]
     },
     "execution_count": 113,
     "metadata": {},
     "output_type": "execute_result"
    }
   ],
   "source": [
    "df[( df[\"Transformed_Dep_Time\"] == \"Morning\") & ( df[\"Transformed_Arrival_Time\"] == \"Evening\" )].shape[0]"
   ]
  },
  {
   "cell_type": "markdown",
   "id": "c2aa7cd9-6c85-4c07-82aa-577fe5ea3a9c",
   "metadata": {},
   "source": [
    "#### Q7) Encode the values of column 'WeekDay' as follows:\n",
    "Weekends (Sunday, Saturday) = 1  \n",
    "all remaining five days = 0  \n",
    "What is the most frequent (mode) WeekDay?"
   ]
  },
  {
   "cell_type": "code",
   "execution_count": 117,
   "id": "b23eb281-0775-41fb-84b8-8509fc9e20dd",
   "metadata": {},
   "outputs": [
    {
     "data": {
      "text/plain": [
       "0    0\n",
       "Name: WeekDay, dtype: int64"
      ]
     },
     "execution_count": 117,
     "metadata": {},
     "output_type": "execute_result"
    }
   ],
   "source": [
    "df[\"WeekDay\"].apply(lambda day : 1 if day in [\"Saturday\" , \"Sunday\"] else 0).mode()"
   ]
  },
  {
   "cell_type": "code",
   "execution_count": null,
   "id": "9e044124-3e11-4f3a-a38c-ba45cc5af8c0",
   "metadata": {},
   "outputs": [],
   "source": []
  }
 ],
 "metadata": {
  "kernelspec": {
   "display_name": "Python 3 (ipykernel)",
   "language": "python",
   "name": "python3"
  },
  "language_info": {
   "codemirror_mode": {
    "name": "ipython",
    "version": 3
   },
   "file_extension": ".py",
   "mimetype": "text/x-python",
   "name": "python",
   "nbconvert_exporter": "python",
   "pygments_lexer": "ipython3",
   "version": "3.10.12"
  }
 },
 "nbformat": 4,
 "nbformat_minor": 5
}
