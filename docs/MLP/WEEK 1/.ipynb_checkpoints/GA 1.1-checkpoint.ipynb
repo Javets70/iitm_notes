{
 "cells": [
  {
   "cell_type": "code",
   "execution_count": 45,
   "id": "ca67b838-fe13-49a5-abbc-463023ffa121",
   "metadata": {},
   "outputs": [],
   "source": [
    "import pandas as pd"
   ]
  },
  {
   "cell_type": "code",
   "execution_count": 22,
   "id": "4e665449-22d3-4950-b23d-e8042e556957",
   "metadata": {},
   "outputs": [],
   "source": [
    "url = \"https://drive.google.com/file/d/16D9FztGYzHiOXHzz5FiojqVbyOyV6zM2/view\"\n",
    "fileId = url.split(\"/\")[-2]\n",
    "urlNew = \"https://drive.google.com/uc?id=\" + fileId\n",
    "df = pd.read_csv(urlNew)"
   ]
  },
  {
   "cell_type": "markdown",
   "id": "e960c042-5a7e-4609-8b6d-3f74cd3c1340",
   "metadata": {},
   "source": [
    "#### Q1) How many unknown (\"?) values are present in the dataset? Remove/Delete unknown (\"?) values present in the dataset to make it null value.\n",
    "Remove/Delete - means it will show NAN in place of \"?\"  \n",
    "Note: If there is no value present in the dataset it is represented as NAN(read pandas documentation for all the other ways to represent null values) in data"
   ]
  },
  {
   "cell_type": "code",
   "execution_count": 47,
   "id": "797677a0-5e9b-4078-8e5d-5cf212fbc498",
   "metadata": {},
   "outputs": [
    {
     "data": {
      "text/plain": [
       "5548"
      ]
     },
     "execution_count": 47,
     "metadata": {},
     "output_type": "execute_result"
    }
   ],
   "source": [
    "df.replace(to_replace=\"?\" , value=pd.NA , inplace=True)\n",
    "df.isna().sum().sum()"
   ]
  },
  {
   "cell_type": "markdown",
   "id": "ca08fc7d-4d89-47af-acf5-740a7bc64635",
   "metadata": {},
   "source": [
    "#### Q2) What is the shape of the dataset ?"
   ]
  },
  {
   "cell_type": "code",
   "execution_count": 48,
   "id": "871107d1-04f6-4cee-ad96-722bd1b9028c",
   "metadata": {},
   "outputs": [
    {
     "data": {
      "text/plain": [
       "(10000, 12)"
      ]
     },
     "execution_count": 48,
     "metadata": {},
     "output_type": "execute_result"
    }
   ],
   "source": [
    "df.shape"
   ]
  },
  {
   "cell_type": "markdown",
   "id": "34742a65-3aa3-4891-9e0d-d9ffa4ae1b43",
   "metadata": {},
   "source": [
    "#### Q3) What is the value present at the 692th indexed row and 0th indexed column in the data ?\n",
    "\n",
    "dataframe[692,0] (simpy saying this in a matrix)  \n",
    "rows/ columns starts indexing from zero(0) in python "
   ]
  },
  {
   "cell_type": "code",
   "execution_count": 49,
   "id": "a4f07c36-6b7b-468a-8c60-432b810f725f",
   "metadata": {},
   "outputs": [
    {
     "data": {
      "text/plain": [
       "'2009-11-16'"
      ]
     },
     "execution_count": 49,
     "metadata": {},
     "output_type": "execute_result"
    }
   ],
   "source": [
    "df.iloc[692,0]"
   ]
  },
  {
   "cell_type": "markdown",
   "id": "ea72235f-e16f-4ddd-94d0-b156285a0279",
   "metadata": {},
   "source": [
    "#### Q4) What is the value present at the 546th indexed row and 7th indexed column in the data ?\n",
    " dataframe[546,7] (simpy saying this in a matrix)  \n",
    " rows/ columns starts indexing from zero(0) in python"
   ]
  },
  {
   "cell_type": "code",
   "execution_count": 50,
   "id": "d427c67d-2f4c-4a9b-b96b-cdab50b25f13",
   "metadata": {},
   "outputs": [
    {
     "data": {
      "text/plain": [
       "3"
      ]
     },
     "execution_count": 50,
     "metadata": {},
     "output_type": "execute_result"
    }
   ],
   "source": [
    "df.iloc[546,7]"
   ]
  },
  {
   "cell_type": "markdown",
   "id": "6fe15726-1b5e-4f01-b580-713b0fe24de6",
   "metadata": {},
   "source": [
    "#### Q5) What are the unique values present in the Locality feature of the dataset?\n"
   ]
  },
  {
   "cell_type": "code",
   "execution_count": 51,
   "id": "f9aaddd1-001b-445a-87da-56d22982621e",
   "metadata": {},
   "outputs": [
    {
     "data": {
      "text/plain": [
       "array(['Waterbury', 'Bridgeport', 'Greenwich', 'Norwalk', nan,\n",
       "       'Fairfield', 'West Hartford', 'Stamford'], dtype=object)"
      ]
     },
     "execution_count": 51,
     "metadata": {},
     "output_type": "execute_result"
    }
   ],
   "source": [
    "df[\"Locality\"].unique()"
   ]
  },
  {
   "cell_type": "markdown",
   "id": "e6e088cd-aa8c-4602-b146-b7811831fd45",
   "metadata": {},
   "source": [
    "#### Q6) Which of the following features have missing(NaN) values present in the dataset?"
   ]
  },
  {
   "cell_type": "code",
   "execution_count": 52,
   "id": "a4904ea3-9bbd-4056-9f4c-7221014c7be0",
   "metadata": {},
   "outputs": [
    {
     "name": "stdout",
     "output_type": "stream",
     "text": [
      "Locality\n",
      "Estimated Value\n",
      "Property\n",
      "carpet_area\n"
     ]
    }
   ],
   "source": [
    "for col in df.columns:\n",
    "    if df[col].isna().any():\n",
    "        print(col)"
   ]
  },
  {
   "cell_type": "markdown",
   "id": "b270006d-3e0d-4244-971e-412b23e545e1",
   "metadata": {},
   "source": [
    "#### Q7) Which of the following feature has most missing(NaN) values present in the dataset?"
   ]
  },
  {
   "cell_type": "code",
   "execution_count": 62,
   "id": "5269c1ee-0b6d-4934-a1e6-d520b33768b4",
   "metadata": {},
   "outputs": [
    {
     "data": {
      "text/plain": [
       "'Property'"
      ]
     },
     "execution_count": 62,
     "metadata": {},
     "output_type": "execute_result"
    }
   ],
   "source": [
    "df.isna().sum().idxmax()"
   ]
  },
  {
   "cell_type": "markdown",
   "id": "8b684523-8e88-44d3-a1d5-c2526a86a26f",
   "metadata": {},
   "source": [
    "#### Q8) Drop all the samples(rows) with missing values strictly greater than 2. How many samples remains after that ?"
   ]
  },
  {
   "cell_type": "code",
   "execution_count": 77,
   "id": "3f9762e3-d9f6-4173-a9ea-3aa7c6831e28",
   "metadata": {},
   "outputs": [
    {
     "data": {
      "text/plain": [
       "9917"
      ]
     },
     "execution_count": 77,
     "metadata": {},
     "output_type": "execute_result"
    }
   ],
   "source": [
    "df.drop(df[df.isna().sum(axis=1) > 2].index).shape[0]"
   ]
  },
  {
   "cell_type": "markdown",
   "id": "66923744-4711-41c7-9c9a-d96f824a00f1",
   "metadata": {},
   "source": [
    "#### Q9) Drop all the samples(rows) with missing values in the original dataframe . How many samples remains after that ?"
   ]
  },
  {
   "cell_type": "code",
   "execution_count": null,
   "id": "2c11fefb-b123-46ab-b7df-06cbae896bee",
   "metadata": {},
   "outputs": [],
   "source": []
  }
 ],
 "metadata": {
  "kernelspec": {
   "display_name": "Python 3 (ipykernel)",
   "language": "python",
   "name": "python3"
  },
  "language_info": {
   "codemirror_mode": {
    "name": "ipython",
    "version": 3
   },
   "file_extension": ".py",
   "mimetype": "text/x-python",
   "name": "python",
   "nbconvert_exporter": "python",
   "pygments_lexer": "ipython3",
   "version": "3.10.12"
  }
 },
 "nbformat": 4,
 "nbformat_minor": 5
}
