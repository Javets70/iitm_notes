{
 "cells": [
  {
   "cell_type": "markdown",
   "id": "8f9efdd4-a77b-494e-beda-9b962613e0a1",
   "metadata": {},
   "source": [
    "# GA 11.1\n",
    "\n",
    "**Data Set Information:**\n",
    "\n",
    "Live selling is becoming increasingly popular in Asian countries. Small vendors can now reach a wider audience and connect with many customers. Analyze The variability of consumer engagement on Facebook Live data which can help sellers to build selling approach and activities for the company.\n",
    "\n"
   ]
  },
  {
   "cell_type": "markdown",
   "id": "2e49653e-aaa2-4ca6-b0ff-a3756cfb0a44",
   "metadata": {},
   "source": [
    "## (Consider the statement for Q1- Q8) Load the dataset using following link\n",
    "\n",
    "- Url= \"https://archive.ics.uci.edu/ml/machine-learning-databases/00488/Live_20210128.csv\"\n",
    "- Check if any feature contains Null values.\n",
    "- Drop all the features which have Null values.\n",
    "- Save 'status_type' as target variable.\n",
    "- Drop the feature \"status_id\", \"status_type\" and \"status_published\" from training set.\n",
    "- Use LabelEncoder to transform the target variable.\n",
    "- Use standard scaler to scale the features.\n",
    "- For Q4,Q5 Train the model using Kmeans clustering (Take Random state=10)\n",
    "- For Q6,Q7,Q8 Train the model using Agglomerative Clustering by setting the parameter as following\n",
    "    - `n_clusters=4,affinity='euclidean', linkage='ward'`\n"
   ]
  },
  {
   "cell_type": "code",
   "execution_count": 52,
   "id": "06865e10-dc4b-43e5-9823-c3668ceea207",
   "metadata": {},
   "outputs": [],
   "source": [
    "import pandas as pd"
   ]
  },
  {
   "cell_type": "code",
   "execution_count": 53,
   "id": "f2fa850a-9a9c-440d-b1df-c2e84c57b1ca",
   "metadata": {},
   "outputs": [],
   "source": [
    "df = pd.read_csv(\"Live_20210128.csv\")"
   ]
  },
  {
   "cell_type": "code",
   "execution_count": 54,
   "id": "a657ef33-3d9c-4036-8f08-76e8f1ce2d48",
   "metadata": {},
   "outputs": [],
   "source": [
    "df_ = df.drop(columns=[\"Column1\" , \"Column2\" , \"Column3\" , \"Column4\"])"
   ]
  },
  {
   "cell_type": "code",
   "execution_count": 55,
   "id": "0ac8327b-d343-4913-8b13-7c189a9deb85",
   "metadata": {},
   "outputs": [],
   "source": [
    "X = df_.drop(columns=[\"status_id\" , \"status_type\" , \"status_published\"])\n",
    "y = df_.status_type"
   ]
  },
  {
   "cell_type": "code",
   "execution_count": 56,
   "id": "89d9882a-bcb5-4d15-baf5-696437c70e6e",
   "metadata": {},
   "outputs": [],
   "source": [
    "from sklearn.preprocessing import LabelEncoder\n",
    "\n",
    "y = LabelEncoder().fit_transform(y)"
   ]
  },
  {
   "cell_type": "code",
   "execution_count": 57,
   "id": "e9751305-5c19-44b8-9a1f-b0011424a112",
   "metadata": {},
   "outputs": [],
   "source": [
    "from sklearn.preprocessing import StandardScaler\n",
    "\n",
    "X = StandardScaler().fit_transform(X)"
   ]
  },
  {
   "cell_type": "markdown",
   "id": "31927304-9a73-4113-ae81-d33910fc005e",
   "metadata": {},
   "source": [
    "### Q1) What is the shape of the data?"
   ]
  },
  {
   "cell_type": "code",
   "execution_count": 58,
   "id": "453db9b5-41dd-433d-b1d4-62e6d8c053d0",
   "metadata": {},
   "outputs": [
    {
     "data": {
      "text/plain": [
       "(7050, 16)"
      ]
     },
     "execution_count": 58,
     "metadata": {},
     "output_type": "execute_result"
    }
   ],
   "source": [
    "df.shape"
   ]
  },
  {
   "cell_type": "markdown",
   "id": "80d30390-2021-42b8-b176-d7c083517135",
   "metadata": {},
   "source": [
    "### Q2) How many feature contain Null values?"
   ]
  },
  {
   "cell_type": "code",
   "execution_count": 59,
   "id": "b17a3d7d-169a-41f8-8464-b0fcd1f566c6",
   "metadata": {},
   "outputs": [
    {
     "data": {
      "text/plain": [
       "status_id              0\n",
       "status_type            0\n",
       "status_published       0\n",
       "num_reactions          0\n",
       "num_comments           0\n",
       "num_shares             0\n",
       "num_likes              0\n",
       "num_loves              0\n",
       "num_wows               0\n",
       "num_hahas              0\n",
       "num_sads               0\n",
       "num_angrys             0\n",
       "Column1             7050\n",
       "Column2             7050\n",
       "Column3             7050\n",
       "Column4             7050\n",
       "dtype: int64"
      ]
     },
     "execution_count": 59,
     "metadata": {},
     "output_type": "execute_result"
    }
   ],
   "source": [
    "df.isna().sum()"
   ]
  },
  {
   "cell_type": "markdown",
   "id": "3b249d35-3693-485f-a36b-0ba0ebc53e3b",
   "metadata": {},
   "source": [
    "### Q3) Column 'status_type' has _ _ _ _ (number) unique values."
   ]
  },
  {
   "cell_type": "code",
   "execution_count": 60,
   "id": "ce1f3d07-d098-4275-b99a-7b1253c3d120",
   "metadata": {},
   "outputs": [
    {
     "data": {
      "text/plain": [
       "4"
      ]
     },
     "execution_count": 60,
     "metadata": {},
     "output_type": "execute_result"
    }
   ],
   "source": [
    "df.status_type.nunique()"
   ]
  },
  {
   "cell_type": "markdown",
   "id": "2c39b235-9c60-425c-82b4-2a03eaab1ba5",
   "metadata": {},
   "source": [
    "### Q4) Enter the inertia score at k=2"
   ]
  },
  {
   "cell_type": "code",
   "execution_count": 62,
   "id": "a8b8b824-605d-473c-a870-8af9cca4dac1",
   "metadata": {},
   "outputs": [
    {
     "data": {
      "text/plain": [
       "48278.09824220545"
      ]
     },
     "execution_count": 62,
     "metadata": {},
     "output_type": "execute_result"
    }
   ],
   "source": [
    "from sklearn.cluster import KMeans\n",
    "\n",
    "clf = KMeans(n_clusters=2 , random_state=10 , init='random')\n",
    "clf.fit(X,y)\n",
    "clf.inertia_"
   ]
  },
  {
   "cell_type": "markdown",
   "id": "b8fc064b-2c6d-4bec-a0b0-c23b180191a3",
   "metadata": {},
   "source": [
    "### Q5) How many labels were predicted accurately at k=4?"
   ]
  },
  {
   "cell_type": "code",
   "execution_count": 66,
   "id": "ca3d844c-6481-45c9-968e-8f05a31555e9",
   "metadata": {},
   "outputs": [
    {
     "name": "stderr",
     "output_type": "stream",
     "text": [
      "/home/tejasvmaheshwari/.local/lib/python3.10/site-packages/sklearn/cluster/_kmeans.py:1102: FutureWarning: 'sample_weight' was deprecated in version 1.3 and will be removed in 1.5.\n",
      "  warnings.warn(\n"
     ]
    },
    {
     "data": {
      "text/plain": [
       "4118"
      ]
     },
     "execution_count": 66,
     "metadata": {},
     "output_type": "execute_result"
    }
   ],
   "source": [
    "from sklearn.cluster import KMeans\n",
    "\n",
    "clf = KMeans(n_clusters=4 , random_state=10 , init='random')\n",
    "clf.fit(X,y)\n",
    "\n",
    "(clf.predict(X,y) == y).sum()"
   ]
  },
  {
   "cell_type": "markdown",
   "id": "e8dd0b48-ad74-4415-a83b-f4f6bde8daf3",
   "metadata": {},
   "source": [
    "### Q6) What is the label predicted for first row of samples."
   ]
  },
  {
   "cell_type": "code",
   "execution_count": 74,
   "id": "4ba90deb-f053-44f8-9d23-bd1e90230e35",
   "metadata": {},
   "outputs": [],
   "source": [
    "from sklearn.cluster import AgglomerativeClustering\n",
    "\n",
    "clf = AgglomerativeClustering(n_clusters=4 , metric='euclidean', linkage='ward')\n",
    "y_pred = clf.fit_predict(X,y)"
   ]
  },
  {
   "cell_type": "code",
   "execution_count": 76,
   "id": "faf3ae39-7c2f-4512-8e93-0087a11a91dc",
   "metadata": {},
   "outputs": [
    {
     "data": {
      "text/plain": [
       "3"
      ]
     },
     "execution_count": 76,
     "metadata": {},
     "output_type": "execute_result"
    }
   ],
   "source": [
    "y_pred[0]"
   ]
  },
  {
   "cell_type": "markdown",
   "id": "7ea4912d-dd9b-4bd7-89e0-800590d3a5ed",
   "metadata": {},
   "source": [
    "### Q7) Enter the number of leaves in the hierarchical tree.\n"
   ]
  },
  {
   "cell_type": "code",
   "execution_count": 77,
   "id": "f9ee5f90-7d3d-41ca-9a97-0e6d325584e5",
   "metadata": {},
   "outputs": [
    {
     "data": {
      "text/plain": [
       "7050"
      ]
     },
     "execution_count": 77,
     "metadata": {},
     "output_type": "execute_result"
    }
   ],
   "source": [
    "clf.n_leaves_"
   ]
  },
  {
   "cell_type": "markdown",
   "id": "64b7278b-1edd-4558-be59-db913c303fa3",
   "metadata": {},
   "source": [
    "### Q8) What is the accuracy of the model(in Percentage)?\n"
   ]
  },
  {
   "cell_type": "code",
   "execution_count": null,
   "id": "96c464f7-535e-454a-9765-a84d71d88d70",
   "metadata": {},
   "outputs": [],
   "source": []
  }
 ],
 "metadata": {
  "kernelspec": {
   "display_name": "Python 3 (ipykernel)",
   "language": "python",
   "name": "python3"
  },
  "language_info": {
   "codemirror_mode": {
    "name": "ipython",
    "version": 3
   },
   "file_extension": ".py",
   "mimetype": "text/x-python",
   "name": "python",
   "nbconvert_exporter": "python",
   "pygments_lexer": "ipython3",
   "version": "3.10.12"
  }
 },
 "nbformat": 4,
 "nbformat_minor": 5
}
