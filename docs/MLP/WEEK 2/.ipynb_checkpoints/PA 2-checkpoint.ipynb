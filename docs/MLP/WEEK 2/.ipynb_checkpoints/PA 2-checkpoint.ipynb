{
 "cells": [
  {
   "cell_type": "markdown",
   "id": "ff2b99ec-e536-48d6-b113-5fef88242fd1",
   "metadata": {},
   "source": [
    "# WEEK 2 PRACTICE ASSIGNMENT\n"
   ]
  },
  {
   "cell_type": "markdown",
   "id": "89678b26-8d34-4ce4-a592-c1662f1c4d81",
   "metadata": {},
   "source": [
    "#### Q1) Which of the following options is the names of different label classes in the iris dataset?\n",
    "\n"
   ]
  },
  {
   "cell_type": "code",
   "execution_count": 11,
   "id": "cc6b4187-7589-4c30-a2cb-b77383e27b27",
   "metadata": {},
   "outputs": [
    {
     "data": {
      "text/plain": [
       "array(['setosa', 'versicolor', 'virginica'], dtype='<U10')"
      ]
     },
     "execution_count": 11,
     "metadata": {},
     "output_type": "execute_result"
    }
   ],
   "source": [
    "from sklearn.datasets import load_iris\n",
    "# import pandas as pd\n",
    "iris_data = load_iris()\n",
    "# df = pd.DataFrame(data=iris_data.data , columns=iris_data.feature_names)\n",
    "iris_data.target_names"
   ]
  },
  {
   "cell_type": "markdown",
   "id": "e0766791-60c4-4d38-a2c8-40c9fbc1df32",
   "metadata": {},
   "source": [
    "#### Q2) Generate 200 samples with 10 features for multiple regression problem with 10 outputs and find the shapes of the feature matrix and the label vector"
   ]
  },
  {
   "cell_type": "code",
   "execution_count": 3,
   "id": "842dbc17-56a8-4b3a-88c4-dd5fe8d931fb",
   "metadata": {},
   "outputs": [
    {
     "data": {
      "text/plain": [
       "((200, 10), (200, 10))"
      ]
     },
     "execution_count": 3,
     "metadata": {},
     "output_type": "execute_result"
    }
   ],
   "source": [
    "from sklearn.datasets import make_regression\n",
    "feature_matrix , label_vector = make_regression(n_samples=200 , n_features=10 , n_targets=10)\n",
    "feature_matrix.shape , label_vector.shape"
   ]
  },
  {
   "cell_type": "markdown",
   "id": "00f516eb-4d0f-48f5-bb2c-06cb5210755f",
   "metadata": {},
   "source": [
    "#### Q3) Find the shapes of the feature matrix and the label vector for a multilabel classification problem with 200 samples, 10 features, 7 labels and on an average 3 labels per example."
   ]
  },
  {
   "cell_type": "code",
   "execution_count": 4,
   "id": "4c2cc1d0-df60-4f04-a2e5-1b8978388fa4",
   "metadata": {},
   "outputs": [
    {
     "data": {
      "text/plain": [
       "((200, 10), (200, 7))"
      ]
     },
     "execution_count": 4,
     "metadata": {},
     "output_type": "execute_result"
    }
   ],
   "source": [
    "from sklearn.datasets import make_multilabel_classification\n",
    "\n",
    "feature_matrix , label_vector = make_multilabel_classification(n_samples=200 , n_features=10 , n_classes=7 , n_labels=3)\n",
    "feature_matrix.shape , label_vector.shape"
   ]
  },
  {
   "cell_type": "code",
   "execution_count": null,
   "id": "32ecb3b5-2dfd-4ff4-88d6-9a3481f51563",
   "metadata": {},
   "outputs": [],
   "source": []
  }
 ],
 "metadata": {
  "kernelspec": {
   "display_name": "Python 3 (ipykernel)",
   "language": "python",
   "name": "python3"
  },
  "language_info": {
   "codemirror_mode": {
    "name": "ipython",
    "version": 3
   },
   "file_extension": ".py",
   "mimetype": "text/x-python",
   "name": "python",
   "nbconvert_exporter": "python",
   "pygments_lexer": "ipython3",
   "version": "3.10.12"
  }
 },
 "nbformat": 4,
 "nbformat_minor": 5
}
