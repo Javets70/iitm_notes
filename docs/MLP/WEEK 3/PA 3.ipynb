{
 "cells": [
  {
   "cell_type": "markdown",
   "id": "17248e16-e949-4d8d-bac4-11fd5d16113d",
   "metadata": {},
   "source": [
    "# WEEK 3 PA"
   ]
  },
  {
   "cell_type": "code",
   "execution_count": 2,
   "id": "e4dc6e1e-85a8-4f54-8a93-b12e8ba06e3a",
   "metadata": {},
   "outputs": [
    {
     "name": "stderr",
     "output_type": "stream",
     "text": [
      "/tmp/ipykernel_96249/2162656668.py:1: DeprecationWarning: \n",
      "Pyarrow will become a required dependency of pandas in the next major release of pandas (pandas 3.0),\n",
      "(to allow more performant data types, such as the Arrow string type, and better interoperability with other libraries)\n",
      "but was not found to be installed on your system.\n",
      "If this would cause problems for you,\n",
      "please provide us feedback at https://github.com/pandas-dev/pandas/issues/54466\n",
      "        \n",
      "  import pandas as pd\n"
     ]
    }
   ],
   "source": [
    "import pandas as pd\n",
    "import numpy as np"
   ]
  },
  {
   "cell_type": "code",
   "execution_count": 3,
   "id": "dd9ad137-99eb-41c6-af4e-ed9381d74e65",
   "metadata": {},
   "outputs": [
    {
     "data": {
      "text/html": [
       "<div>\n",
       "<style scoped>\n",
       "    .dataframe tbody tr th:only-of-type {\n",
       "        vertical-align: middle;\n",
       "    }\n",
       "\n",
       "    .dataframe tbody tr th {\n",
       "        vertical-align: top;\n",
       "    }\n",
       "\n",
       "    .dataframe thead th {\n",
       "        text-align: right;\n",
       "    }\n",
       "</style>\n",
       "<table border=\"1\" class=\"dataframe\">\n",
       "  <thead>\n",
       "    <tr style=\"text-align: right;\">\n",
       "      <th></th>\n",
       "      <th>V1</th>\n",
       "      <th>V2</th>\n",
       "      <th>V3</th>\n",
       "      <th>V4</th>\n",
       "      <th>V5</th>\n",
       "      <th>Target</th>\n",
       "    </tr>\n",
       "  </thead>\n",
       "  <tbody>\n",
       "    <tr>\n",
       "      <th>0</th>\n",
       "      <td>2.0</td>\n",
       "      <td>50.0</td>\n",
       "      <td>12500.0</td>\n",
       "      <td>98.0</td>\n",
       "      <td>NEGATIVE</td>\n",
       "      <td>YES</td>\n",
       "    </tr>\n",
       "    <tr>\n",
       "      <th>1</th>\n",
       "      <td>0.0</td>\n",
       "      <td>13.0</td>\n",
       "      <td>3250.0</td>\n",
       "      <td>28.0</td>\n",
       "      <td>NEGATIVE</td>\n",
       "      <td>YES</td>\n",
       "    </tr>\n",
       "    <tr>\n",
       "      <th>2</th>\n",
       "      <td>?</td>\n",
       "      <td>?</td>\n",
       "      <td>4000.0</td>\n",
       "      <td>35.0</td>\n",
       "      <td>NEGATIVE</td>\n",
       "      <td>YES</td>\n",
       "    </tr>\n",
       "    <tr>\n",
       "      <th>3</th>\n",
       "      <td>?</td>\n",
       "      <td>20.0</td>\n",
       "      <td>5000.0</td>\n",
       "      <td>45.0</td>\n",
       "      <td>NEGATIVE</td>\n",
       "      <td>YES</td>\n",
       "    </tr>\n",
       "    <tr>\n",
       "      <th>4</th>\n",
       "      <td>1.0</td>\n",
       "      <td>24.0</td>\n",
       "      <td>6000.0</td>\n",
       "      <td>77.0</td>\n",
       "      <td>NEGATIVE</td>\n",
       "      <td>NO</td>\n",
       "    </tr>\n",
       "  </tbody>\n",
       "</table>\n",
       "</div>"
      ],
      "text/plain": [
       "    V1    V2       V3    V4        V5 Target\n",
       "0  2.0  50.0  12500.0  98.0  NEGATIVE    YES\n",
       "1  0.0  13.0   3250.0  28.0  NEGATIVE    YES\n",
       "2    ?     ?   4000.0  35.0  NEGATIVE    YES\n",
       "3    ?  20.0   5000.0  45.0  NEGATIVE    YES\n",
       "4  1.0  24.0   6000.0  77.0  NEGATIVE     NO"
      ]
     },
     "execution_count": 3,
     "metadata": {},
     "output_type": "execute_result"
    }
   ],
   "source": [
    "df = pd.read_csv('DataPreprocessingGraded_dataset.csv')\n",
    "df.head()"
   ]
  },
  {
   "cell_type": "markdown",
   "id": "6677edbe-e00f-42fe-9eb8-61c89724bbb1",
   "metadata": {},
   "source": [
    "#### Q1) How many samples are there in this dataset?"
   ]
  },
  {
   "cell_type": "code",
   "execution_count": 4,
   "id": "eeb5d2fa-e5db-4c9a-8146-056c6e1bc7f3",
   "metadata": {},
   "outputs": [
    {
     "data": {
      "text/plain": [
       "748"
      ]
     },
     "execution_count": 4,
     "metadata": {},
     "output_type": "execute_result"
    }
   ],
   "source": [
    "df.shape[0]"
   ]
  },
  {
   "cell_type": "markdown",
   "id": "6cd71ea4-8f31-4371-a659-d29e89ee42aa",
   "metadata": {},
   "source": [
    "#### Q2) How many input features are there in this dataset?"
   ]
  },
  {
   "cell_type": "code",
   "execution_count": 5,
   "id": "9b5f9073-bc5d-477a-bd28-c1ea9b30d3e3",
   "metadata": {},
   "outputs": [
    {
     "data": {
      "text/plain": [
       "Index(['V1', 'V2', 'V3', 'V4', 'V5', 'Target'], dtype='object')"
      ]
     },
     "execution_count": 5,
     "metadata": {},
     "output_type": "execute_result"
    }
   ],
   "source": [
    "df.columns"
   ]
  },
  {
   "cell_type": "markdown",
   "id": "665ff21b-a51e-476c-8d0c-1b049d16be3b",
   "metadata": {},
   "source": [
    "#### Q3) What type of problem is this?"
   ]
  },
  {
   "cell_type": "code",
   "execution_count": 6,
   "id": "b39d823b-5074-4072-9dd5-39400edacf2f",
   "metadata": {},
   "outputs": [
    {
     "data": {
      "text/plain": [
       "0    YES\n",
       "1    YES\n",
       "2    YES\n",
       "3    YES\n",
       "4     NO\n",
       "Name: Target, dtype: object"
      ]
     },
     "execution_count": 6,
     "metadata": {},
     "output_type": "execute_result"
    }
   ],
   "source": [
    "df.Target.head()"
   ]
  },
  {
   "cell_type": "markdown",
   "id": "50be5c71-107e-4ea8-9bab-57c34cd2ad40",
   "metadata": {},
   "source": [
    "#### Q4) Which of the features has least variance?"
   ]
  },
  {
   "cell_type": "code",
   "execution_count": 29,
   "id": "c3f1e81e-c693-4885-8666-2d84316744c5",
   "metadata": {},
   "outputs": [
    {
     "data": {
      "text/html": [
       "<div>\n",
       "<style scoped>\n",
       "    .dataframe tbody tr th:only-of-type {\n",
       "        vertical-align: middle;\n",
       "    }\n",
       "\n",
       "    .dataframe tbody tr th {\n",
       "        vertical-align: top;\n",
       "    }\n",
       "\n",
       "    .dataframe thead th {\n",
       "        text-align: right;\n",
       "    }\n",
       "</style>\n",
       "<table border=\"1\" class=\"dataframe\">\n",
       "  <thead>\n",
       "    <tr style=\"text-align: right;\">\n",
       "      <th></th>\n",
       "      <th>V3</th>\n",
       "      <th>V4</th>\n",
       "    </tr>\n",
       "  </thead>\n",
       "  <tbody>\n",
       "    <tr>\n",
       "      <th>count</th>\n",
       "      <td>739.000000</td>\n",
       "      <td>739.000000</td>\n",
       "    </tr>\n",
       "    <tr>\n",
       "      <th>mean</th>\n",
       "      <td>1356.901218</td>\n",
       "      <td>34.304465</td>\n",
       "    </tr>\n",
       "    <tr>\n",
       "      <th>std</th>\n",
       "      <td>1444.105299</td>\n",
       "      <td>24.432765</td>\n",
       "    </tr>\n",
       "    <tr>\n",
       "      <th>min</th>\n",
       "      <td>250.000000</td>\n",
       "      <td>2.000000</td>\n",
       "    </tr>\n",
       "    <tr>\n",
       "      <th>25%</th>\n",
       "      <td>500.000000</td>\n",
       "      <td>16.000000</td>\n",
       "    </tr>\n",
       "    <tr>\n",
       "      <th>50%</th>\n",
       "      <td>1000.000000</td>\n",
       "      <td>28.000000</td>\n",
       "    </tr>\n",
       "    <tr>\n",
       "      <th>75%</th>\n",
       "      <td>1750.000000</td>\n",
       "      <td>50.000000</td>\n",
       "    </tr>\n",
       "    <tr>\n",
       "      <th>max</th>\n",
       "      <td>12500.000000</td>\n",
       "      <td>98.000000</td>\n",
       "    </tr>\n",
       "  </tbody>\n",
       "</table>\n",
       "</div>"
      ],
      "text/plain": [
       "                 V3          V4\n",
       "count    739.000000  739.000000\n",
       "mean    1356.901218   34.304465\n",
       "std     1444.105299   24.432765\n",
       "min      250.000000    2.000000\n",
       "25%      500.000000   16.000000\n",
       "50%     1000.000000   28.000000\n",
       "75%     1750.000000   50.000000\n",
       "max    12500.000000   98.000000"
      ]
     },
     "execution_count": 29,
     "metadata": {},
     "output_type": "execute_result"
    }
   ],
   "source": [
    "df = df.replace(\"?\" , pd.NA , inplace=True).dropna().describe()\n",
    "\n",
    "# from sklearn.impute import SimpleImputer\n",
    "# from sklearn.compose import ColumnTransformer\n",
    "\n",
    "# mean_ct = ColumnTransformer([\n",
    "#     (\"mean_imputer\" , SimpleImputer(strategy='mean') , [0,1])\n",
    "# ],verbose_feature_names_out=False , remainder='passthrough').set_output(transform=\"pandas\")\n",
    "\n",
    "# new_df = mean_ct.fit_transform(df)\n",
    "# new_df.describe()"
   ]
  },
  {
   "cell_type": "markdown",
   "id": "306e5cef-143b-40a7-a90a-1387f97adc65",
   "metadata": {},
   "source": [
    "#### Q5) Which of the following features has least number of outliers?"
   ]
  },
  {
   "cell_type": "code",
   "execution_count": null,
   "id": "9e85ac69-d845-42ca-af52-f876ba340e53",
   "metadata": {},
   "outputs": [],
   "source": []
  },
  {
   "cell_type": "markdown",
   "id": "2adaeea3-1bd9-4758-995e-81df555f9b66",
   "metadata": {},
   "source": [
    "#### Q6) Which of the following is true about target variable?"
   ]
  },
  {
   "cell_type": "code",
   "execution_count": 8,
   "id": "32462891-e200-450a-afba-ea14ee8229b3",
   "metadata": {},
   "outputs": [
    {
     "data": {
      "text/plain": [
       "Target\n",
       "NO     570\n",
       "YES    178\n",
       "Name: count, dtype: int64"
      ]
     },
     "execution_count": 8,
     "metadata": {},
     "output_type": "execute_result"
    }
   ],
   "source": [
    "df.Target.value_counts()"
   ]
  },
  {
   "cell_type": "markdown",
   "id": "aafd8515-34c1-49e2-9b90-9c53022527e5",
   "metadata": {},
   "source": [
    "#### Q7) How many features have missing values in the dataset?"
   ]
  },
  {
   "cell_type": "code",
   "execution_count": 9,
   "id": "4664fcc3-c66f-4763-a19c-080ef01fdbc5",
   "metadata": {},
   "outputs": [
    {
     "data": {
      "text/plain": [
       "V1    V2   V3      V4    V5        Target\n",
       "2.0   1.0  250.0   2.0   NEGATIVE  NO        27\n",
       "4.0   1.0  250.0   4.0   NEGATIVE  NO        27\n",
       "16.0  1.0  250.0   16.0  NEGATIVE  NO        17\n",
       "14.0  1.0  250.0   14.0  NEGATIVE  NO        16\n",
       "23.0  1.0  250.0   23.0  NEGATIVE  NO        15\n",
       "                                             ..\n",
       "16.0  6.0  1500.0  35.0  NEGATIVE  YES        1\n",
       "                                   NO         1\n",
       "      5.0  1250.0  71.0  NEGATIVE  NO         1\n",
       "                   60.0  NEGATIVE  NO         1\n",
       "?     ?    4000.0  35.0  NEGATIVE  YES        1\n",
       "Name: count, Length: 533, dtype: int64"
      ]
     },
     "execution_count": 9,
     "metadata": {},
     "output_type": "execute_result"
    }
   ],
   "source": [
    "df.value_counts()"
   ]
  },
  {
   "cell_type": "markdown",
   "id": "83ffb212-07dc-49b1-9ccb-7dd40521cf8e",
   "metadata": {},
   "source": [
    "#### Q8) What is total number of missing values in the dataset?"
   ]
  },
  {
   "cell_type": "code",
   "execution_count": 10,
   "id": "4dc4d4ee-c5ff-4f1c-9cf7-4a6c4888ec07",
   "metadata": {},
   "outputs": [
    {
     "data": {
      "text/plain": [
       "10"
      ]
     },
     "execution_count": 10,
     "metadata": {},
     "output_type": "execute_result"
    }
   ],
   "source": [
    "df.replace(to_replace=\"?\" , value=np.nan,inplace=True)\n",
    "df.isnull().sum().sum()"
   ]
  },
  {
   "cell_type": "markdown",
   "id": "a3cb4df5-e179-47ac-aa5a-ee85c8dac8fd",
   "metadata": {},
   "source": [
    "#### Q9) What is average of first feature (i.e. 'V1') after applyting SimpleImputer(strategy = 'median')?"
   ]
  },
  {
   "cell_type": "code",
   "execution_count": 11,
   "id": "bd0f8a6e-d61e-4dec-b2e5-a765611553e7",
   "metadata": {},
   "outputs": [
    {
     "data": {
      "text/plain": [
       "9.552139037433156"
      ]
     },
     "execution_count": 11,
     "metadata": {},
     "output_type": "execute_result"
    }
   ],
   "source": [
    "from sklearn.impute import SimpleImputer\n",
    "\n",
    "imputer = SimpleImputer(missing_values=np.nan,strategy='median')\n",
    "imputer.fit_transform(df.V1.to_frame()).mean()"
   ]
  },
  {
   "cell_type": "markdown",
   "id": "332a307a-bde5-43ff-bf3b-fc9cfa8094fc",
   "metadata": {},
   "source": [
    "#### Q10) What is average of first column after applyting KNNImputer(n_neighbors = 3)?"
   ]
  },
  {
   "cell_type": "code",
   "execution_count": 12,
   "id": "74ae9240-2548-4cdc-9f84-a0ae78d907a4",
   "metadata": {},
   "outputs": [
    {
     "data": {
      "text/plain": [
       "9.562584118438762"
      ]
     },
     "execution_count": 12,
     "metadata": {},
     "output_type": "execute_result"
    }
   ],
   "source": [
    "from sklearn.impute import KNNImputer\n",
    "\n",
    "imputer = KNNImputer(n_neighbors=3)\n",
    "imputer.fit_transform(df.V1.to_frame()).mean()"
   ]
  },
  {
   "cell_type": "markdown",
   "id": "6397831a-0445-40b8-8db2-7cd791f207a3",
   "metadata": {},
   "source": [
    "#### Q11) What is average of second feature (i.e. 'V2') after applyting SimpleImputer(strategy = 'mean')?"
   ]
  },
  {
   "cell_type": "code",
   "execution_count": 13,
   "id": "61c53bcf-2350-4e9e-8d69-a979c84a82d0",
   "metadata": {},
   "outputs": [
    {
     "data": {
      "text/plain": [
       "5.464333781965007"
      ]
     },
     "execution_count": 13,
     "metadata": {},
     "output_type": "execute_result"
    }
   ],
   "source": [
    "imputer = SimpleImputer(missing_values=np.nan , strategy='mean')\n",
    "imputer.fit_transform(df.V2.to_frame()).mean()"
   ]
  },
  {
   "cell_type": "code",
   "execution_count": null,
   "id": "fe09f010-adb0-43de-9345-9752b9a8494b",
   "metadata": {},
   "outputs": [],
   "source": []
  }
 ],
 "metadata": {
  "kernelspec": {
   "display_name": "Python 3 (ipykernel)",
   "language": "python",
   "name": "python3"
  },
  "language_info": {
   "codemirror_mode": {
    "name": "ipython",
    "version": 3
   },
   "file_extension": ".py",
   "mimetype": "text/x-python",
   "name": "python",
   "nbconvert_exporter": "python",
   "pygments_lexer": "ipython3",
   "version": "3.10.12"
  }
 },
 "nbformat": 4,
 "nbformat_minor": 5
}
