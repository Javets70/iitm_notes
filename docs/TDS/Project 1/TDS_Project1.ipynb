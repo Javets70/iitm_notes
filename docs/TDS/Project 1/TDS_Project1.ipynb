{
  "nbformat": 4,
  "nbformat_minor": 0,
  "metadata": {
    "colab": {
      "provenance": []
    },
    "kernelspec": {
      "name": "python3",
      "display_name": "Python 3"
    },
    "language_info": {
      "name": "python"
    }
  },
  "cells": [
    {
      "cell_type": "markdown",
      "source": [
        "## Extra Information\n",
        "While creating the csv file, ensure that:\n",
        "a. The csv file is utf-8 format\n",
        "b. For questions indicated with 'N', your answer is numeric and rounded to two decimal places\n",
        "c. For questions indicated with 'S', you answer is string\n",
        "d. As far as possible, answers in the csv file follow the same order as asked in the problem statement below\n",
        "A sample submission file for this is available in this \"link\"\n",
        "\n",
        "The data you need for doing this assignment can be accessed in the below link (copy paste the URL in a new tab).\n",
        "\n",
        "L12: https://www.senate.gov/legislative/LIS/roll_call_votes/vote1171/vote_117_1_00161.htm\n"
      ],
      "metadata": {
        "id": "DtLbgg_-exs5"
      }
    },
    {
      "cell_type": "markdown",
      "source": [
        "### Members Schema for Reference\n",
        "```xml\n",
        "<members>\n",
        "\t<member>\n",
        "\t\t<member_full>Baldwin (D-WI)</member_full>\n",
        "\t\t<last_name>Baldwin</last_name>\n",
        "\t\t<first_name>Tammy</first_name>\n",
        "\t\t<party>D</party>\n",
        "\t\t<state>WI</state>\n",
        "\t\t<vote_cast>Yea</vote_cast>\n",
        "\t\t<lis_member_id>S354</lis_member_id>\n",
        "\t</member>\n",
        "\t<member>\n",
        "\t\t<member_full>Barrasso (R-WY)</member_full>\n",
        "\t\t<last_name>Barrasso</last_name>\n",
        "\t\t<first_name>John</first_name>\n",
        "\t\t<party>R</party>\n",
        "\t\t<state>WY</state>\n",
        "\t\t<vote_cast>Nay</vote_cast>\n",
        "\t\t<lis_member_id>S317</lis_member_id>\n",
        "\t</member>\n",
        "</members>\n",
        "```\n"
      ],
      "metadata": {
        "id": "5EhHp-Abe740"
      }
    },
    {
      "cell_type": "code",
      "source": [
        "import xml.etree.ElementTree as ET\n",
        "tree = ET.parse(\"/content/tds project1.xml\")\n",
        "#tree = ET.parse(\"/content/tds_project_sukanya_data.xml\")\n",
        "root = tree.getroot()"
      ],
      "metadata": {
        "id": "a9PX3qQ7cOcS"
      },
      "execution_count": 2,
      "outputs": []
    },
    {
      "cell_type": "code",
      "source": [
        "members = root.find(\"members\")"
      ],
      "metadata": {
        "id": "nLz2W0kOc7ox"
      },
      "execution_count": 3,
      "outputs": []
    },
    {
      "cell_type": "markdown",
      "source": [
        "#### Q2 Answer\n",
        "How many Republicans voted \"Yea\"? N"
      ],
      "metadata": {
        "id": "Yl6hZNKGenxC"
      }
    },
    {
      "cell_type": "code",
      "source": [
        "count_repub_yea = 0\n",
        "for member in members:\n",
        "  if member.find(\"party\").text == \"R\":\n",
        "    if member.find(\"vote_cast\").text == \"Yea\":\n",
        "      count_repub_yea += 1\n",
        "\n",
        "count_repub_yea"
      ],
      "metadata": {
        "colab": {
          "base_uri": "https://localhost:8080/"
        },
        "id": "_Y44X9HIeqel",
        "outputId": "1d3b5bc5-dd4e-4f35-8584-99c4cc8d68a0"
      },
      "execution_count": 5,
      "outputs": [
        {
          "output_type": "execute_result",
          "data": {
            "text/plain": [
              "0"
            ]
          },
          "metadata": {},
          "execution_count": 5
        }
      ]
    },
    {
      "cell_type": "markdown",
      "source": [
        "#### Q11\n",
        "How many Democrats voted \"Yea\"? N"
      ],
      "metadata": {
        "id": "YIMkJZtqoBis"
      }
    },
    {
      "cell_type": "code",
      "source": [
        "count_democ_yea = 0\n",
        "for member in members:\n",
        "  if member.find(\"party\").text == \"D\":\n",
        "    if member.find(\"vote_cast\").text == \"Yea\":\n",
        "      count_democ_yea += 1\n",
        "\n",
        "count_democ_yea"
      ],
      "metadata": {
        "colab": {
          "base_uri": "https://localhost:8080/"
        },
        "id": "gB7bCeJcoIaX",
        "outputId": "13183361-1e38-480b-d1e5-30b73dc28e7c"
      },
      "execution_count": 6,
      "outputs": [
        {
          "output_type": "execute_result",
          "data": {
            "text/plain": [
              "48"
            ]
          },
          "metadata": {},
          "execution_count": 6
        }
      ]
    },
    {
      "cell_type": "markdown",
      "source": [
        "#### Q12\n",
        "How many senators voted \"Nay\"? N"
      ],
      "metadata": {
        "id": "7SPB0yaNoXLS"
      }
    },
    {
      "cell_type": "code",
      "source": [
        "count_nay = 0\n",
        "for member in members:\n",
        "  if member.find(\"vote_cast\").text == \"Nay\":\n",
        "    count_nay += 1\n",
        "\n",
        "count_nay"
      ],
      "metadata": {
        "colab": {
          "base_uri": "https://localhost:8080/"
        },
        "id": "TqKeEJ9roZ__",
        "outputId": "76ac5eea-198f-4462-8464-8e9c27f3ac01"
      },
      "execution_count": 7,
      "outputs": [
        {
          "output_type": "execute_result",
          "data": {
            "text/plain": [
              "50"
            ]
          },
          "metadata": {},
          "execution_count": 7
        }
      ]
    },
    {
      "cell_type": "markdown",
      "source": [
        "#### Q4\n",
        "How many states voted unanimously with \"Yea\"? N"
      ],
      "metadata": {
        "id": "P87N_3LoottV"
      }
    },
    {
      "cell_type": "code",
      "source": [
        "yea_states = {}\n",
        "for member in members:\n",
        "  state = member.find(\"state\").text\n",
        "  if state not in yea_states:\n",
        "    yea_states[state] = {\"member_count\" : 0 , \"yea_count\" : 0 }\n",
        "  if member.find(\"vote_cast\").text == \"Yea\":\n",
        "    yea_states[state][\"member_count\"] += 1\n",
        "    yea_states[state][\"yea_count\"] += 1\n",
        "  else:\n",
        "    yea_states[state][\"member_count\"] += 1\n",
        "\n",
        "yea_unanim_state_count = 0\n",
        "for state in yea_states.values():\n",
        "  if state[\"member_count\"] == state[\"yea_count\"]:\n",
        "    yea_unanim_state_count += 1\n",
        "\n",
        "yea_unanim_state_count"
      ],
      "metadata": {
        "colab": {
          "base_uri": "https://localhost:8080/"
        },
        "id": "WK7rUTyuowor",
        "outputId": "2458df15-341d-4f8d-ed9f-132eaf473dab"
      },
      "execution_count": 8,
      "outputs": [
        {
          "output_type": "execute_result",
          "data": {
            "text/plain": [
              "22"
            ]
          },
          "metadata": {},
          "execution_count": 8
        }
      ]
    },
    {
      "cell_type": "markdown",
      "source": [
        "#### Q3\n",
        "What is the total number of \"Yea\" votes from senators whose names start with \"B\"? N"
      ],
      "metadata": {
        "id": "l9WdJBw9rbbo"
      }
    },
    {
      "cell_type": "code",
      "source": [
        "b_name_yea_count = 0\n",
        "for member in members:\n",
        "  if member.find(\"first_name\").text[0].lower() == \"b\":\n",
        "    if member.find(\"vote_cast\").text == \"Yea\":\n",
        "      b_name_yea_count += 1\n",
        "\n",
        "b_name_yea_count"
      ],
      "metadata": {
        "colab": {
          "base_uri": "https://localhost:8080/"
        },
        "id": "OnepMetPrcxm",
        "outputId": "b3899598-e8e2-4c47-ab16-80672be30b98"
      },
      "execution_count": 9,
      "outputs": [
        {
          "output_type": "execute_result",
          "data": {
            "text/plain": [
              "5"
            ]
          },
          "metadata": {},
          "execution_count": 9
        }
      ]
    },
    {
      "cell_type": "markdown",
      "source": [
        "#### Q13\n",
        "How many states have both Democrat senators? N"
      ],
      "metadata": {
        "id": "tu_J446vsIhs"
      }
    },
    {
      "cell_type": "code",
      "source": [
        "democ_states = {}\n",
        "for member in members:\n",
        "  state = member.find(\"state\").text\n",
        "  if state not in democ_states:\n",
        "    democ_states[state] = {\"member_count\" : 0 , \"democ_count\" : 0 }\n",
        "  if member.find(\"party\").text == \"D\":\n",
        "    democ_states[state][\"member_count\"] +=1\n",
        "    democ_states[state][\"democ_count\"] +=1\n",
        "  else:\n",
        "    democ_states[state][\"member_count\"] +=1\n",
        "\n",
        "democ_state_count = 0\n",
        "for state in democ_states.values():\n",
        "  if state[\"member_count\"] == state[\"democ_count\"]:\n",
        "    democ_state_count += 1\n",
        "\n",
        "democ_state_count"
      ],
      "metadata": {
        "colab": {
          "base_uri": "https://localhost:8080/"
        },
        "id": "zvJnAHRosK7T",
        "outputId": "b6df3380-c5a6-4332-9bf4-1f87a78a9c1f"
      },
      "execution_count": 10,
      "outputs": [
        {
          "output_type": "execute_result",
          "data": {
            "text/plain": [
              "21"
            ]
          },
          "metadata": {},
          "execution_count": 10
        }
      ]
    },
    {
      "cell_type": "markdown",
      "source": [
        "#### Q14\n",
        "How many senators did not vote? N\n"
      ],
      "metadata": {
        "id": "jTlnD6ThtuOd"
      }
    },
    {
      "cell_type": "code",
      "source": [
        "not_voted = 0\n",
        "for member in members:\n",
        "  if member.find(\"vote_cast\").text not in [\"Yea\" , \"Nay\"]:\n",
        "    not_voted += 1\n",
        "\n",
        "not_voted"
      ],
      "metadata": {
        "colab": {
          "base_uri": "https://localhost:8080/"
        },
        "id": "K3DUCGcftwKI",
        "outputId": "8e9560a0-67ca-4822-cdc6-a0f6a54f6575"
      },
      "execution_count": 11,
      "outputs": [
        {
          "output_type": "execute_result",
          "data": {
            "text/plain": [
              "0"
            ]
          },
          "metadata": {},
          "execution_count": 11
        }
      ]
    },
    {
      "cell_type": "markdown",
      "source": [
        "#### Q10\n",
        "What is the highest absolute percentage difference between \"Yea\" and \"Nay\" votes among different parties? N"
      ],
      "metadata": {
        "id": "_6HLjgUdug1J"
      }
    },
    {
      "cell_type": "code",
      "source": [
        "parties = {}\n",
        "\n",
        "for member in members:\n",
        "  party = member.find(\"party\").text\n",
        "  if party not in parties:\n",
        "    parties[party] = {\"yea_count\" : 0 , \"nay_count\" : 0}\n",
        "\n",
        "  if member.find(\"vote_cast\").text == \"Yea\":\n",
        "    parties[party][\"yea_count\"] += 1\n",
        "  elif member.find(\"vote_cast\").text == \"Nay\":\n",
        "    parties[party][\"nay_count\"] += 1\n",
        "\n",
        "yea_counts = []\n",
        "nay_counts = []\n",
        "for party in parties.values():\n",
        "  yea_counts.append(party[\"yea_count\"])\n",
        "  nay_counts.append(party[\"nay_count\"])\n",
        "\n",
        "yea_counts_sum = sum(yea_counts)\n",
        "nay_counts_sum = sum(nay_counts)\n",
        "\n",
        "yea_counts = list(map(lambda x : x / yea_counts_sum , yea_counts)) # converting to percentage\n",
        "nay_counts = list(map(lambda x : x / nay_counts_sum , nay_counts))\n",
        "\n",
        "highest_diff = max(max(yea_counts) - min(nay_counts) , max(nay_counts) - min(yea_counts)) #highest abs diff\n",
        "highest_diff"
      ],
      "metadata": {
        "colab": {
          "base_uri": "https://localhost:8080/"
        },
        "id": "-etvElE2ujLn",
        "outputId": "630656c0-28c4-4a73-b0e3-30c590191b14"
      },
      "execution_count": 21,
      "outputs": [
        {
          "output_type": "execute_result",
          "data": {
            "text/plain": [
              "1.0"
            ]
          },
          "metadata": {},
          "execution_count": 21
        }
      ]
    },
    {
      "cell_type": "markdown",
      "source": [
        "#### Q15\n",
        "What is the ratio of the number of rows to the number of columns in your dataset? N"
      ],
      "metadata": {
        "id": "bAifaW3bxoPS"
      }
    },
    {
      "cell_type": "code",
      "source": [
        "# not sure about this\n",
        "# 4 useful columns , first_name , party , vote_cast , state\n",
        "len(members) / 4"
      ],
      "metadata": {
        "colab": {
          "base_uri": "https://localhost:8080/"
        },
        "id": "CfRQ2YdkxptD",
        "outputId": "f4ba4595-8d52-4be9-c11c-db27dfce8800"
      },
      "execution_count": 16,
      "outputs": [
        {
          "output_type": "execute_result",
          "data": {
            "text/plain": [
              "25.0"
            ]
          },
          "metadata": {},
          "execution_count": 16
        }
      ]
    },
    {
      "cell_type": "markdown",
      "source": [
        "#### Q1\n",
        "How many Democrats did not vote? N"
      ],
      "metadata": {
        "id": "r172kYfIynbl"
      }
    },
    {
      "cell_type": "code",
      "source": [
        "democ_not_voted = 0\n",
        "for member in members:\n",
        "  if member.find(\"vote_cast\").text not in [\"Yea\" , \"Nay\"]:\n",
        "    if member.find(\"party\").text == \"D\":\n",
        "      democ_not_voted += 1\n",
        "\n",
        "democ_not_voted"
      ],
      "metadata": {
        "colab": {
          "base_uri": "https://localhost:8080/"
        },
        "id": "DsZsYcc1ypOG",
        "outputId": "4cd1f8c5-8f25-4bee-d3d4-1946d48288ab"
      },
      "execution_count": 17,
      "outputs": [
        {
          "output_type": "execute_result",
          "data": {
            "text/plain": [
              "0"
            ]
          },
          "metadata": {},
          "execution_count": 17
        }
      ]
    }
  ]
}