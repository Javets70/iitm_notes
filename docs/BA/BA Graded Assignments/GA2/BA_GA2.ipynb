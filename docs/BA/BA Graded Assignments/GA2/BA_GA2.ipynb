{
  "nbformat": 4,
  "nbformat_minor": 0,
  "metadata": {
    "colab": {
      "provenance": []
    },
    "kernelspec": {
      "name": "python3",
      "display_name": "Python 3"
    },
    "language_info": {
      "name": "python"
    }
  },
  "cells": [
    {
      "cell_type": "code",
      "execution_count": 1,
      "metadata": {
        "id": "4LtB1Ni-Be3r"
      },
      "outputs": [],
      "source": [
        "import pandas as pd\n",
        "import numpy as np\n",
        "import matplotlib.pyplot as plt\n",
        "\n",
        "from sklearn.linear_model import LinearRegression\n",
        "from sklearn.metrics import r2_score"
      ]
    },
    {
      "cell_type": "code",
      "source": [
        "df = pd.read_excel(\"/content/data_transform.xlsx\")\n",
        "df.head()"
      ],
      "metadata": {
        "colab": {
          "base_uri": "https://localhost:8080/",
          "height": 206
        },
        "id": "dL5WZQHCCC6c",
        "outputId": "e1d084a1-85bf-47f6-a37b-abeca85bb91a"
      },
      "execution_count": 2,
      "outputs": [
        {
          "output_type": "execute_result",
          "data": {
            "text/plain": [
              "   Price  Sales\n",
              "0   2.20   68.9\n",
              "1   7.48   15.6\n",
              "2   7.26   19.5\n",
              "3   3.08   35.1\n",
              "4   8.14   10.4"
            ],
            "text/html": [
              "\n",
              "  <div id=\"df-1e940635-fd80-42b4-a7fd-f8e5fd3c0359\" class=\"colab-df-container\">\n",
              "    <div>\n",
              "<style scoped>\n",
              "    .dataframe tbody tr th:only-of-type {\n",
              "        vertical-align: middle;\n",
              "    }\n",
              "\n",
              "    .dataframe tbody tr th {\n",
              "        vertical-align: top;\n",
              "    }\n",
              "\n",
              "    .dataframe thead th {\n",
              "        text-align: right;\n",
              "    }\n",
              "</style>\n",
              "<table border=\"1\" class=\"dataframe\">\n",
              "  <thead>\n",
              "    <tr style=\"text-align: right;\">\n",
              "      <th></th>\n",
              "      <th>Price</th>\n",
              "      <th>Sales</th>\n",
              "    </tr>\n",
              "  </thead>\n",
              "  <tbody>\n",
              "    <tr>\n",
              "      <th>0</th>\n",
              "      <td>2.20</td>\n",
              "      <td>68.9</td>\n",
              "    </tr>\n",
              "    <tr>\n",
              "      <th>1</th>\n",
              "      <td>7.48</td>\n",
              "      <td>15.6</td>\n",
              "    </tr>\n",
              "    <tr>\n",
              "      <th>2</th>\n",
              "      <td>7.26</td>\n",
              "      <td>19.5</td>\n",
              "    </tr>\n",
              "    <tr>\n",
              "      <th>3</th>\n",
              "      <td>3.08</td>\n",
              "      <td>35.1</td>\n",
              "    </tr>\n",
              "    <tr>\n",
              "      <th>4</th>\n",
              "      <td>8.14</td>\n",
              "      <td>10.4</td>\n",
              "    </tr>\n",
              "  </tbody>\n",
              "</table>\n",
              "</div>\n",
              "    <div class=\"colab-df-buttons\">\n",
              "\n",
              "  <div class=\"colab-df-container\">\n",
              "    <button class=\"colab-df-convert\" onclick=\"convertToInteractive('df-1e940635-fd80-42b4-a7fd-f8e5fd3c0359')\"\n",
              "            title=\"Convert this dataframe to an interactive table.\"\n",
              "            style=\"display:none;\">\n",
              "\n",
              "  <svg xmlns=\"http://www.w3.org/2000/svg\" height=\"24px\" viewBox=\"0 -960 960 960\">\n",
              "    <path d=\"M120-120v-720h720v720H120Zm60-500h600v-160H180v160Zm220 220h160v-160H400v160Zm0 220h160v-160H400v160ZM180-400h160v-160H180v160Zm440 0h160v-160H620v160ZM180-180h160v-160H180v160Zm440 0h160v-160H620v160Z\"/>\n",
              "  </svg>\n",
              "    </button>\n",
              "\n",
              "  <style>\n",
              "    .colab-df-container {\n",
              "      display:flex;\n",
              "      gap: 12px;\n",
              "    }\n",
              "\n",
              "    .colab-df-convert {\n",
              "      background-color: #E8F0FE;\n",
              "      border: none;\n",
              "      border-radius: 50%;\n",
              "      cursor: pointer;\n",
              "      display: none;\n",
              "      fill: #1967D2;\n",
              "      height: 32px;\n",
              "      padding: 0 0 0 0;\n",
              "      width: 32px;\n",
              "    }\n",
              "\n",
              "    .colab-df-convert:hover {\n",
              "      background-color: #E2EBFA;\n",
              "      box-shadow: 0px 1px 2px rgba(60, 64, 67, 0.3), 0px 1px 3px 1px rgba(60, 64, 67, 0.15);\n",
              "      fill: #174EA6;\n",
              "    }\n",
              "\n",
              "    .colab-df-buttons div {\n",
              "      margin-bottom: 4px;\n",
              "    }\n",
              "\n",
              "    [theme=dark] .colab-df-convert {\n",
              "      background-color: #3B4455;\n",
              "      fill: #D2E3FC;\n",
              "    }\n",
              "\n",
              "    [theme=dark] .colab-df-convert:hover {\n",
              "      background-color: #434B5C;\n",
              "      box-shadow: 0px 1px 3px 1px rgba(0, 0, 0, 0.15);\n",
              "      filter: drop-shadow(0px 1px 2px rgba(0, 0, 0, 0.3));\n",
              "      fill: #FFFFFF;\n",
              "    }\n",
              "  </style>\n",
              "\n",
              "    <script>\n",
              "      const buttonEl =\n",
              "        document.querySelector('#df-1e940635-fd80-42b4-a7fd-f8e5fd3c0359 button.colab-df-convert');\n",
              "      buttonEl.style.display =\n",
              "        google.colab.kernel.accessAllowed ? 'block' : 'none';\n",
              "\n",
              "      async function convertToInteractive(key) {\n",
              "        const element = document.querySelector('#df-1e940635-fd80-42b4-a7fd-f8e5fd3c0359');\n",
              "        const dataTable =\n",
              "          await google.colab.kernel.invokeFunction('convertToInteractive',\n",
              "                                                    [key], {});\n",
              "        if (!dataTable) return;\n",
              "\n",
              "        const docLinkHtml = 'Like what you see? Visit the ' +\n",
              "          '<a target=\"_blank\" href=https://colab.research.google.com/notebooks/data_table.ipynb>data table notebook</a>'\n",
              "          + ' to learn more about interactive tables.';\n",
              "        element.innerHTML = '';\n",
              "        dataTable['output_type'] = 'display_data';\n",
              "        await google.colab.output.renderOutput(dataTable, element);\n",
              "        const docLink = document.createElement('div');\n",
              "        docLink.innerHTML = docLinkHtml;\n",
              "        element.appendChild(docLink);\n",
              "      }\n",
              "    </script>\n",
              "  </div>\n",
              "\n",
              "\n",
              "<div id=\"df-ddedc06a-4a78-46c8-877c-b3746264f362\">\n",
              "  <button class=\"colab-df-quickchart\" onclick=\"quickchart('df-ddedc06a-4a78-46c8-877c-b3746264f362')\"\n",
              "            title=\"Suggest charts\"\n",
              "            style=\"display:none;\">\n",
              "\n",
              "<svg xmlns=\"http://www.w3.org/2000/svg\" height=\"24px\"viewBox=\"0 0 24 24\"\n",
              "     width=\"24px\">\n",
              "    <g>\n",
              "        <path d=\"M19 3H5c-1.1 0-2 .9-2 2v14c0 1.1.9 2 2 2h14c1.1 0 2-.9 2-2V5c0-1.1-.9-2-2-2zM9 17H7v-7h2v7zm4 0h-2V7h2v10zm4 0h-2v-4h2v4z\"/>\n",
              "    </g>\n",
              "</svg>\n",
              "  </button>\n",
              "\n",
              "<style>\n",
              "  .colab-df-quickchart {\n",
              "      --bg-color: #E8F0FE;\n",
              "      --fill-color: #1967D2;\n",
              "      --hover-bg-color: #E2EBFA;\n",
              "      --hover-fill-color: #174EA6;\n",
              "      --disabled-fill-color: #AAA;\n",
              "      --disabled-bg-color: #DDD;\n",
              "  }\n",
              "\n",
              "  [theme=dark] .colab-df-quickchart {\n",
              "      --bg-color: #3B4455;\n",
              "      --fill-color: #D2E3FC;\n",
              "      --hover-bg-color: #434B5C;\n",
              "      --hover-fill-color: #FFFFFF;\n",
              "      --disabled-bg-color: #3B4455;\n",
              "      --disabled-fill-color: #666;\n",
              "  }\n",
              "\n",
              "  .colab-df-quickchart {\n",
              "    background-color: var(--bg-color);\n",
              "    border: none;\n",
              "    border-radius: 50%;\n",
              "    cursor: pointer;\n",
              "    display: none;\n",
              "    fill: var(--fill-color);\n",
              "    height: 32px;\n",
              "    padding: 0;\n",
              "    width: 32px;\n",
              "  }\n",
              "\n",
              "  .colab-df-quickchart:hover {\n",
              "    background-color: var(--hover-bg-color);\n",
              "    box-shadow: 0 1px 2px rgba(60, 64, 67, 0.3), 0 1px 3px 1px rgba(60, 64, 67, 0.15);\n",
              "    fill: var(--button-hover-fill-color);\n",
              "  }\n",
              "\n",
              "  .colab-df-quickchart-complete:disabled,\n",
              "  .colab-df-quickchart-complete:disabled:hover {\n",
              "    background-color: var(--disabled-bg-color);\n",
              "    fill: var(--disabled-fill-color);\n",
              "    box-shadow: none;\n",
              "  }\n",
              "\n",
              "  .colab-df-spinner {\n",
              "    border: 2px solid var(--fill-color);\n",
              "    border-color: transparent;\n",
              "    border-bottom-color: var(--fill-color);\n",
              "    animation:\n",
              "      spin 1s steps(1) infinite;\n",
              "  }\n",
              "\n",
              "  @keyframes spin {\n",
              "    0% {\n",
              "      border-color: transparent;\n",
              "      border-bottom-color: var(--fill-color);\n",
              "      border-left-color: var(--fill-color);\n",
              "    }\n",
              "    20% {\n",
              "      border-color: transparent;\n",
              "      border-left-color: var(--fill-color);\n",
              "      border-top-color: var(--fill-color);\n",
              "    }\n",
              "    30% {\n",
              "      border-color: transparent;\n",
              "      border-left-color: var(--fill-color);\n",
              "      border-top-color: var(--fill-color);\n",
              "      border-right-color: var(--fill-color);\n",
              "    }\n",
              "    40% {\n",
              "      border-color: transparent;\n",
              "      border-right-color: var(--fill-color);\n",
              "      border-top-color: var(--fill-color);\n",
              "    }\n",
              "    60% {\n",
              "      border-color: transparent;\n",
              "      border-right-color: var(--fill-color);\n",
              "    }\n",
              "    80% {\n",
              "      border-color: transparent;\n",
              "      border-right-color: var(--fill-color);\n",
              "      border-bottom-color: var(--fill-color);\n",
              "    }\n",
              "    90% {\n",
              "      border-color: transparent;\n",
              "      border-bottom-color: var(--fill-color);\n",
              "    }\n",
              "  }\n",
              "</style>\n",
              "\n",
              "  <script>\n",
              "    async function quickchart(key) {\n",
              "      const quickchartButtonEl =\n",
              "        document.querySelector('#' + key + ' button');\n",
              "      quickchartButtonEl.disabled = true;  // To prevent multiple clicks.\n",
              "      quickchartButtonEl.classList.add('colab-df-spinner');\n",
              "      try {\n",
              "        const charts = await google.colab.kernel.invokeFunction(\n",
              "            'suggestCharts', [key], {});\n",
              "      } catch (error) {\n",
              "        console.error('Error during call to suggestCharts:', error);\n",
              "      }\n",
              "      quickchartButtonEl.classList.remove('colab-df-spinner');\n",
              "      quickchartButtonEl.classList.add('colab-df-quickchart-complete');\n",
              "    }\n",
              "    (() => {\n",
              "      let quickchartButtonEl =\n",
              "        document.querySelector('#df-ddedc06a-4a78-46c8-877c-b3746264f362 button');\n",
              "      quickchartButtonEl.style.display =\n",
              "        google.colab.kernel.accessAllowed ? 'block' : 'none';\n",
              "    })();\n",
              "  </script>\n",
              "</div>\n",
              "    </div>\n",
              "  </div>\n"
            ]
          },
          "metadata": {},
          "execution_count": 2
        }
      ]
    },
    {
      "cell_type": "code",
      "source": [
        "X = df.iloc[:,0].values\n",
        "y = df.iloc[:,1].values"
      ],
      "metadata": {
        "id": "D96ZBtuTCYwK"
      },
      "execution_count": 3,
      "outputs": []
    },
    {
      "cell_type": "code",
      "source": [
        "plt.scatter(X,y)\n",
        "plt.show()"
      ],
      "metadata": {
        "colab": {
          "base_uri": "https://localhost:8080/",
          "height": 430
        },
        "id": "2wBgT4oWC4L6",
        "outputId": "bca8a635-933d-450b-f459-fcabc2e2e3ab"
      },
      "execution_count": 4,
      "outputs": [
        {
          "output_type": "display_data",
          "data": {
            "text/plain": [
              "<Figure size 640x480 with 1 Axes>"
            ],
            "image/png": "[encoded data removed]"
          },
          "metadata": {}
        }
      ]
    },
    {
      "cell_type": "code",
      "source": [
        "regressor = LinearRegression()\n",
        "regressor.fit(X.reshape(-1,1),y)"
      ],
      "metadata": {
        "colab": {
          "base_uri": "https://localhost:8080/",
          "height": 75
        },
        "id": "td4-ZPhWDF-s",
        "outputId": "fca6858e-9e03-4e8a-f82e-90ea4fee07e1"
      },
      "execution_count": 5,
      "outputs": [
        {
          "output_type": "execute_result",
          "data": {
            "text/plain": [
              "LinearRegression()"
            ],
            "text/html": [
              "<style>#sk-container-id-1 {color: black;background-color: white;}#sk-container-id-1 pre{padding: 0;}#sk-container-id-1 div.sk-toggleable {background-color: white;}#sk-container-id-1 label.sk-toggleable__label {cursor: pointer;display: block;width: 100%;margin-bottom: 0;padding: 0.3em;box-sizing: border-box;text-align: center;}#sk-container-id-1 label.sk-toggleable__label-arrow:before {content: \"▸\";float: left;margin-right: 0.25em;color: #696969;}#sk-container-id-1 label.sk-toggleable__label-arrow:hover:before {color: black;}#sk-container-id-1 div.sk-estimator:hover label.sk-toggleable__label-arrow:before {color: black;}#sk-container-id-1 div.sk-toggleable__content {max-height: 0;max-width: 0;overflow: hidden;text-align: left;background-color: #f0f8ff;}#sk-container-id-1 div.sk-toggleable__content pre {margin: 0.2em;color: black;border-radius: 0.25em;background-color: #f0f8ff;}#sk-container-id-1 input.sk-toggleable__control:checked~div.sk-toggleable__content {max-height: 200px;max-width: 100%;overflow: auto;}#sk-container-id-1 input.sk-toggleable__control:checked~label.sk-toggleable__label-arrow:before {content: \"▾\";}#sk-container-id-1 div.sk-estimator input.sk-toggleable__control:checked~label.sk-toggleable__label {background-color: #d4ebff;}#sk-container-id-1 div.sk-label input.sk-toggleable__control:checked~label.sk-toggleable__label {background-color: #d4ebff;}#sk-container-id-1 input.sk-hidden--visually {border: 0;clip: rect(1px 1px 1px 1px);clip: rect(1px, 1px, 1px, 1px);height: 1px;margin: -1px;overflow: hidden;padding: 0;position: absolute;width: 1px;}#sk-container-id-1 div.sk-estimator {font-family: monospace;background-color: #f0f8ff;border: 1px dotted black;border-radius: 0.25em;box-sizing: border-box;margin-bottom: 0.5em;}#sk-container-id-1 div.sk-estimator:hover {background-color: #d4ebff;}#sk-container-id-1 div.sk-parallel-item::after {content: \"\";width: 100%;border-bottom: 1px solid gray;flex-grow: 1;}#sk-container-id-1 div.sk-label:hover label.sk-toggleable__label {background-color: #d4ebff;}#sk-container-id-1 div.sk-serial::before {content: \"\";position: absolute;border-left: 1px solid gray;box-sizing: border-box;top: 0;bottom: 0;left: 50%;z-index: 0;}#sk-container-id-1 div.sk-serial {display: flex;flex-direction: column;align-items: center;background-color: white;padding-right: 0.2em;padding-left: 0.2em;position: relative;}#sk-container-id-1 div.sk-item {position: relative;z-index: 1;}#sk-container-id-1 div.sk-parallel {display: flex;align-items: stretch;justify-content: center;background-color: white;position: relative;}#sk-container-id-1 div.sk-item::before, #sk-container-id-1 div.sk-parallel-item::before {content: \"\";position: absolute;border-left: 1px solid gray;box-sizing: border-box;top: 0;bottom: 0;left: 50%;z-index: -1;}#sk-container-id-1 div.sk-parallel-item {display: flex;flex-direction: column;z-index: 1;position: relative;background-color: white;}#sk-container-id-1 div.sk-parallel-item:first-child::after {align-self: flex-end;width: 50%;}#sk-container-id-1 div.sk-parallel-item:last-child::after {align-self: flex-start;width: 50%;}#sk-container-id-1 div.sk-parallel-item:only-child::after {width: 0;}#sk-container-id-1 div.sk-dashed-wrapped {border: 1px dashed gray;margin: 0 0.4em 0.5em 0.4em;box-sizing: border-box;padding-bottom: 0.4em;background-color: white;}#sk-container-id-1 div.sk-label label {font-family: monospace;font-weight: bold;display: inline-block;line-height: 1.2em;}#sk-container-id-1 div.sk-label-container {text-align: center;}#sk-container-id-1 div.sk-container {/* jupyter's `normalize.less` sets `[hidden] { display: none; }` but bootstrap.min.css set `[hidden] { display: none !important; }` so we also need the `!important` here to be able to override the default hidden behavior on the sphinx rendered scikit-learn.org. See: https://github.com/scikit-learn/scikit-learn/issues/21755 */display: inline-block !important;position: relative;}#sk-container-id-1 div.sk-text-repr-fallback {display: none;}</style><div id=\"sk-container-id-1\" class=\"sk-top-container\"><div class=\"sk-text-repr-fallback\"><pre>LinearRegression()</pre><b>In a Jupyter environment, please rerun this cell to show the HTML representation or trust the notebook. <br />On GitHub, the HTML representation is unable to render, please try loading this page with nbviewer.org.</b></div><div class=\"sk-container\" hidden><div class=\"sk-item\"><div class=\"sk-estimator sk-toggleable\"><input class=\"sk-toggleable__control sk-hidden--visually\" id=\"sk-estimator-id-1\" type=\"checkbox\" checked><label for=\"sk-estimator-id-1\" class=\"sk-toggleable__label sk-toggleable__label-arrow\">LinearRegression</label><div class=\"sk-toggleable__content\"><pre>LinearRegression()</pre></div></div></div></div></div>"
            ]
          },
          "metadata": {},
          "execution_count": 5
        }
      ]
    },
    {
      "cell_type": "markdown",
      "source": [
        "#### Q3 and Q4 Answer\n",
        "**Q3** What is the value of the intercept?\n",
        "\n",
        "**Q4** What is the value of the slope?"
      ],
      "metadata": {
        "id": "GOwUE0cHF9uP"
      }
    },
    {
      "cell_type": "code",
      "source": [
        "regressor.intercept_ , regressor.coef_"
      ],
      "metadata": {
        "colab": {
          "base_uri": "https://localhost:8080/"
        },
        "id": "he81e-BMEUeH",
        "outputId": "00826033-e0f5-446a-df43-34a0d4c4c77c"
      },
      "execution_count": 6,
      "outputs": [
        {
          "output_type": "execute_result",
          "data": {
            "text/plain": [
              "(103.9905130279435, array([-12.53035206]))"
            ]
          },
          "metadata": {},
          "execution_count": 6
        }
      ]
    },
    {
      "cell_type": "markdown",
      "source": [
        "#### Q1 Answer\n",
        "\n",
        "What is the r-square value (round off to two decimals)"
      ],
      "metadata": {
        "id": "mS4Clx9xFucY"
      }
    },
    {
      "cell_type": "code",
      "source": [
        "y_pred = regressor.predict(X.reshape(-1,1))\n",
        "\n",
        "r2_score(y,y_pred)"
      ],
      "metadata": {
        "colab": {
          "base_uri": "https://localhost:8080/"
        },
        "id": "EVNwqkx8Eyyh",
        "outputId": "12ffec64-0dba-4f9f-af06-4755b9cbb91c"
      },
      "execution_count": 7,
      "outputs": [
        {
          "output_type": "execute_result",
          "data": {
            "text/plain": [
              "0.526362004567087"
            ]
          },
          "metadata": {},
          "execution_count": 7
        }
      ]
    },
    {
      "cell_type": "markdown",
      "source": [
        "### How to Transform?\n",
        "From the plot above , we can see that the curve of the plot follows the curve of this circle in the bottom-left (3rd quadrant).\n",
        "\n",
        "So we will be transforming both $x$ and $y$.\n",
        "\n",
        "![image.png](data:image/png;base64,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)\n"
      ],
      "metadata": {
        "id": "Iydd9ECfULYt"
      }
    },
    {
      "cell_type": "markdown",
      "source": [
        "All the `_new` variables refer to the transformed data"
      ],
      "metadata": {
        "id": "mRMtaa6ZJXls"
      }
    },
    {
      "cell_type": "code",
      "source": [
        "y_new = np.log(y)\n",
        "X_new = np.log(X)\n",
        "plt.scatter(X_new,y_new)\n",
        "plt.show()"
      ],
      "metadata": {
        "colab": {
          "base_uri": "https://localhost:8080/",
          "height": 430
        },
        "id": "NDDSYknhJFWB",
        "outputId": "7892608a-0cd6-4af2-89ac-80cdd5cd0773"
      },
      "execution_count": 9,
      "outputs": [
        {
          "output_type": "display_data",
          "data": {
            "text/plain": [
              "<Figure size 640x480 with 1 Axes>"
            ],
            "image/png": "[encoded data removed]"
          },
          "metadata": {}
        }
      ]
    },
    {
      "cell_type": "markdown",
      "source": [
        "#### Q7 and Q8 Answer\n",
        "**Q7** What is the value of the intercept?\n",
        "\n",
        "**Q8** What is the value of the slope?"
      ],
      "metadata": {
        "id": "Y2wNFT1jKEXW"
      }
    },
    {
      "cell_type": "code",
      "source": [
        "regressor_new = LinearRegression()\n",
        "regressor_new.fit(X_new.reshape(-1,1) , y_new)\n",
        "\n",
        "regressor_new.intercept_ , regressor_new.coef_"
      ],
      "metadata": {
        "colab": {
          "base_uri": "https://localhost:8080/"
        },
        "id": "MFN5ZsvkJQ0L",
        "outputId": "1ab32ebe-2208-4412-a05f-a7c66d8503d6"
      },
      "execution_count": 19,
      "outputs": [
        {
          "output_type": "execute_result",
          "data": {
            "text/plain": [
              "(5.484836430631702, array([-1.38142938]))"
            ]
          },
          "metadata": {},
          "execution_count": 19
        }
      ]
    },
    {
      "cell_type": "markdown",
      "source": [
        "#### Q5 Answer\n",
        "What is the value of R2 on the transformed dataset"
      ],
      "metadata": {
        "id": "TSDWtHAmK6Kx"
      }
    },
    {
      "cell_type": "code",
      "source": [
        "y_new_pred = regressor_new.predict(X_new.reshape(-1,1))\n",
        "\n",
        "r2_score(y_new,y_new_pred)"
      ],
      "metadata": {
        "colab": {
          "base_uri": "https://localhost:8080/"
        },
        "id": "xLxkt4HvKUYx",
        "outputId": "a94a3631-8ae3-4ece-a33a-49908b3b2ff0"
      },
      "execution_count": 11,
      "outputs": [
        {
          "output_type": "execute_result",
          "data": {
            "text/plain": [
              "0.7600188204501925"
            ]
          },
          "metadata": {},
          "execution_count": 11
        }
      ]
    },
    {
      "cell_type": "markdown",
      "source": [
        "All the `<var>2` variables refer to the second half of the questions"
      ],
      "metadata": {
        "id": "2zA3uY1Ia_ah"
      }
    },
    {
      "cell_type": "markdown",
      "source": [
        "### Extra Info (Second Half)\n",
        "Pandya Motors, a passenger car manufacturer, wants to predict the profit for its cars based on the expenditure spent on areas like safety features, tech features, and marketing. Every car has multiple variants like the base model, middle variant, top model, automatic gearbox, etc. Based on the data provided, build a linear regression model and predict the profit. Use the instructions provided below.\n",
        "\n",
        "\ti. You are provided with two excel files: X.xlsx and y.xlsx, where X is the feature matrix, and y is the target variable.\n",
        "\n",
        "\tii. Use only Google Collab for doing this assignment as we have created the scoring scheme based on the results obtained from Google Collab.\n",
        "\n",
        "\tiii. Do not do any kind of feature engineering as the data is already feature-engineered and ready to be used for building the regression model.\n",
        "\n",
        "\tiv. Use train_test_split from sklearn.model_selection and keep the test_size = 0.2, random_state = 0\n",
        "\n",
        "\tv. Next, use LinearRegression from sklearn.linear_model and build the regression model\n",
        "\n",
        "\tvi. As usual, fit the model on X_train and y_train\n",
        "  \n",
        "\tvii. Then predict on X_test\n"
      ],
      "metadata": {
        "id": "zOVKb0rZbftM"
      }
    },
    {
      "cell_type": "code",
      "source": [
        "from sklearn.model_selection import train_test_split"
      ],
      "metadata": {
        "id": "6lpxVrrCagAF"
      },
      "execution_count": 12,
      "outputs": []
    },
    {
      "cell_type": "code",
      "source": [
        "X2 = pd.read_excel(\"/content/X.xlsx\")\n",
        "y2 = pd.read_excel(\"/content/y.xlsx\")"
      ],
      "metadata": {
        "id": "Pf9XrVgWamt7"
      },
      "execution_count": 13,
      "outputs": []
    },
    {
      "cell_type": "code",
      "source": [
        "X_train , X_test , y_train , y_test = train_test_split(X2 , y2 , test_size=0.2 , random_state = 0)"
      ],
      "metadata": {
        "id": "XKkiLGsmbMgC"
      },
      "execution_count": 14,
      "outputs": []
    },
    {
      "cell_type": "markdown",
      "source": [
        "#### Q10 Answer\n",
        "What is the value of the intercept?"
      ],
      "metadata": {
        "id": "F3yrdXWycuV6"
      }
    },
    {
      "cell_type": "code",
      "source": [
        "model_fit = LinearRegression()\n",
        "model_fit.fit(X_train , y_train)\n",
        "\n",
        "model_fit.intercept_"
      ],
      "metadata": {
        "colab": {
          "base_uri": "https://localhost:8080/"
        },
        "id": "hw7Zowtrbx0X",
        "outputId": "816ae801-98fa-40b0-fbff-d7be3a06b559"
      },
      "execution_count": 20,
      "outputs": [
        {
          "output_type": "execute_result",
          "data": {
            "text/plain": [
              "array([69744.98712385])"
            ]
          },
          "metadata": {},
          "execution_count": 20
        }
      ]
    },
    {
      "cell_type": "markdown",
      "source": [
        "#### Q9 Answer\n",
        "\n",
        "What is the r² of the model?"
      ],
      "metadata": {
        "id": "0bL5bMKmccw9"
      }
    },
    {
      "cell_type": "code",
      "source": [
        "y_pred = model_fit.predict(X_test)\n",
        "\n",
        "r2_score(y_test , y_pred)"
      ],
      "metadata": {
        "colab": {
          "base_uri": "https://localhost:8080/"
        },
        "id": "veqZnqOvb_Of",
        "outputId": "1f75dd72-8a93-480c-a83f-0d075ccc4f70"
      },
      "execution_count": 16,
      "outputs": [
        {
          "output_type": "execute_result",
          "data": {
            "text/plain": [
              "0.9347068473282426"
            ]
          },
          "metadata": {},
          "execution_count": 16
        }
      ]
    },
    {
      "cell_type": "markdown",
      "source": [
        "#### Q11 Answer\n",
        "\n",
        "If X1 = 1315.46, X2 = 115816.21, X4 = 297114.46, X5 = 1, X6 = 0, then predict the profit from your linear regression model\n",
        "\n",
        "> I am taking the line eq to be y = mx + c"
      ],
      "metadata": {
        "id": "IPnOC1h1dGws"
      }
    },
    {
      "cell_type": "code",
      "source": [
        "# not sure about this\n",
        "X2_new = [1315.46 , 115816.21 , 297114.46 , 1 , 0]\n",
        "mx = 0\n",
        "for i in range(len(model_fit.coef_[0])):\n",
        "  mx += model_fit.coef_[0][i] * X2_new[i]\n",
        "\n",
        "mx + model_fit.intercept_"
      ],
      "metadata": {
        "colab": {
          "base_uri": "https://localhost:8080/"
        },
        "id": "kcDYxsqDdGVT",
        "outputId": "e2d93917-9607-47c8-c264-375e93648e0d"
      },
      "execution_count": 17,
      "outputs": [
        {
          "output_type": "execute_result",
          "data": {
            "text/plain": [
              "array([84489.1056363])"
            ]
          },
          "metadata": {},
          "execution_count": 17
        }
      ]
    }
  ]
}